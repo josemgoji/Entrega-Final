{
 "cells": [
  {
   "cell_type": "markdown",
   "metadata": {},
   "source": [
    "# Modelos_NaiveBayes_LDA"
   ]
  },
  {
   "cell_type": "code",
   "execution_count": 261,
   "metadata": {},
   "outputs": [],
   "source": [
    "\n",
    "import pandas as pd\n",
    "import numpy as np\n",
    "import seaborn as sns\n",
    "import matplotlib.pyplot as plt\n",
    "import os\n",
    "import sys\n",
    "from sklearn.model_selection import cross_validate , StratifiedKFold, cross_val_predict\n",
    "from sklearn.linear_model import LogisticRegression\n",
    "from sklearn.naive_bayes import GaussianNB\n",
    "from sklearn.discriminant_analysis import LinearDiscriminantAnalysis\n",
    "from sklearn.preprocessing import StandardScaler\n",
    "from sklearn.pipeline import make_pipeline\n",
    "from sklearn.metrics import roc_curve, auc, make_scorer , confusion_matrix, classification_report, ConfusionMatrixDisplay\n",
    "from sklearn.metrics import accuracy_score, confusion_matrix, roc_auc_score, precision_score, recall_score, roc_curve, f1_score, average_precision_score\n",
    "from sklearn.model_selection import KFold\n",
    "from sklearn.model_selection import StratifiedKFold\n",
    "from imblearn.over_sampling import RandomOverSampler\n",
    "\n",
    "\n"
   ]
  },
  {
   "cell_type": "code",
   "execution_count": 262,
   "metadata": {},
   "outputs": [],
   "source": [
    "current_dir = os.getcwd() # Obtener la ruta del directorio actual del notebook\n",
    "ROOT_PATH = os.path.dirname(current_dir) # Obtener la ruta del directorio superior\n",
    "sys.path.insert(1, ROOT_PATH) # Insertar la ruta en sys.path\n",
    "\n",
    "import root # Importar el módulo root"
   ]
  },
  {
   "cell_type": "markdown",
   "metadata": {},
   "source": [
    "## Modelos info users"
   ]
  },
  {
   "cell_type": "code",
   "execution_count": 263,
   "metadata": {},
   "outputs": [],
   "source": [
    "file_path = root.DIR_DATA_STAGE + 'train_infousers.csv'"
   ]
  },
  {
   "cell_type": "code",
   "execution_count": 264,
   "metadata": {},
   "outputs": [
    {
     "data": {
      "text/html": [
       "<div>\n",
       "<style scoped>\n",
       "    .dataframe tbody tr th:only-of-type {\n",
       "        vertical-align: middle;\n",
       "    }\n",
       "\n",
       "    .dataframe tbody tr th {\n",
       "        vertical-align: top;\n",
       "    }\n",
       "\n",
       "    .dataframe thead th {\n",
       "        text-align: right;\n",
       "    }\n",
       "</style>\n",
       "<table border=\"1\" class=\"dataframe\">\n",
       "  <thead>\n",
       "    <tr style=\"text-align: right;\">\n",
       "      <th></th>\n",
       "      <th>PLAZO</th>\n",
       "      <th>CAPITAL</th>\n",
       "      <th>DÍAS MORA</th>\n",
       "      <th>INGRESOS MENSUALES</th>\n",
       "      <th>GASTOS MENSUALES</th>\n",
       "      <th>NUM.CREDITOS SOLICITADOS</th>\n",
       "      <th>latitud</th>\n",
       "      <th>longitud</th>\n",
       "      <th>meses_transcurridos</th>\n",
       "      <th>mes_de_pago</th>\n",
       "      <th>TIPO EMPLEO_independiente</th>\n",
       "      <th>TIPO DE VIVIENDA_propia</th>\n",
       "      <th>ESTADO CIVIL_soltero/a</th>\n",
       "      <th>ESTADO CIVIL_union libre</th>\n",
       "      <th>NIVEL EDUCATIVO_postgrado</th>\n",
       "      <th>NIVEL EDUCATIVO_profesional</th>\n",
       "      <th>NIVEL EDUCATIVO_secundaria</th>\n",
       "      <th>NIVEL EDUCATIVO_tecnico</th>\n",
       "      <th>Cuotas en mora</th>\n",
       "    </tr>\n",
       "  </thead>\n",
       "  <tbody>\n",
       "    <tr>\n",
       "      <th>0</th>\n",
       "      <td>30.0</td>\n",
       "      <td>0.25</td>\n",
       "      <td>1445.0</td>\n",
       "      <td>3.000000</td>\n",
       "      <td>1.0</td>\n",
       "      <td>1.0</td>\n",
       "      <td>6.17591</td>\n",
       "      <td>-75.59174</td>\n",
       "      <td>31.077530</td>\n",
       "      <td>4</td>\n",
       "      <td>1.0</td>\n",
       "      <td>0.0</td>\n",
       "      <td>1.0</td>\n",
       "      <td>0.0</td>\n",
       "      <td>0.0</td>\n",
       "      <td>1.0</td>\n",
       "      <td>0.0</td>\n",
       "      <td>0.0</td>\n",
       "      <td>0</td>\n",
       "    </tr>\n",
       "    <tr>\n",
       "      <th>1</th>\n",
       "      <td>30.0</td>\n",
       "      <td>0.12</td>\n",
       "      <td>905.0</td>\n",
       "      <td>1.380000</td>\n",
       "      <td>0.7</td>\n",
       "      <td>1.0</td>\n",
       "      <td>4.60971</td>\n",
       "      <td>-74.08175</td>\n",
       "      <td>35.873850</td>\n",
       "      <td>1</td>\n",
       "      <td>0.0</td>\n",
       "      <td>0.0</td>\n",
       "      <td>1.0</td>\n",
       "      <td>0.0</td>\n",
       "      <td>0.0</td>\n",
       "      <td>0.0</td>\n",
       "      <td>0.0</td>\n",
       "      <td>0.0</td>\n",
       "      <td>0</td>\n",
       "    </tr>\n",
       "    <tr>\n",
       "      <th>2</th>\n",
       "      <td>30.0</td>\n",
       "      <td>0.30</td>\n",
       "      <td>2284.0</td>\n",
       "      <td>1.649434</td>\n",
       "      <td>0.6</td>\n",
       "      <td>1.0</td>\n",
       "      <td>4.60971</td>\n",
       "      <td>-74.08175</td>\n",
       "      <td>12.000000</td>\n",
       "      <td>2</td>\n",
       "      <td>0.0</td>\n",
       "      <td>0.0</td>\n",
       "      <td>1.0</td>\n",
       "      <td>0.0</td>\n",
       "      <td>0.0</td>\n",
       "      <td>1.0</td>\n",
       "      <td>0.0</td>\n",
       "      <td>0.0</td>\n",
       "      <td>1</td>\n",
       "    </tr>\n",
       "    <tr>\n",
       "      <th>3</th>\n",
       "      <td>30.0</td>\n",
       "      <td>0.12</td>\n",
       "      <td>1675.0</td>\n",
       "      <td>1.000000</td>\n",
       "      <td>0.6</td>\n",
       "      <td>1.0</td>\n",
       "      <td>6.25184</td>\n",
       "      <td>-75.56359</td>\n",
       "      <td>6.307490</td>\n",
       "      <td>10</td>\n",
       "      <td>0.0</td>\n",
       "      <td>0.0</td>\n",
       "      <td>1.0</td>\n",
       "      <td>0.0</td>\n",
       "      <td>0.0</td>\n",
       "      <td>0.0</td>\n",
       "      <td>0.0</td>\n",
       "      <td>1.0</td>\n",
       "      <td>1</td>\n",
       "    </tr>\n",
       "    <tr>\n",
       "      <th>4</th>\n",
       "      <td>30.0</td>\n",
       "      <td>0.17</td>\n",
       "      <td>738.0</td>\n",
       "      <td>1.500000</td>\n",
       "      <td>0.7</td>\n",
       "      <td>1.0</td>\n",
       "      <td>8.21639</td>\n",
       "      <td>-73.24139</td>\n",
       "      <td>17.805519</td>\n",
       "      <td>11</td>\n",
       "      <td>0.0</td>\n",
       "      <td>0.0</td>\n",
       "      <td>1.0</td>\n",
       "      <td>0.0</td>\n",
       "      <td>0.0</td>\n",
       "      <td>1.0</td>\n",
       "      <td>0.0</td>\n",
       "      <td>0.0</td>\n",
       "      <td>0</td>\n",
       "    </tr>\n",
       "  </tbody>\n",
       "</table>\n",
       "</div>"
      ],
      "text/plain": [
       "   PLAZO  CAPITAL  DÍAS MORA  INGRESOS MENSUALES  GASTOS MENSUALES  \\\n",
       "0   30.0     0.25     1445.0            3.000000               1.0   \n",
       "1   30.0     0.12      905.0            1.380000               0.7   \n",
       "2   30.0     0.30     2284.0            1.649434               0.6   \n",
       "3   30.0     0.12     1675.0            1.000000               0.6   \n",
       "4   30.0     0.17      738.0            1.500000               0.7   \n",
       "\n",
       "   NUM.CREDITOS SOLICITADOS  latitud  longitud  meses_transcurridos  \\\n",
       "0                       1.0  6.17591 -75.59174            31.077530   \n",
       "1                       1.0  4.60971 -74.08175            35.873850   \n",
       "2                       1.0  4.60971 -74.08175            12.000000   \n",
       "3                       1.0  6.25184 -75.56359             6.307490   \n",
       "4                       1.0  8.21639 -73.24139            17.805519   \n",
       "\n",
       "   mes_de_pago  TIPO EMPLEO_independiente  TIPO DE VIVIENDA_propia  \\\n",
       "0            4                        1.0                      0.0   \n",
       "1            1                        0.0                      0.0   \n",
       "2            2                        0.0                      0.0   \n",
       "3           10                        0.0                      0.0   \n",
       "4           11                        0.0                      0.0   \n",
       "\n",
       "   ESTADO CIVIL_soltero/a  ESTADO CIVIL_union libre  \\\n",
       "0                     1.0                       0.0   \n",
       "1                     1.0                       0.0   \n",
       "2                     1.0                       0.0   \n",
       "3                     1.0                       0.0   \n",
       "4                     1.0                       0.0   \n",
       "\n",
       "   NIVEL EDUCATIVO_postgrado  NIVEL EDUCATIVO_profesional  \\\n",
       "0                        0.0                          1.0   \n",
       "1                        0.0                          0.0   \n",
       "2                        0.0                          1.0   \n",
       "3                        0.0                          0.0   \n",
       "4                        0.0                          1.0   \n",
       "\n",
       "   NIVEL EDUCATIVO_secundaria  NIVEL EDUCATIVO_tecnico  Cuotas en mora  \n",
       "0                         0.0                      0.0               0  \n",
       "1                         0.0                      0.0               0  \n",
       "2                         0.0                      0.0               1  \n",
       "3                         0.0                      1.0               1  \n",
       "4                         0.0                      0.0               0  "
      ]
     },
     "execution_count": 264,
     "metadata": {},
     "output_type": "execute_result"
    }
   ],
   "source": [
    "df_infousers = pd.read_csv(file_path)\n",
    "df_infousers.head()"
   ]
  },
  {
   "cell_type": "markdown",
   "metadata": {},
   "source": [
    "## Balanceo"
   ]
  },
  {
   "cell_type": "markdown",
   "metadata": {},
   "source": [
    "### info usuarios"
   ]
  },
  {
   "cell_type": "code",
   "execution_count": 265,
   "metadata": {},
   "outputs": [],
   "source": [
    "X = df_infousers.drop(columns=['Cuotas en mora'])\n",
    "X = StandardScaler().fit_transform(X)\n",
    "y = df_infousers['Cuotas en mora']"
   ]
  },
  {
   "cell_type": "code",
   "execution_count": 266,
   "metadata": {},
   "outputs": [],
   "source": [
    "# Inicializar los modelos\n",
    "logistic_regression = LogisticRegression(max_iter=1000)\n",
    "naive_bayes = GaussianNB()\n",
    "lda = LinearDiscriminantAnalysis()"
   ]
  },
  {
   "cell_type": "code",
   "execution_count": 267,
   "metadata": {},
   "outputs": [],
   "source": [
    "metricas = ['accuracy', 'precision', 'recall', 'f1','roc_auc','average_precision']"
   ]
  },
  {
   "cell_type": "code",
   "execution_count": 268,
   "metadata": {},
   "outputs": [],
   "source": [
    "cv = StratifiedKFold(n_splits=5, shuffle=True, random_state=42)"
   ]
  },
  {
   "cell_type": "code",
   "execution_count": 269,
   "metadata": {},
   "outputs": [],
   "source": [
    "logistic_scores = cross_validate(logistic_regression, X, y, cv=cv, scoring=metricas)\n",
    "naive_bayes_scores = cross_validate(naive_bayes, X, y, cv=cv, scoring=metricas)\n",
    "lda_scores = cross_validate(lda, X, y, cv=cv, scoring=metricas)"
   ]
  },
  {
   "cell_type": "code",
   "execution_count": 270,
   "metadata": {},
   "outputs": [
    {
     "name": "stdout",
     "output_type": "stream",
     "text": [
      "\n",
      "Regresión Logística\n",
      "Accuracy: 0.78 +/- 0.01\n",
      "Precision: 0.80 +/- 0.01\n",
      "Recall: 0.87 +/- 0.03\n",
      "F1: 0.83 +/- 0.01\n",
      "Roc_auc: 0.83 +/- 0.02\n",
      "Average_precision: 0.88 +/- 0.02\n",
      "\n",
      "Naive Bayes\n",
      "Accuracy: 0.71 +/- 0.01\n",
      "Precision: 0.77 +/- 0.02\n",
      "Recall: 0.77 +/- 0.04\n",
      "F1: 0.77 +/- 0.01\n",
      "Roc_auc: 0.75 +/- 0.02\n",
      "Average_precision: 0.81 +/- 0.03\n",
      "\n",
      "LDA\n",
      "Accuracy: 0.78 +/- 0.01\n",
      "Precision: 0.80 +/- 0.02\n",
      "Recall: 0.87 +/- 0.03\n",
      "F1: 0.83 +/- 0.01\n",
      "Roc_auc: 0.83 +/- 0.02\n",
      "Average_precision: 0.88 +/- 0.02\n"
     ]
    }
   ],
   "source": [
    "def print_results(model_name, scores):\n",
    "    print(f\"\\n{model_name}\")\n",
    "    for metrica in metricas:\n",
    "        mean_score = np.mean(scores[f'test_{metrica}'])\n",
    "        std_score = np.std(scores[f'test_{metrica}'])\n",
    "        print(f\"{metrica.capitalize()}: {mean_score:.2f} +/- {std_score * 2:.2f}\")\n",
    "\n",
    "print_results(\"Regresión Logística\", logistic_scores)\n",
    "print_results(\"Naive Bayes\", naive_bayes_scores)\n",
    "print_results(\"LDA\", lda_scores)"
   ]
  },
  {
   "cell_type": "code",
   "execution_count": 271,
   "metadata": {},
   "outputs": [],
   "source": [
    "def CV_scores(X, y, model_cv,k = 5):\n",
    "\n",
    "    # Initialize the KFold\n",
    "    kf = KFold(n_splits=k, random_state=42, shuffle=True)\n",
    "\n",
    "    recall_vec = []\n",
    "    precision_vec = []\n",
    "    accuracy_vec = []\n",
    "    f1_vec = []\n",
    "    AP_vec = []\n",
    "    AUC_vec = []\n",
    "    # Perform k-fold cross-validation\n",
    "    for train_index, test_index in kf.split(X):\n",
    "        X_train_cv, X_test_cv = X[train_index], X[test_index]\n",
    "        y_train_cv, y_test_cv = y.values[train_index], y.values[test_index]\n",
    "        \n",
    "        ros = RandomOverSampler(random_state=0)\n",
    "        X_train_cv, y_train_cv = ros.fit_resample(X_train_cv, y_train_cv)\n",
    "\n",
    "        # Fit the model\n",
    "        model_cv.fit(X_train_cv, y_train_cv)\n",
    "\n",
    "        # Make predictions\n",
    "        y_pred = model_cv.predict(X_test_cv)\n",
    "        \n",
    "        # Calcular la precisión del modelo\n",
    "        accuracy = accuracy_score(y_test_cv, y_pred)\n",
    "        precision = precision_score(y_test_cv, y_pred)\n",
    "        recall = recall_score(y_test_cv, y_pred)\n",
    "        f1 = f1_score(y_test_cv, y_pred)\n",
    "        AP = average_precision_score(y_test_cv, y_pred)\n",
    "        AUC = roc_auc_score(y_test_cv, y_pred)\n",
    "        \n",
    "        recall_vec.append(recall)\n",
    "        precision_vec.append(precision)\n",
    "        accuracy_vec.append(accuracy)\n",
    "        f1_vec.append(f1)\n",
    "        AP_vec.append(AP)\n",
    "        AUC_vec.append(AUC)\n",
    "        \n",
    "        \n",
    "     \n",
    "    recall =  np.mean(recall_vec)\n",
    "    precision = np.mean(precision_vec)\n",
    "    accuracy = np.mean(accuracy_vec)\n",
    "    f1 = np.mean(f1_vec)\n",
    "    AP = np.mean(AP_vec)\n",
    "    AUC = np.mean(AUC_vec)\n",
    "        \n",
    "    metricas = {\n",
    "        'Accuracy': accuracy,\n",
    "        'Precision': precision,\n",
    "        'Recall': recall,\n",
    "        'F1-score': f1,\n",
    "        'PR-AUC': AP,\n",
    "        'ROC-AUC': AUC,\n",
    "    }\n",
    "    return metricas\n",
    "    "
   ]
  },
  {
   "cell_type": "code",
   "execution_count": 272,
   "metadata": {},
   "outputs": [
    {
     "name": "stdout",
     "output_type": "stream",
     "text": [
      "{'Recall': 0.776473946210157, 'Precision': 0.835645258243295, 'Accuracy': 0.7621055252304136, 'F1-score': 0.8049675697729107, 'PR-AUC': 0.7903158352789651, 'ROC-AUC': 0.7567393858021718}\n",
      "{'Recall': 0.6922865594943871, 'Precision': 0.8053873061394512, 'Accuracy': 0.6983497590169018, 'F1-score': 0.7438349435301539, 'PR-AUC': 0.7514887272609335, 'ROC-AUC': 0.6996151933626842}\n",
      "{'Recall': 0.778856429123419, 'Precision': 0.8301789125688146, 'Accuracy': 0.7593471377972361, 'F1-score': 0.8036770875443292, 'PR-AUC': 0.7865375826228084, 'ROC-AUC': 0.7520717929602629}\n"
     ]
    }
   ],
   "source": [
    "LR_score = CV_scores(X, y, LogisticRegression())\n",
    "NB_score = CV_scores(X, y, GaussianNB())\n",
    "LDA_score = CV_scores(X, y, LinearDiscriminantAnalysis())\n",
    "print(LR_score)\n",
    "print(NB_score)\n",
    "print(LDA_score)"
   ]
  },
  {
   "cell_type": "markdown",
   "metadata": {},
   "source": [
    "## Modelos para CredInfo"
   ]
  },
  {
   "cell_type": "code",
   "execution_count": 273,
   "metadata": {},
   "outputs": [],
   "source": [
    "file_path = root.DIR_DATA_STAGE + 'train_creditinfo.csv'"
   ]
  },
  {
   "cell_type": "code",
   "execution_count": 274,
   "metadata": {},
   "outputs": [
    {
     "data": {
      "text/html": [
       "<div>\n",
       "<style scoped>\n",
       "    .dataframe tbody tr th:only-of-type {\n",
       "        vertical-align: middle;\n",
       "    }\n",
       "\n",
       "    .dataframe tbody tr th {\n",
       "        vertical-align: top;\n",
       "    }\n",
       "\n",
       "    .dataframe thead th {\n",
       "        text-align: right;\n",
       "    }\n",
       "</style>\n",
       "<table border=\"1\" class=\"dataframe\">\n",
       "  <thead>\n",
       "    <tr style=\"text-align: right;\">\n",
       "      <th></th>\n",
       "      <th>PLAZO</th>\n",
       "      <th>CAPITAL</th>\n",
       "      <th>INT CORRIENTE</th>\n",
       "      <th>FECHA DESEMBOLSO</th>\n",
       "      <th>DÍAS MORA</th>\n",
       "      <th>Cuotas en mora</th>\n",
       "      <th>NUM.CREDITOS SOLICITADOS</th>\n",
       "      <th>USUARIO RECURRENTE</th>\n",
       "      <th>mes</th>\n",
       "      <th>mora</th>\n",
       "    </tr>\n",
       "  </thead>\n",
       "  <tbody>\n",
       "    <tr>\n",
       "      <th>0</th>\n",
       "      <td>30</td>\n",
       "      <td>500000</td>\n",
       "      <td>9385.000000</td>\n",
       "      <td>9/2/2021</td>\n",
       "      <td>13</td>\n",
       "      <td>0</td>\n",
       "      <td>4</td>\n",
       "      <td>1</td>\n",
       "      <td>10</td>\n",
       "      <td>1</td>\n",
       "    </tr>\n",
       "    <tr>\n",
       "      <th>1</th>\n",
       "      <td>30</td>\n",
       "      <td>350000</td>\n",
       "      <td>6569.500000</td>\n",
       "      <td>12/2/2020</td>\n",
       "      <td>4</td>\n",
       "      <td>0</td>\n",
       "      <td>5</td>\n",
       "      <td>1</td>\n",
       "      <td>1</td>\n",
       "      <td>1</td>\n",
       "    </tr>\n",
       "    <tr>\n",
       "      <th>2</th>\n",
       "      <td>30</td>\n",
       "      <td>300000</td>\n",
       "      <td>7080.000000</td>\n",
       "      <td>3/30/2023</td>\n",
       "      <td>6</td>\n",
       "      <td>1</td>\n",
       "      <td>1</td>\n",
       "      <td>0</td>\n",
       "      <td>4</td>\n",
       "      <td>1</td>\n",
       "    </tr>\n",
       "    <tr>\n",
       "      <th>3</th>\n",
       "      <td>30</td>\n",
       "      <td>210000</td>\n",
       "      <td>3941.700000</td>\n",
       "      <td>9/21/2022</td>\n",
       "      <td>4</td>\n",
       "      <td>0</td>\n",
       "      <td>3</td>\n",
       "      <td>1</td>\n",
       "      <td>10</td>\n",
       "      <td>1</td>\n",
       "    </tr>\n",
       "    <tr>\n",
       "      <th>4</th>\n",
       "      <td>29</td>\n",
       "      <td>400000</td>\n",
       "      <td>7257.733333</td>\n",
       "      <td>9/15/2022</td>\n",
       "      <td>30</td>\n",
       "      <td>0</td>\n",
       "      <td>2</td>\n",
       "      <td>1</td>\n",
       "      <td>10</td>\n",
       "      <td>1</td>\n",
       "    </tr>\n",
       "  </tbody>\n",
       "</table>\n",
       "</div>"
      ],
      "text/plain": [
       "   PLAZO  CAPITAL  INT CORRIENTE FECHA DESEMBOLSO  DÍAS MORA  Cuotas en mora  \\\n",
       "0     30   500000    9385.000000         9/2/2021         13               0   \n",
       "1     30   350000    6569.500000        12/2/2020          4               0   \n",
       "2     30   300000    7080.000000        3/30/2023          6               1   \n",
       "3     30   210000    3941.700000        9/21/2022          4               0   \n",
       "4     29   400000    7257.733333        9/15/2022         30               0   \n",
       "\n",
       "   NUM.CREDITOS SOLICITADOS  USUARIO RECURRENTE  mes  mora  \n",
       "0                         4                   1   10     1  \n",
       "1                         5                   1    1     1  \n",
       "2                         1                   0    4     1  \n",
       "3                         3                   1   10     1  \n",
       "4                         2                   1   10     1  "
      ]
     },
     "execution_count": 274,
     "metadata": {},
     "output_type": "execute_result"
    }
   ],
   "source": [
    "df_credit_info = pd.read_csv(file_path)\n",
    "df_credit_info.head()"
   ]
  },
  {
   "cell_type": "code",
   "execution_count": 275,
   "metadata": {},
   "outputs": [],
   "source": [
    "df_credit_info.drop(columns=['FECHA DESEMBOLSO', 'DÍAS MORA'], inplace=True)"
   ]
  },
  {
   "cell_type": "code",
   "execution_count": 276,
   "metadata": {},
   "outputs": [],
   "source": [
    "X = df_credit_info.drop(columns=['mora'])\n",
    "X = StandardScaler().fit_transform(X)\n",
    "y = df_credit_info['mora']"
   ]
  },
  {
   "cell_type": "markdown",
   "metadata": {},
   "source": [
    "## Scores usando k startify K-fold"
   ]
  },
  {
   "cell_type": "code",
   "execution_count": 277,
   "metadata": {},
   "outputs": [],
   "source": [
    "logistic_scores = cross_validate(logistic_regression, X, y, cv=cv, scoring=metricas)\n",
    "naive_bayes_scores = cross_validate(naive_bayes, X, y, cv=cv, scoring=metricas)\n",
    "lda_scores = cross_validate(lda, X, y, cv=cv, scoring=metricas)"
   ]
  },
  {
   "cell_type": "code",
   "execution_count": 278,
   "metadata": {},
   "outputs": [
    {
     "name": "stdout",
     "output_type": "stream",
     "text": [
      "\n",
      "Regresión Logística\n",
      "Accuracy: 0.81 +/- 0.00\n",
      "Precision: 0.86 +/- 0.01\n",
      "Recall: 0.59 +/- 0.01\n",
      "F1: 0.70 +/- 0.01\n",
      "Roc_auc: 0.89 +/- 0.01\n",
      "Average_precision: 0.85 +/- 0.01\n",
      "\n",
      "Naive Bayes\n",
      "Accuracy: 0.80 +/- 0.01\n",
      "Precision: 0.88 +/- 0.01\n",
      "Recall: 0.53 +/- 0.01\n",
      "F1: 0.66 +/- 0.01\n",
      "Roc_auc: 0.86 +/- 0.01\n",
      "Average_precision: 0.82 +/- 0.01\n",
      "\n",
      "LDA\n",
      "Accuracy: 0.80 +/- 0.00\n",
      "Precision: 0.91 +/- 0.01\n",
      "Recall: 0.50 +/- 0.01\n",
      "F1: 0.65 +/- 0.01\n",
      "Roc_auc: 0.88 +/- 0.01\n",
      "Average_precision: 0.84 +/- 0.01\n"
     ]
    }
   ],
   "source": [
    "print_results(\"Regresión Logística\", logistic_scores)\n",
    "print_results(\"Naive Bayes\", naive_bayes_scores)\n",
    "print_results(\"LDA\", lda_scores)"
   ]
  },
  {
   "cell_type": "markdown",
   "metadata": {},
   "source": [
    "### Scoring con Kfold normal , balancendo solo train_cv"
   ]
  },
  {
   "cell_type": "code",
   "execution_count": 279,
   "metadata": {},
   "outputs": [
    {
     "name": "stdout",
     "output_type": "stream",
     "text": [
      "{'Recall': 0.8086374597924604, 'Precision': 0.6977191775398289, 'Accuracy': 0.797222823679076, 'F1-score': 0.7490510936714465, 'PR-AUC': 0.6358222912732728, 'ROC-AUC': 0.799534567769408}\n",
      "{'Recall': 0.5300429016185463, 'Precision': 0.8786623022501182, 'Accuracy': 0.7967127749097109, 'F1-score': 0.6612113065444956, 'PR-AUC': 0.6416361371261905, 'ROC-AUC': 0.7431340729710671}\n",
      "{'Recall': 0.5285341431894084, 'Precision': 0.8866001425228204, 'Accuracy': 0.7982426807855699, 'F1-score': 0.6622618401735872, 'PR-AUC': 0.6450728246410324, 'ROC-AUC': 0.7440512741222189}\n"
     ]
    }
   ],
   "source": [
    "LR_score = CV_scores(X, y, LogisticRegression())\n",
    "NB_score = CV_scores(X, y, GaussianNB())\n",
    "LDA_score = CV_scores(X, y, LinearDiscriminantAnalysis())\n",
    "print(LR_score)\n",
    "print(NB_score)\n",
    "print(LDA_score)"
   ]
  },
  {
   "cell_type": "markdown",
   "metadata": {},
   "source": [
    "## Modelación"
   ]
  },
  {
   "cell_type": "markdown",
   "metadata": {},
   "source": [
    "### Naive Bayes"
   ]
  },
  {
   "cell_type": "code",
   "execution_count": 280,
   "metadata": {},
   "outputs": [],
   "source": [
    "##Función pára curva lift\n",
    "\n",
    "def plot_lift_curve(y_true, y_proba, ax):\n",
    "    # Create a dataframe with true labels and predicted probabilities\n",
    "    df = pd.DataFrame({'y_true': y_true, 'y_proba': y_proba})\n",
    "    df = df.sort_values('y_proba', ascending=False).reset_index(drop=True)\n",
    "    \n",
    "    # Calculate the cumulative gain for the lift curve\n",
    "    df['cumulative_data_fraction'] = (np.arange(len(df)) + 1) / len(df)\n",
    "    df['cumulative_positive_fraction'] = np.cumsum(df['y_true']) / df['y_true'].sum()\n",
    "    \n",
    "    # Plot the lift curve\n",
    "    ax.plot(df['cumulative_data_fraction'], df['cumulative_positive_fraction'], label='Lift Curve')\n",
    "    ax.plot([0, 1], [0, 1], linestyle='--', color='grey', label='Baseline')\n",
    "    ax.set_title('Lift Curve')\n",
    "    ax.set_xlabel('Cumulative Data Fraction')\n",
    "    ax.set_ylabel('Cumulative Positive Fraction')\n",
    "    ax.legend()"
   ]
  },
  {
   "cell_type": "code",
   "execution_count": 281,
   "metadata": {},
   "outputs": [],
   "source": [
    "def modelo(df,target_col,model):\n",
    "    \n",
    "    X = df.drop(columns=[target_col])\n",
    "    X = StandardScaler().fit_transform(X)\n",
    "    y = df[target_col]\n",
    "    \n",
    "    ros = RandomOverSampler(random_state=0)\n",
    "    X, y = ros.fit_resample(X, y)\n",
    "    \n",
    "    model.fit(X, y)\n",
    "    \n",
    "    return model"
   ]
  },
  {
   "cell_type": "code",
   "execution_count": 304,
   "metadata": {},
   "outputs": [],
   "source": [
    "def graficas(df, target_col, model):\n",
    "    \n",
    "    scaler = StandardScaler()\n",
    "    X = df.drop(columns=[target_col])\n",
    "    columns = X.columns\n",
    "    X = scaler.fit_transform(X)\n",
    "    y = df[target_col]\n",
    "   \n",
    "    y_pred = model.predict(X)\n",
    "    y_proba = model.predict_proba(X)[:, 1] \n",
    "    \n",
    "    accuracy = accuracy_score(y, y_pred)\n",
    "    precision = precision_score(y, y_pred)\n",
    "    recall = recall_score(y, y_pred)\n",
    "    f1 = f1_score(y, y_pred)\n",
    "    AP = average_precision_score(y, y_pred)\n",
    "    AUC = roc_auc_score(y, y_pred)\n",
    "\n",
    "   \n",
    "    print(\"Accuracy: {:.3f}\".format(accuracy))\n",
    "    print(\"Precision: {:.3f}\".format(precision))\n",
    "    print(\"Recall: {:.3f}\".format(recall))\n",
    "    print(\"F1 Score: {:.3f}\".format(f1))\n",
    "    print(\"Average Precision: {:.3f}\".format(AP))\n",
    "    print(\"Area Under the ROC Curve: {:.3f}\".format(AUC))\n",
    "    print('------------------------------------------------------------------------------')\n",
    "    #print(classification_report(y, y_pred))\n",
    "\n",
    "    P_train_nb = model.predict(X)\n",
    "    P_test_nb = model.predict(X)\n",
    "\n",
    "    fig, axs = plt.subplots(1, 2, figsize=(18, 6))\n",
    "\n",
    "    disp = ConfusionMatrixDisplay.from_estimator(model, X, y, normalize='true', xticks_rotation='vertical', ax=axs[0])\n",
    "    axs[0].set_title('Train Data')\n",
    "\n",
    "    plot_lift_curve(y, y_proba, ax=axs[1])\n",
    "\n",
    "    fig.subplots_adjust(wspace=0.3)\n",
    "    plt.tight_layout()\n",
    "    plt.show()\n",
    "    \n",
    "    df = pd.DataFrame(scaler.inverse_transform(X), columns=columns)\n",
    "    \n",
    "    df['Estado'] = y\n",
    "    df['Estado_Estimado'] = y_pred\n",
    "    df['Probabilidad'] = np.round(y_proba * 100,2)\n",
    "    \n",
    "    return df"
   ]
  },
  {
   "cell_type": "markdown",
   "metadata": {},
   "source": [
    "## Para infouser"
   ]
  },
  {
   "cell_type": "code",
   "execution_count": 308,
   "metadata": {},
   "outputs": [],
   "source": [
    "file_path2 = root.DIR_DATA_STAGE + 'test_infousers.csv'\n",
    "test_infousers = pd.read_csv(file_path2)"
   ]
  },
  {
   "cell_type": "code",
   "execution_count": 309,
   "metadata": {},
   "outputs": [],
   "source": [
    "Modelo1 = modelo(df_infousers,'Cuotas en mora',logistic_regression)"
   ]
  },
  {
   "cell_type": "code",
   "execution_count": 312,
   "metadata": {},
   "outputs": [
    {
     "name": "stdout",
     "output_type": "stream",
     "text": [
      "Accuracy: 0.795\n",
      "Precision: 0.858\n",
      "Recall: 0.810\n",
      "F1 Score: 0.833\n",
      "Average Precision: 0.815\n",
      "Area Under the ROC Curve: 0.790\n",
      "------------------------------------------------------------------------------\n"
     ]
    },
    {
     "data": {
      "image/png": "[encoded data removed]",
      "text/plain": [
       "<Figure size 1800x600 with 3 Axes>"
      ]
     },
     "metadata": {},
     "output_type": "display_data"
    }
   ],
   "source": [
    "df_final1 = graficas (test_infousers,'Cuotas en mora', model = Modelo1)"
   ]
  },
  {
   "cell_type": "markdown",
   "metadata": {},
   "source": [
    "## Para credit_info"
   ]
  },
  {
   "cell_type": "code",
   "execution_count": 317,
   "metadata": {},
   "outputs": [],
   "source": [
    "file_path2 = root.DIR_DATA_STAGE + 'test_creditinfo.csv'\n",
    "test_credit_info = pd.read_csv(file_path2)\n",
    "test_credit_info.drop(columns=['FECHA DESEMBOLSO', 'DÍAS MORA'], inplace=True)"
   ]
  },
  {
   "cell_type": "code",
   "execution_count": 318,
   "metadata": {},
   "outputs": [],
   "source": [
    "Modelo2 = modelo(df_credit_info,'mora',logistic_regression)"
   ]
  },
  {
   "cell_type": "code",
   "execution_count": 319,
   "metadata": {},
   "outputs": [
    {
     "name": "stdout",
     "output_type": "stream",
     "text": [
      "Accuracy: 0.793\n",
      "Precision: 0.692\n",
      "Recall: 0.804\n",
      "F1 Score: 0.744\n",
      "Average Precision: 0.630\n",
      "Area Under the ROC Curve: 0.795\n",
      "------------------------------------------------------------------------------\n"
     ]
    },
    {
     "data": {
      "image/png": "[encoded data removed]",
      "text/plain": [
       "<Figure size 1800x600 with 3 Axes>"
      ]
     },
     "metadata": {},
     "output_type": "display_data"
    }
   ],
   "source": [
    "df_final2 = graficas (test_credit_info,'mora', model = Modelo2)"
   ]
  },
  {
   "cell_type": "code",
   "execution_count": 291,
   "metadata": {},
   "outputs": [
    {
     "data": {
      "text/html": [
       "<div>\n",
       "<style scoped>\n",
       "    .dataframe tbody tr th:only-of-type {\n",
       "        vertical-align: middle;\n",
       "    }\n",
       "\n",
       "    .dataframe tbody tr th {\n",
       "        vertical-align: top;\n",
       "    }\n",
       "\n",
       "    .dataframe thead th {\n",
       "        text-align: right;\n",
       "    }\n",
       "</style>\n",
       "<table border=\"1\" class=\"dataframe\">\n",
       "  <thead>\n",
       "    <tr style=\"text-align: right;\">\n",
       "      <th></th>\n",
       "      <th>PLAZO</th>\n",
       "      <th>CAPITAL</th>\n",
       "      <th>INT CORRIENTE</th>\n",
       "      <th>Cuotas en mora</th>\n",
       "      <th>NUM.CREDITOS SOLICITADOS</th>\n",
       "      <th>USUARIO RECURRENTE</th>\n",
       "      <th>mes</th>\n",
       "      <th>Estado</th>\n",
       "      <th>Estado_Estimado</th>\n",
       "      <th>Probabilidad</th>\n",
       "    </tr>\n",
       "  </thead>\n",
       "  <tbody>\n",
       "    <tr>\n",
       "      <th>0</th>\n",
       "      <td>30.0</td>\n",
       "      <td>500000.0</td>\n",
       "      <td>9385.000000</td>\n",
       "      <td>0.0</td>\n",
       "      <td>4.0</td>\n",
       "      <td>1.0</td>\n",
       "      <td>10.0</td>\n",
       "      <td>1</td>\n",
       "      <td>1</td>\n",
       "      <td>54.69</td>\n",
       "    </tr>\n",
       "    <tr>\n",
       "      <th>1</th>\n",
       "      <td>30.0</td>\n",
       "      <td>350000.0</td>\n",
       "      <td>6569.500000</td>\n",
       "      <td>0.0</td>\n",
       "      <td>5.0</td>\n",
       "      <td>1.0</td>\n",
       "      <td>1.0</td>\n",
       "      <td>1</td>\n",
       "      <td>0</td>\n",
       "      <td>43.10</td>\n",
       "    </tr>\n",
       "    <tr>\n",
       "      <th>2</th>\n",
       "      <td>30.0</td>\n",
       "      <td>300000.0</td>\n",
       "      <td>7080.000000</td>\n",
       "      <td>1.0</td>\n",
       "      <td>1.0</td>\n",
       "      <td>0.0</td>\n",
       "      <td>4.0</td>\n",
       "      <td>1</td>\n",
       "      <td>1</td>\n",
       "      <td>99.23</td>\n",
       "    </tr>\n",
       "    <tr>\n",
       "      <th>3</th>\n",
       "      <td>30.0</td>\n",
       "      <td>210000.0</td>\n",
       "      <td>3941.700000</td>\n",
       "      <td>0.0</td>\n",
       "      <td>3.0</td>\n",
       "      <td>1.0</td>\n",
       "      <td>10.0</td>\n",
       "      <td>1</td>\n",
       "      <td>1</td>\n",
       "      <td>54.71</td>\n",
       "    </tr>\n",
       "    <tr>\n",
       "      <th>4</th>\n",
       "      <td>29.0</td>\n",
       "      <td>400000.0</td>\n",
       "      <td>7257.733333</td>\n",
       "      <td>0.0</td>\n",
       "      <td>2.0</td>\n",
       "      <td>1.0</td>\n",
       "      <td>10.0</td>\n",
       "      <td>1</td>\n",
       "      <td>1</td>\n",
       "      <td>65.77</td>\n",
       "    </tr>\n",
       "  </tbody>\n",
       "</table>\n",
       "</div>"
      ],
      "text/plain": [
       "   PLAZO   CAPITAL  INT CORRIENTE  Cuotas en mora  NUM.CREDITOS SOLICITADOS  \\\n",
       "0   30.0  500000.0    9385.000000             0.0                       4.0   \n",
       "1   30.0  350000.0    6569.500000             0.0                       5.0   \n",
       "2   30.0  300000.0    7080.000000             1.0                       1.0   \n",
       "3   30.0  210000.0    3941.700000             0.0                       3.0   \n",
       "4   29.0  400000.0    7257.733333             0.0                       2.0   \n",
       "\n",
       "   USUARIO RECURRENTE   mes  Estado  Estado_Estimado  Probabilidad  \n",
       "0                 1.0  10.0       1                1         54.69  \n",
       "1                 1.0   1.0       1                0         43.10  \n",
       "2                 0.0   4.0       1                1         99.23  \n",
       "3                 1.0  10.0       1                1         54.71  \n",
       "4                 1.0  10.0       1                1         65.77  "
      ]
     },
     "execution_count": 291,
     "metadata": {},
     "output_type": "execute_result"
    }
   ],
   "source": [
    "df_final2.head()"
   ]
  }
 ],
 "metadata": {
  "kernelspec": {
   "display_name": "Python 3",
   "language": "python",
   "name": "python3"
  },
  "language_info": {
   "codemirror_mode": {
    "name": "ipython",
    "version": 3
   },
   "file_extension": ".py",
   "mimetype": "text/x-python",
   "name": "python",
   "nbconvert_exporter": "python",
   "pygments_lexer": "ipython3",
   "version": "3.12.2"
  }
 },
 "nbformat": 4,
 "nbformat_minor": 2
}
