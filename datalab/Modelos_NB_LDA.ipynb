{
 "cells": [
  {
   "cell_type": "markdown",
   "metadata": {},
   "source": [
    "# Modelos_NaiveBayes_LDA"
   ]
  },
  {
   "cell_type": "code",
   "execution_count": 1,
   "metadata": {},
   "outputs": [],
   "source": [
    "import pandas as pd\n",
    "import numpy as np\n",
    "import seaborn as sns\n",
    "import os\n",
    "import sys\n"
   ]
  },
  {
   "cell_type": "code",
   "execution_count": 2,
   "metadata": {},
   "outputs": [],
   "source": [
    "current_dir = os.getcwd() # Obtener la ruta del directorio actual del notebook\n",
    "ROOT_PATH = os.path.dirname(current_dir) # Obtener la ruta del directorio superior\n",
    "sys.path.insert(1, ROOT_PATH) # Insertar la ruta en sys.path\n",
    "\n",
    "import root # Importar el módulo root"
   ]
  },
  {
   "cell_type": "markdown",
   "metadata": {},
   "source": [
    "## Preparando el dataset de entrenamiento"
   ]
  },
  {
   "cell_type": "code",
   "execution_count": 3,
   "metadata": {},
   "outputs": [],
   "source": [
    "file_path = root.DIR_DATA_STAGE + 'test.csv'"
   ]
  },
  {
   "cell_type": "code",
   "execution_count": 4,
   "metadata": {},
   "outputs": [
    {
     "data": {
      "text/html": [
       "<div>\n",
       "<style scoped>\n",
       "    .dataframe tbody tr th:only-of-type {\n",
       "        vertical-align: middle;\n",
       "    }\n",
       "\n",
       "    .dataframe tbody tr th {\n",
       "        vertical-align: top;\n",
       "    }\n",
       "\n",
       "    .dataframe thead th {\n",
       "        text-align: right;\n",
       "    }\n",
       "</style>\n",
       "<table border=\"1\" class=\"dataframe\">\n",
       "  <thead>\n",
       "    <tr style=\"text-align: right;\">\n",
       "      <th></th>\n",
       "      <th>PLAZO</th>\n",
       "      <th>CAPITAL</th>\n",
       "      <th>DÍAS MORA</th>\n",
       "      <th>INGRESOS MENSUALES</th>\n",
       "      <th>GASTOS MENSUALES</th>\n",
       "      <th>NUM.CREDITOS SOLICITADOS</th>\n",
       "      <th>latitud</th>\n",
       "      <th>longitud</th>\n",
       "      <th>meses_transcurridos</th>\n",
       "      <th>mes_de_pago</th>\n",
       "      <th>TIPO EMPLEO_independiente</th>\n",
       "      <th>TIPO DE VIVIENDA_propia</th>\n",
       "      <th>ESTADO CIVIL_soltero/a</th>\n",
       "      <th>ESTADO CIVIL_union libre</th>\n",
       "      <th>NIVEL EDUCATIVO_postgrado</th>\n",
       "      <th>NIVEL EDUCATIVO_profesional</th>\n",
       "      <th>NIVEL EDUCATIVO_secundaria</th>\n",
       "      <th>NIVEL EDUCATIVO_tecnico</th>\n",
       "      <th>Cuotas en mora</th>\n",
       "    </tr>\n",
       "  </thead>\n",
       "  <tbody>\n",
       "    <tr>\n",
       "      <th>0</th>\n",
       "      <td>30.0</td>\n",
       "      <td>0.250</td>\n",
       "      <td>1349.0</td>\n",
       "      <td>2.500</td>\n",
       "      <td>1.00</td>\n",
       "      <td>1.0</td>\n",
       "      <td>4.60971</td>\n",
       "      <td>-74.08175</td>\n",
       "      <td>31.077530</td>\n",
       "      <td>8</td>\n",
       "      <td>1.0</td>\n",
       "      <td>0.0</td>\n",
       "      <td>1.0</td>\n",
       "      <td>0.0</td>\n",
       "      <td>0.0</td>\n",
       "      <td>1.0</td>\n",
       "      <td>0.0</td>\n",
       "      <td>0.0</td>\n",
       "      <td>1</td>\n",
       "    </tr>\n",
       "    <tr>\n",
       "      <th>1</th>\n",
       "      <td>30.0</td>\n",
       "      <td>0.250</td>\n",
       "      <td>774.0</td>\n",
       "      <td>1.899</td>\n",
       "      <td>0.80</td>\n",
       "      <td>1.0</td>\n",
       "      <td>6.25184</td>\n",
       "      <td>-75.56359</td>\n",
       "      <td>27.365309</td>\n",
       "      <td>7</td>\n",
       "      <td>0.0</td>\n",
       "      <td>1.0</td>\n",
       "      <td>1.0</td>\n",
       "      <td>0.0</td>\n",
       "      <td>0.0</td>\n",
       "      <td>1.0</td>\n",
       "      <td>0.0</td>\n",
       "      <td>0.0</td>\n",
       "      <td>0</td>\n",
       "    </tr>\n",
       "    <tr>\n",
       "      <th>2</th>\n",
       "      <td>30.0</td>\n",
       "      <td>0.350</td>\n",
       "      <td>519.0</td>\n",
       "      <td>3.000</td>\n",
       "      <td>0.80</td>\n",
       "      <td>1.0</td>\n",
       "      <td>4.14200</td>\n",
       "      <td>-73.62664</td>\n",
       "      <td>31.077530</td>\n",
       "      <td>11</td>\n",
       "      <td>1.0</td>\n",
       "      <td>0.0</td>\n",
       "      <td>0.0</td>\n",
       "      <td>0.0</td>\n",
       "      <td>0.0</td>\n",
       "      <td>0.0</td>\n",
       "      <td>0.0</td>\n",
       "      <td>1.0</td>\n",
       "      <td>0</td>\n",
       "    </tr>\n",
       "    <tr>\n",
       "      <th>3</th>\n",
       "      <td>30.0</td>\n",
       "      <td>0.105</td>\n",
       "      <td>625.0</td>\n",
       "      <td>0.937</td>\n",
       "      <td>0.30</td>\n",
       "      <td>2.0</td>\n",
       "      <td>6.25184</td>\n",
       "      <td>-75.56359</td>\n",
       "      <td>61.103811</td>\n",
       "      <td>3</td>\n",
       "      <td>0.0</td>\n",
       "      <td>0.0</td>\n",
       "      <td>1.0</td>\n",
       "      <td>0.0</td>\n",
       "      <td>0.0</td>\n",
       "      <td>0.0</td>\n",
       "      <td>0.0</td>\n",
       "      <td>0.0</td>\n",
       "      <td>0</td>\n",
       "    </tr>\n",
       "    <tr>\n",
       "      <th>4</th>\n",
       "      <td>30.0</td>\n",
       "      <td>0.150</td>\n",
       "      <td>1719.0</td>\n",
       "      <td>1.000</td>\n",
       "      <td>0.45</td>\n",
       "      <td>1.0</td>\n",
       "      <td>4.81333</td>\n",
       "      <td>-75.69611</td>\n",
       "      <td>12.746386</td>\n",
       "      <td>8</td>\n",
       "      <td>0.0</td>\n",
       "      <td>0.0</td>\n",
       "      <td>1.0</td>\n",
       "      <td>0.0</td>\n",
       "      <td>0.0</td>\n",
       "      <td>0.0</td>\n",
       "      <td>0.0</td>\n",
       "      <td>0.0</td>\n",
       "      <td>1</td>\n",
       "    </tr>\n",
       "  </tbody>\n",
       "</table>\n",
       "</div>"
      ],
      "text/plain": [
       "   PLAZO  CAPITAL  DÍAS MORA  INGRESOS MENSUALES  GASTOS MENSUALES  \\\n",
       "0   30.0    0.250     1349.0               2.500              1.00   \n",
       "1   30.0    0.250      774.0               1.899              0.80   \n",
       "2   30.0    0.350      519.0               3.000              0.80   \n",
       "3   30.0    0.105      625.0               0.937              0.30   \n",
       "4   30.0    0.150     1719.0               1.000              0.45   \n",
       "\n",
       "   NUM.CREDITOS SOLICITADOS  latitud  longitud  meses_transcurridos  \\\n",
       "0                       1.0  4.60971 -74.08175            31.077530   \n",
       "1                       1.0  6.25184 -75.56359            27.365309   \n",
       "2                       1.0  4.14200 -73.62664            31.077530   \n",
       "3                       2.0  6.25184 -75.56359            61.103811   \n",
       "4                       1.0  4.81333 -75.69611            12.746386   \n",
       "\n",
       "   mes_de_pago  TIPO EMPLEO_independiente  TIPO DE VIVIENDA_propia  \\\n",
       "0            8                        1.0                      0.0   \n",
       "1            7                        0.0                      1.0   \n",
       "2           11                        1.0                      0.0   \n",
       "3            3                        0.0                      0.0   \n",
       "4            8                        0.0                      0.0   \n",
       "\n",
       "   ESTADO CIVIL_soltero/a  ESTADO CIVIL_union libre  \\\n",
       "0                     1.0                       0.0   \n",
       "1                     1.0                       0.0   \n",
       "2                     0.0                       0.0   \n",
       "3                     1.0                       0.0   \n",
       "4                     1.0                       0.0   \n",
       "\n",
       "   NIVEL EDUCATIVO_postgrado  NIVEL EDUCATIVO_profesional  \\\n",
       "0                        0.0                          1.0   \n",
       "1                        0.0                          1.0   \n",
       "2                        0.0                          0.0   \n",
       "3                        0.0                          0.0   \n",
       "4                        0.0                          0.0   \n",
       "\n",
       "   NIVEL EDUCATIVO_secundaria  NIVEL EDUCATIVO_tecnico  Cuotas en mora  \n",
       "0                         0.0                      0.0               1  \n",
       "1                         0.0                      0.0               0  \n",
       "2                         0.0                      1.0               0  \n",
       "3                         0.0                      0.0               0  \n",
       "4                         0.0                      0.0               1  "
      ]
     },
     "execution_count": 4,
     "metadata": {},
     "output_type": "execute_result"
    }
   ],
   "source": [
    "train = pd.read_csv(file_path)\n",
    "train.head()"
   ]
  },
  {
   "cell_type": "markdown",
   "metadata": {},
   "source": [
    "## Modelos para CredInfo"
   ]
  },
  {
   "cell_type": "code",
   "execution_count": 110,
   "metadata": {},
   "outputs": [],
   "source": [
    "df_CredInfoT['PRÓXIMA FECHA PAGO'] = pd.to_datetime(df_CredInfoT['PRÓXIMA FECHA PAGO'])\n",
    "df_CredInfoT['mes'] = df_CredInfoT['PRÓXIMA FECHA PAGO'].dt.month"
   ]
  },
  {
   "cell_type": "code",
   "execution_count": 111,
   "metadata": {},
   "outputs": [],
   "source": [
    "##df_CredInfoT['Estado'] = np.where((df_CredInfoT['DÍAS MORA'] > 3) & (df_CredInfoT['Cuotas en mora'] == 1), 1, 0)\n",
    "df_CredInfoT['Estado'] = (df_CredInfoT['DÍAS MORA'] > 3).astype(int)\n"
   ]
  },
  {
   "cell_type": "code",
   "execution_count": 112,
   "metadata": {},
   "outputs": [
    {
     "data": {
      "text/html": [
       "<div>\n",
       "<style scoped>\n",
       "    .dataframe tbody tr th:only-of-type {\n",
       "        vertical-align: middle;\n",
       "    }\n",
       "\n",
       "    .dataframe tbody tr th {\n",
       "        vertical-align: top;\n",
       "    }\n",
       "\n",
       "    .dataframe thead th {\n",
       "        text-align: right;\n",
       "    }\n",
       "</style>\n",
       "<table border=\"1\" class=\"dataframe\">\n",
       "  <thead>\n",
       "    <tr style=\"text-align: right;\">\n",
       "      <th></th>\n",
       "      <th>PLAZO</th>\n",
       "      <th>CAPITAL</th>\n",
       "      <th>INT CORRIENTE</th>\n",
       "      <th>NUM.CREDITOS SOLICITADOS</th>\n",
       "      <th>mes</th>\n",
       "      <th>Estado</th>\n",
       "    </tr>\n",
       "  </thead>\n",
       "  <tbody>\n",
       "    <tr>\n",
       "      <th>0</th>\n",
       "      <td>30</td>\n",
       "      <td>250000</td>\n",
       "      <td>4692.500000</td>\n",
       "      <td>1</td>\n",
       "      <td>3</td>\n",
       "      <td>1</td>\n",
       "    </tr>\n",
       "    <tr>\n",
       "      <th>1</th>\n",
       "      <td>29</td>\n",
       "      <td>250000</td>\n",
       "      <td>4536.083333</td>\n",
       "      <td>1</td>\n",
       "      <td>3</td>\n",
       "      <td>1</td>\n",
       "    </tr>\n",
       "    <tr>\n",
       "      <th>2</th>\n",
       "      <td>30</td>\n",
       "      <td>250000</td>\n",
       "      <td>4692.500000</td>\n",
       "      <td>1</td>\n",
       "      <td>3</td>\n",
       "      <td>1</td>\n",
       "    </tr>\n",
       "    <tr>\n",
       "      <th>3</th>\n",
       "      <td>29</td>\n",
       "      <td>250000</td>\n",
       "      <td>4536.083333</td>\n",
       "      <td>1</td>\n",
       "      <td>3</td>\n",
       "      <td>1</td>\n",
       "    </tr>\n",
       "    <tr>\n",
       "      <th>4</th>\n",
       "      <td>29</td>\n",
       "      <td>250000</td>\n",
       "      <td>4536.083333</td>\n",
       "      <td>1</td>\n",
       "      <td>3</td>\n",
       "      <td>1</td>\n",
       "    </tr>\n",
       "  </tbody>\n",
       "</table>\n",
       "</div>"
      ],
      "text/plain": [
       "   PLAZO  CAPITAL  INT CORRIENTE  NUM.CREDITOS SOLICITADOS  mes  Estado\n",
       "0     30   250000    4692.500000                         1    3       1\n",
       "1     29   250000    4536.083333                         1    3       1\n",
       "2     30   250000    4692.500000                         1    3       1\n",
       "3     29   250000    4536.083333                         1    3       1\n",
       "4     29   250000    4536.083333                         1    3       1"
      ]
     },
     "execution_count": 112,
     "metadata": {},
     "output_type": "execute_result"
    }
   ],
   "source": [
    "df_CredInfoT = df_CredInfoT.drop(columns=['Cuotas en mora', 'PRÓXIMA FECHA PAGO', 'DÍAS MORA'])\n",
    "\n",
    "df_CredInfoT.head()"
   ]
  },
  {
   "cell_type": "code",
   "execution_count": 113,
   "metadata": {},
   "outputs": [
    {
     "data": {
      "text/plain": [
       "(108039, 6)"
      ]
     },
     "execution_count": 113,
     "metadata": {},
     "output_type": "execute_result"
    }
   ],
   "source": [
    "df_CredInfoT.shape"
   ]
  },
  {
   "cell_type": "code",
   "execution_count": 114,
   "metadata": {},
   "outputs": [],
   "source": [
    "# Mezclar el DataFrame\n",
    "df_CredInfo_shuffled = df_CredInfoT.sample(frac=1, random_state=42).reset_index(drop=True)\n",
    "\n",
    "# Calcular el tamaño de cada subconjunto\n",
    "n = len(df_CredInfoT)\n",
    "size_60 = int(0.6 * n)\n",
    "size_20 = int(0.2 * n)\n",
    "\n",
    "# Dividir el DataFrame en tres subconjuntos\n",
    "df_CredInfo_Train = df_CredInfo_shuffled.iloc[:size_60]\n",
    "df_CredInfo_Validation = df_CredInfo_shuffled.iloc[size_60:size_60 + size_20]\n",
    "df_CredInfo_Test = df_CredInfo_shuffled.iloc[size_60 + size_20:]"
   ]
  },
  {
   "cell_type": "code",
   "execution_count": 115,
   "metadata": {},
   "outputs": [
    {
     "data": {
      "text/plain": [
       "Estado\n",
       "0    42215\n",
       "1    22608\n",
       "Name: count, dtype: int64"
      ]
     },
     "execution_count": 115,
     "metadata": {},
     "output_type": "execute_result"
    }
   ],
   "source": [
    "df_CredInfo_Train.Estado.value_counts()"
   ]
  },
  {
   "cell_type": "markdown",
   "metadata": {},
   "source": [
    "### Balanceando el dataset"
   ]
  },
  {
   "cell_type": "code",
   "execution_count": 127,
   "metadata": {},
   "outputs": [
    {
     "name": "stdout",
     "output_type": "stream",
     "text": [
      "Antes del overdersampling:\n",
      "Clase 0: 42215\n",
      "Clase 1: 22608\n"
     ]
    }
   ],
   "source": [
    "from sklearn.utils import resample\n",
    "\n",
    "df_estado_0 = df_CredInfo_Train[df_CredInfo_Train['Estado'] == 0]\n",
    "df_estado_1 = df_CredInfo_Train[df_CredInfo_Train['Estado'] == 1]\n",
    "count_class_0, count_class_1 = df_CredInfo_Train['Estado'].value_counts()\n",
    "\n",
    "# Muestra cuántos registros hay en cada clase antes del undersampling\n",
    "print(\"Antes del overdersampling:\")\n",
    "print(\"Clase 0:\", count_class_0)\n",
    "print(\"Clase 1:\", count_class_1)"
   ]
  },
  {
   "cell_type": "code",
   "execution_count": 117,
   "metadata": {},
   "outputs": [
    {
     "name": "stdout",
     "output_type": "stream",
     "text": [
      "\n",
      "Después del oversampling:\n",
      "Estado\n",
      "0    42215\n",
      "1    42215\n",
      "Name: count, dtype: int64\n"
     ]
    }
   ],
   "source": [
    "# Realiza el oversampling de la clase con menos registros (clase 1)\n",
    "df_CredInfo_1over = resample(df_estado_1, \n",
    "                                         replace=True,    # Muestreo con reemplazo\n",
    "                                         n_samples=count_class_0,    # Igualar al número de registros de la clase 0\n",
    "                                         random_state=42)  # Fijar la semilla aleatoria para reproducibilidad\n",
    "\n",
    "# Concatena los DataFrames de ambas clases después del oversampling\n",
    "df_CredInfo_TrainB = pd.concat([df_estado_0, df_CredInfo_1over])\n",
    "\n",
    "# Muestra cuántos registros hay en cada clase después del oversampling\n",
    "print(\"\\nDespués del oversampling:\")\n",
    "print(df_CredInfo_TrainB['Estado'].value_counts())\n",
    "\n",
    "# Ahora df_balanced contiene una muestra equilibrada de ambas clases"
   ]
  },
  {
   "cell_type": "code",
   "execution_count": 118,
   "metadata": {},
   "outputs": [
    {
     "data": {
      "text/plain": [
       "(84430, 6)"
      ]
     },
     "execution_count": 118,
     "metadata": {},
     "output_type": "execute_result"
    }
   ],
   "source": [
    "df_CredInfo_TrainB.shape"
   ]
  },
  {
   "cell_type": "markdown",
   "metadata": {},
   "source": [
    "## Modelación"
   ]
  },
  {
   "cell_type": "code",
   "execution_count": 119,
   "metadata": {},
   "outputs": [],
   "source": [
    "import matplotlib.pyplot as plt\n",
    "from sklearn.model_selection import train_test_split\n",
    "from sklearn.naive_bayes import GaussianNB\n",
    "from sklearn.naive_bayes import MultinomialNB\n",
    "from sklearn.metrics import accuracy_score, classification_report, confusion_matrix\n",
    "from sklearn.metrics import ConfusionMatrixDisplay\n",
    "from sklearn.discriminant_analysis import LinearDiscriminantAnalysis"
   ]
  },
  {
   "cell_type": "code",
   "execution_count": 120,
   "metadata": {},
   "outputs": [
    {
     "data": {
      "text/plain": [
       "Index(['PLAZO', 'CAPITAL', 'INT CORRIENTE', 'NUM.CREDITOS SOLICITADOS', 'mes',\n",
       "       'Estado'],\n",
       "      dtype='object')"
      ]
     },
     "execution_count": 120,
     "metadata": {},
     "output_type": "execute_result"
    }
   ],
   "source": [
    "df_CredInfo_TrainB.columns\n"
   ]
  },
  {
   "cell_type": "code",
   "execution_count": 121,
   "metadata": {},
   "outputs": [
    {
     "data": {
      "text/html": [
       "<div>\n",
       "<style scoped>\n",
       "    .dataframe tbody tr th:only-of-type {\n",
       "        vertical-align: middle;\n",
       "    }\n",
       "\n",
       "    .dataframe tbody tr th {\n",
       "        vertical-align: top;\n",
       "    }\n",
       "\n",
       "    .dataframe thead th {\n",
       "        text-align: right;\n",
       "    }\n",
       "</style>\n",
       "<table border=\"1\" class=\"dataframe\">\n",
       "  <thead>\n",
       "    <tr style=\"text-align: right;\">\n",
       "      <th></th>\n",
       "      <th>PLAZO</th>\n",
       "      <th>CAPITAL</th>\n",
       "      <th>INT CORRIENTE</th>\n",
       "      <th>NUM.CREDITOS SOLICITADOS</th>\n",
       "      <th>mes</th>\n",
       "      <th>Estado</th>\n",
       "    </tr>\n",
       "  </thead>\n",
       "  <tbody>\n",
       "    <tr>\n",
       "      <th>0</th>\n",
       "      <td>30</td>\n",
       "      <td>500000</td>\n",
       "      <td>9385.0</td>\n",
       "      <td>16</td>\n",
       "      <td>12</td>\n",
       "      <td>0</td>\n",
       "    </tr>\n",
       "    <tr>\n",
       "      <th>2</th>\n",
       "      <td>30</td>\n",
       "      <td>200000</td>\n",
       "      <td>3754.0</td>\n",
       "      <td>21</td>\n",
       "      <td>7</td>\n",
       "      <td>0</td>\n",
       "    </tr>\n",
       "    <tr>\n",
       "      <th>3</th>\n",
       "      <td>30</td>\n",
       "      <td>500000</td>\n",
       "      <td>9385.0</td>\n",
       "      <td>8</td>\n",
       "      <td>7</td>\n",
       "      <td>0</td>\n",
       "    </tr>\n",
       "    <tr>\n",
       "      <th>4</th>\n",
       "      <td>30</td>\n",
       "      <td>250000</td>\n",
       "      <td>4692.5</td>\n",
       "      <td>2</td>\n",
       "      <td>11</td>\n",
       "      <td>0</td>\n",
       "    </tr>\n",
       "    <tr>\n",
       "      <th>5</th>\n",
       "      <td>30</td>\n",
       "      <td>250000</td>\n",
       "      <td>4692.5</td>\n",
       "      <td>7</td>\n",
       "      <td>7</td>\n",
       "      <td>0</td>\n",
       "    </tr>\n",
       "  </tbody>\n",
       "</table>\n",
       "</div>"
      ],
      "text/plain": [
       "   PLAZO  CAPITAL  INT CORRIENTE  NUM.CREDITOS SOLICITADOS  mes  Estado\n",
       "0     30   500000         9385.0                        16   12       0\n",
       "2     30   200000         3754.0                        21    7       0\n",
       "3     30   500000         9385.0                         8    7       0\n",
       "4     30   250000         4692.5                         2   11       0\n",
       "5     30   250000         4692.5                         7    7       0"
      ]
     },
     "execution_count": 121,
     "metadata": {},
     "output_type": "execute_result"
    }
   ],
   "source": [
    "df_CredInfo_TrainB.head()"
   ]
  },
  {
   "cell_type": "markdown",
   "metadata": {},
   "source": [
    "### Naive Bayes"
   ]
  },
  {
   "cell_type": "code",
   "execution_count": 122,
   "metadata": {},
   "outputs": [],
   "source": [
    "##Función pára curva lift\n",
    "\n",
    "def plot_lift_curve(y_true, y_proba, ax):\n",
    "    # Create a dataframe with true labels and predicted probabilities\n",
    "    df = pd.DataFrame({'y_true': y_true, 'y_proba': y_proba})\n",
    "    df = df.sort_values('y_proba', ascending=False).reset_index(drop=True)\n",
    "    \n",
    "    # Calculate the cumulative gain for the lift curve\n",
    "    df['cumulative_data_fraction'] = (np.arange(len(df)) + 1) / len(df)\n",
    "    df['cumulative_positive_fraction'] = np.cumsum(df['y_true']) / df['y_true'].sum()\n",
    "    \n",
    "    # Plot the lift curve\n",
    "    ax.plot(df['cumulative_data_fraction'], df['cumulative_positive_fraction'], label='Lift Curve')\n",
    "    ax.plot([0, 1], [0, 1], linestyle='--', color='grey', label='Baseline')\n",
    "    ax.set_title('Lift Curve')\n",
    "    ax.set_xlabel('Cumulative Data Fraction')\n",
    "    ax.set_ylabel('Cumulative Positive Fraction')\n",
    "    ax.legend()"
   ]
  },
  {
   "cell_type": "code",
   "execution_count": 139,
   "metadata": {},
   "outputs": [],
   "source": [
    "def M_Naive_bayesTrain(X,y):\n",
    "     \n",
    "    model = MultinomialNB()\n",
    "    model.fit(X, y)\n",
    "    return model"
   ]
  },
  {
   "cell_type": "code",
   "execution_count": 151,
   "metadata": {},
   "outputs": [],
   "source": [
    "def M_Naive_bayes(X, y, model):\n",
    "   \n",
    "    y_pred = model.predict(X)\n",
    "    y_proba = model.predict_proba(X)[:, 1] \n",
    "   \n",
    "    print(\"Accuracy: \", accuracy_score(y, y_pred))\n",
    "    print('------------------------------')\n",
    "    print(classification_report(y, y_pred))\n",
    "\n",
    "    P_train_nb = model.predict(X)\n",
    "    P_test_nb = model.predict(X)\n",
    "\n",
    "    fig, axs = plt.subplots(1, 3, figsize=(18, 6))\n",
    "\n",
    "    disp = ConfusionMatrixDisplay.from_estimator(model, X, y, normalize='true', xticks_rotation='vertical', ax=axs[0])\n",
    "    axs[0].set_title('Train Data')\n",
    "\n",
    "    disp = ConfusionMatrixDisplay.from_estimator(model, X, y, normalize='true', xticks_rotation='vertical', ax=axs[1])\n",
    "    axs[1].set_title('Test Data')\n",
    "\n",
    "    plot_lift_curve(y, y_proba, ax=axs[2])\n",
    "\n",
    "    fig.subplots_adjust(wspace=0.3)\n",
    "    plt.tight_layout()\n",
    "    plt.show()\n",
    "    \n",
    "    X['Estado'] = y\n",
    "    X['Estado_Estimado'] = y_pred\n",
    "    X['Probabilidad'] = np.round(y_proba * 100,2)\n",
    "    \n",
    "    return X"
   ]
  },
  {
   "cell_type": "code",
   "execution_count": 142,
   "metadata": {},
   "outputs": [],
   "source": [
    "Modelo1 = M_Naive_bayesTrain(X = df_CredInfo_TrainB[['PLAZO', 'CAPITAL', 'INT CORRIENTE', 'NUM.CREDITOS SOLICITADOS', 'mes']],y =df_CredInfo_TrainB['Estado'])"
   ]
  },
  {
   "cell_type": "code",
   "execution_count": 152,
   "metadata": {},
   "outputs": [
    {
     "name": "stdout",
     "output_type": "stream",
     "text": [
      "Accuracy:  0.7084548104956269\n",
      "------------------------------\n",
      "              precision    recall  f1-score   support\n",
      "\n",
      "           0       0.89      0.63      0.74     13958\n",
      "           1       0.56      0.86      0.68      7651\n",
      "\n",
      "    accuracy                           0.71     21609\n",
      "   macro avg       0.72      0.74      0.71     21609\n",
      "weighted avg       0.77      0.71      0.71     21609\n",
      "\n"
     ]
    },
    {
     "data": {
      "image/png": "[encoded data removed]",
      "text/plain": [
       "<Figure size 1800x600 with 5 Axes>"
      ]
     },
     "metadata": {},
     "output_type": "display_data"
    }
   ],
   "source": [
    "df_final = M_Naive_bayes (X = df_CredInfo_Test[['PLAZO', 'CAPITAL', 'INT CORRIENTE', 'NUM.CREDITOS SOLICITADOS', 'mes']],y =df_CredInfo_Test['Estado'], model = Modelo1)"
   ]
  },
  {
   "cell_type": "code",
   "execution_count": 153,
   "metadata": {},
   "outputs": [
    {
     "data": {
      "text/html": [
       "<div>\n",
       "<style scoped>\n",
       "    .dataframe tbody tr th:only-of-type {\n",
       "        vertical-align: middle;\n",
       "    }\n",
       "\n",
       "    .dataframe tbody tr th {\n",
       "        vertical-align: top;\n",
       "    }\n",
       "\n",
       "    .dataframe thead th {\n",
       "        text-align: right;\n",
       "    }\n",
       "</style>\n",
       "<table border=\"1\" class=\"dataframe\">\n",
       "  <thead>\n",
       "    <tr style=\"text-align: right;\">\n",
       "      <th></th>\n",
       "      <th>PLAZO</th>\n",
       "      <th>CAPITAL</th>\n",
       "      <th>INT CORRIENTE</th>\n",
       "      <th>NUM.CREDITOS SOLICITADOS</th>\n",
       "      <th>mes</th>\n",
       "      <th>Estado</th>\n",
       "      <th>Estado_Estimado</th>\n",
       "      <th>Probabilidad</th>\n",
       "    </tr>\n",
       "  </thead>\n",
       "  <tbody>\n",
       "    <tr>\n",
       "      <th>86430</th>\n",
       "      <td>30</td>\n",
       "      <td>350000</td>\n",
       "      <td>6569.5</td>\n",
       "      <td>7</td>\n",
       "      <td>3</td>\n",
       "      <td>0</td>\n",
       "      <td>0</td>\n",
       "      <td>37.17</td>\n",
       "    </tr>\n",
       "    <tr>\n",
       "      <th>86431</th>\n",
       "      <td>30</td>\n",
       "      <td>370000</td>\n",
       "      <td>6944.9</td>\n",
       "      <td>1</td>\n",
       "      <td>8</td>\n",
       "      <td>1</td>\n",
       "      <td>1</td>\n",
       "      <td>99.97</td>\n",
       "    </tr>\n",
       "    <tr>\n",
       "      <th>86432</th>\n",
       "      <td>30</td>\n",
       "      <td>500000</td>\n",
       "      <td>9385.0</td>\n",
       "      <td>10</td>\n",
       "      <td>2</td>\n",
       "      <td>0</td>\n",
       "      <td>0</td>\n",
       "      <td>5.38</td>\n",
       "    </tr>\n",
       "    <tr>\n",
       "      <th>86433</th>\n",
       "      <td>30</td>\n",
       "      <td>500000</td>\n",
       "      <td>11800.0</td>\n",
       "      <td>10</td>\n",
       "      <td>3</td>\n",
       "      <td>0</td>\n",
       "      <td>0</td>\n",
       "      <td>0.00</td>\n",
       "    </tr>\n",
       "    <tr>\n",
       "      <th>86434</th>\n",
       "      <td>30</td>\n",
       "      <td>350000</td>\n",
       "      <td>6569.5</td>\n",
       "      <td>6</td>\n",
       "      <td>1</td>\n",
       "      <td>0</td>\n",
       "      <td>1</td>\n",
       "      <td>60.20</td>\n",
       "    </tr>\n",
       "  </tbody>\n",
       "</table>\n",
       "</div>"
      ],
      "text/plain": [
       "       PLAZO  CAPITAL  INT CORRIENTE  NUM.CREDITOS SOLICITADOS  mes  Estado  \\\n",
       "86430     30   350000         6569.5                         7    3       0   \n",
       "86431     30   370000         6944.9                         1    8       1   \n",
       "86432     30   500000         9385.0                        10    2       0   \n",
       "86433     30   500000        11800.0                        10    3       0   \n",
       "86434     30   350000         6569.5                         6    1       0   \n",
       "\n",
       "       Estado_Estimado  Probabilidad  \n",
       "86430                0         37.17  \n",
       "86431                1         99.97  \n",
       "86432                0          5.38  \n",
       "86433                0          0.00  \n",
       "86434                1         60.20  "
      ]
     },
     "execution_count": 153,
     "metadata": {},
     "output_type": "execute_result"
    }
   ],
   "source": [
    "df_final.head()"
   ]
  },
  {
   "cell_type": "markdown",
   "metadata": {},
   "source": [
    "### LDA"
   ]
  },
  {
   "cell_type": "code",
   "execution_count": 154,
   "metadata": {},
   "outputs": [],
   "source": [
    "def M_LDATrain(X,y):\n",
    "     \n",
    "    model = LinearDiscriminantAnalysis()\n",
    "    model.fit(X, y)\n",
    "    return model"
   ]
  },
  {
   "cell_type": "code",
   "execution_count": 155,
   "metadata": {},
   "outputs": [],
   "source": [
    "def M_LDA(X, y, model):\n",
    "    \n",
    "    y_pred = model.predict(X)\n",
    "    y_proba = model.predict_proba(X)[:, 1] \n",
    "\n",
    "    print(\"Accuracy: \", accuracy_score(y, y_pred))\n",
    "    print('------------------------------')\n",
    "    print(classification_report(y, y_pred))\n",
    "\n",
    "    P_train_lda = model.predict(X)\n",
    "    P_test_lda = model.predict(X)\n",
    "\n",
    "    fig, axs = plt.subplots(1, 3, figsize=(18, 6))\n",
    "\n",
    "    disp = ConfusionMatrixDisplay.from_estimator(model, X, y, normalize='true', xticks_rotation='vertical', ax=axs[0])\n",
    "    axs[0].set_title('Train Data')\n",
    "\n",
    "    disp = ConfusionMatrixDisplay.from_estimator(model, X, y, normalize='true', xticks_rotation='vertical', ax=axs[1])\n",
    "    axs[1].set_title('Test Data')\n",
    "\n",
    "    plot_lift_curve(y, y_proba, ax=axs[2])\n",
    "\n",
    "    fig.subplots_adjust(wspace=0.3)\n",
    "    plt.tight_layout()\n",
    "    plt.show()\n",
    "    \n",
    "    X['Estado'] = y\n",
    "    X['Estado_Estimado'] = y_pred\n",
    "    X['Probabilidad'] = np.round(y_proba * 100,2)\n",
    "    \n",
    "    return X\n",
    "\n"
   ]
  },
  {
   "cell_type": "code",
   "execution_count": 156,
   "metadata": {},
   "outputs": [],
   "source": [
    "Modelo2 = M_LDATrain(X = df_CredInfo_TrainB[['PLAZO', 'CAPITAL', 'INT CORRIENTE', 'NUM.CREDITOS SOLICITADOS', 'mes']],y =df_CredInfo_TrainB['Estado'])"
   ]
  },
  {
   "cell_type": "code",
   "execution_count": 157,
   "metadata": {},
   "outputs": [
    {
     "name": "stdout",
     "output_type": "stream",
     "text": [
      "Accuracy:  0.6887870794576334\n",
      "------------------------------\n",
      "              precision    recall  f1-score   support\n",
      "\n",
      "           0       0.92      0.57      0.70     13958\n",
      "           1       0.54      0.91      0.67      7651\n",
      "\n",
      "    accuracy                           0.69     21609\n",
      "   macro avg       0.73      0.74      0.69     21609\n",
      "weighted avg       0.78      0.69      0.69     21609\n",
      "\n"
     ]
    },
    {
     "data": {
      "image/png": "[encoded data removed]",
      "text/plain": [
       "<Figure size 1800x600 with 5 Axes>"
      ]
     },
     "metadata": {},
     "output_type": "display_data"
    }
   ],
   "source": [
    "df_final2 = M_LDA (X = df_CredInfo_Test[['PLAZO', 'CAPITAL', 'INT CORRIENTE', 'NUM.CREDITOS SOLICITADOS', 'mes']],y =df_CredInfo_Test['Estado'], model = Modelo2)"
   ]
  }
 ],
 "metadata": {
  "kernelspec": {
   "display_name": "Python 3",
   "language": "python",
   "name": "python3"
  },
  "language_info": {
   "codemirror_mode": {
    "name": "ipython",
    "version": 3
   },
   "file_extension": ".py",
   "mimetype": "text/x-python",
   "name": "python",
   "nbconvert_exporter": "python",
   "pygments_lexer": "ipython3",
   "version": "3.12.2"
  }
 },
 "nbformat": 4,
 "nbformat_minor": 2
}
