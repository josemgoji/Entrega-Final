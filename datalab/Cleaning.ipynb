{
 "cells": [
  {
   "cell_type": "code",
   "execution_count": 1,
   "metadata": {},
   "outputs": [],
   "source": [
    "import pandas as pd\n",
    "import numpy as np\n",
    "import seaborn as sns\n",
    "from scipy.stats import chi2"
   ]
  },
  {
   "cell_type": "code",
   "execution_count": 2,
   "metadata": {},
   "outputs": [],
   "source": [
    "df_raw = pd.read_excel('db_v0.xlsx')"
   ]
  },
  {
   "cell_type": "code",
   "execution_count": 38,
   "metadata": {},
   "outputs": [],
   "source": [
    "df_processed = df_raw.copy()"
   ]
  },
  {
   "cell_type": "markdown",
   "metadata": {},
   "source": [
    "## Eliminacion de registros sin informacion de mora o pago\n"
   ]
  },
  {
   "cell_type": "markdown",
   "metadata": {},
   "source": [
    "Se eliminaran los registros que a la fecha de corte de la base de datos , no llegaron a la fecha de pago, por lo tal no se tiene informacion de si pagaran o estaran en mora, por lo que no es de utilidad para el entrenamiento del mododelo\n"
   ]
  },
  {
   "cell_type": "code",
   "execution_count": 39,
   "metadata": {},
   "outputs": [],
   "source": [
    "df_processed = df_processed[df_processed['CAPITAL.1'] == 0]"
   ]
  },
  {
   "cell_type": "code",
   "execution_count": 40,
   "metadata": {},
   "outputs": [
    {
     "data": {
      "text/plain": [
       "(117654, 60)"
      ]
     },
     "execution_count": 40,
     "metadata": {},
     "output_type": "execute_result"
    }
   ],
   "source": [
    "df_processed.shape"
   ]
  },
  {
   "cell_type": "code",
   "execution_count": 48,
   "metadata": {},
   "outputs": [
    {
     "data": {
      "text/plain": [
       "ID_USUARIO\n",
       "5511    47\n",
       "Name: count, dtype: int64"
      ]
     },
     "execution_count": 48,
     "metadata": {},
     "output_type": "execute_result"
    }
   ],
   "source": [
    "df_raw['ID_USUARIO'][df_raw['ID_USUARIO']==5511].value_counts()"
   ]
  },
  {
   "cell_type": "markdown",
   "metadata": {},
   "source": [
    "## Generacion de columna de numero de prestamos que ha realizado la misma persona\n"
   ]
  },
  {
   "cell_type": "markdown",
   "metadata": {},
   "source": [
    "Debido a que la columna 'ID_USUARIO' por si sola no es de utilidad para el modelo, antes de hacer la eliminacion de esta se utilizara para obtener informacion relevante, como el numero de veces que un mismo 'ID_USUARIO' ha solicitado un credito.\n"
   ]
  },
  {
   "cell_type": "code",
   "execution_count": 41,
   "metadata": {},
   "outputs": [],
   "source": [
    "df_processed['NUM.CREDITOS SOLICITADOS'] = df_processed.groupby('ID_USUARIO').cumcount() + 1 "
   ]
  },
  {
   "cell_type": "code",
   "execution_count": 98,
   "metadata": {},
   "outputs": [
    {
     "data": {
      "text/html": [
       "<div>\n",
       "<style scoped>\n",
       "    .dataframe tbody tr th:only-of-type {\n",
       "        vertical-align: middle;\n",
       "    }\n",
       "\n",
       "    .dataframe tbody tr th {\n",
       "        vertical-align: top;\n",
       "    }\n",
       "\n",
       "    .dataframe thead th {\n",
       "        text-align: right;\n",
       "    }\n",
       "</style>\n",
       "<table border=\"1\" class=\"dataframe\">\n",
       "  <thead>\n",
       "    <tr style=\"text-align: right;\">\n",
       "      <th></th>\n",
       "      <th>ID_USUARIO</th>\n",
       "      <th>NUM.CREDITOS SOLICITADOS</th>\n",
       "    </tr>\n",
       "  </thead>\n",
       "  <tbody>\n",
       "    <tr>\n",
       "      <th>155</th>\n",
       "      <td>156</td>\n",
       "      <td>1</td>\n",
       "    </tr>\n",
       "    <tr>\n",
       "      <th>73026</th>\n",
       "      <td>156</td>\n",
       "      <td>2</td>\n",
       "    </tr>\n",
       "    <tr>\n",
       "      <th>83182</th>\n",
       "      <td>156</td>\n",
       "      <td>3</td>\n",
       "    </tr>\n",
       "    <tr>\n",
       "      <th>93316</th>\n",
       "      <td>156</td>\n",
       "      <td>4</td>\n",
       "    </tr>\n",
       "  </tbody>\n",
       "</table>\n",
       "</div>"
      ],
      "text/plain": [
       "       ID_USUARIO  NUM.CREDITOS SOLICITADOS\n",
       "155           156                         1\n",
       "73026         156                         2\n",
       "83182         156                         3\n",
       "93316         156                         4"
      ]
     },
     "execution_count": 98,
     "metadata": {},
     "output_type": "execute_result"
    }
   ],
   "source": [
    "df_processed[['ID_USUARIO','NUM.CREDITOS SOLICITADOS']][df_processed['ID_USUARIO']==156]"
   ]
  },
  {
   "cell_type": "markdown",
   "metadata": {},
   "source": [
    "## Eliminacion de columnas redundantes o innecesarias\n"
   ]
  },
  {
   "cell_type": "markdown",
   "metadata": {},
   "source": [
    "Para decidir cuales columnas deben eliminarse, se tomo encuenta el conocimiento del negocio por parte de la empresa LUMON y se realizo un analisis para seleccionar que columnas son resultado de operaciones entre otras.\n"
   ]
  },
  {
   "cell_type": "code",
   "execution_count": 8,
   "metadata": {},
   "outputs": [],
   "source": [
    "columns_to_drop = ['ID_USUARIO', 'ID CREDITO', 'PRODUCTO', 'MONEDA', 'CUOTAS',\n",
    "       'PERIODICIDAD CUOTAS','TASA CORRIENTE', 'TASA SEGURO','FECHA DESEMBOLSO','PRÓXIMA FECHA PAGO',\n",
    "       'TASA AVAL', 'IVA AVAL', 'DESC AVAL', 'DESC AVAL AL DESEMB','Cuotas pagadas',\n",
    "       'GESTIÓN DIGITAL', 'DESC. X INCLUSION', 'IVA GEST DIG',\n",
    "       'COD. PROMO DESC.', 'FACTURA VENTA','GESTIÓN DIGITAL.1', 'IVA',\n",
    "       'VALOR DESEMBOLSADO', 'VALOR FUTURO', 'CAPITAL.1',\n",
    "       'CAPITAL EN MORA', 'INT CORRIENTE.1', 'SEGURO.1', 'GESTIÓN DIGITAL.2',\n",
    "       'IVA.1','GAC','Cuotas Futuras', 'ESTADO 1', 'ESTADO 2',\n",
    "       'DEUDA A LA FECHA', 'DEUDA TOTAL CRÉDITO'    \n",
    "]"
   ]
  },
  {
   "cell_type": "code",
   "execution_count": 9,
   "metadata": {},
   "outputs": [],
   "source": [
    "df_processed = df_processed.drop(columns_to_drop, axis=1)"
   ]
  },
  {
   "cell_type": "code",
   "execution_count": 10,
   "metadata": {},
   "outputs": [
    {
     "data": {
      "text/plain": [
       "Index(['PLAZO', 'CAPITAL', 'INT CORRIENTE', 'SEGURO', 'DÍAS MORA', 'INT MORA',\n",
       "       'Cuotas en mora', 'TIPO EMPLEO', 'CIUDAD RESIDENCIA', 'TRABAJO',\n",
       "       'TIPO DE VIVIENDA', 'ESTRATO', 'AÑOS EN LA VIVIENDA',\n",
       "       'INGRESOS MENSUALES', 'GASTOS MENSUALES', 'INGRESOS ADICIONALES',\n",
       "       'TIPO DE CONTRATO', 'PERIODO DE PAGO', 'ESTADO CIVIL',\n",
       "       'NIVEL EDUCATIVO', 'PERSONAS A CARGO', 'NUMERO DE HIJOS',\n",
       "       'TIPO DE VEHICULO', 'TIEMPO TRABAJO', 'NUM.CREDITOS SOLICITADOS'],\n",
       "      dtype='object')"
      ]
     },
     "execution_count": 10,
     "metadata": {},
     "output_type": "execute_result"
    }
   ],
   "source": [
    "df_processed.columns"
   ]
  },
  {
   "cell_type": "markdown",
   "metadata": {},
   "source": [
    "## Divsion del data set\n"
   ]
  },
  {
   "cell_type": "markdown",
   "metadata": {},
   "source": [
    "Como se observo en el EDA , los datos de la Informacion de los usuarios, tienen un 97% de datos nulos, por lo cual se decide dividir el data set, dejando uno que contenga todas las columnas pero solo con los registros que no tengan datos nulos en la Informacion de los usuarios, y otro dataset con todos los registros sin incluir las columnas de informacion de los usuarios.\n"
   ]
  },
  {
   "cell_type": "code",
   "execution_count": 11,
   "metadata": {},
   "outputs": [],
   "source": [
    "df_users_info = df_processed.dropna(subset='TIPO EMPLEO')"
   ]
  },
  {
   "cell_type": "code",
   "execution_count": 12,
   "metadata": {},
   "outputs": [
    {
     "data": {
      "text/plain": [
       "Index(['PLAZO', 'CAPITAL', 'INT CORRIENTE', 'SEGURO', 'DÍAS MORA', 'INT MORA',\n",
       "       'Cuotas en mora', 'TIPO EMPLEO', 'CIUDAD RESIDENCIA', 'TRABAJO',\n",
       "       'TIPO DE VIVIENDA', 'ESTRATO', 'AÑOS EN LA VIVIENDA',\n",
       "       'INGRESOS MENSUALES', 'GASTOS MENSUALES', 'INGRESOS ADICIONALES',\n",
       "       'TIPO DE CONTRATO', 'PERIODO DE PAGO', 'ESTADO CIVIL',\n",
       "       'NIVEL EDUCATIVO', 'PERSONAS A CARGO', 'NUMERO DE HIJOS',\n",
       "       'TIPO DE VEHICULO', 'TIEMPO TRABAJO', 'NUM.CREDITOS SOLICITADOS'],\n",
       "      dtype='object')"
      ]
     },
     "execution_count": 12,
     "metadata": {},
     "output_type": "execute_result"
    }
   ],
   "source": [
    "df_users_info.columns"
   ]
  },
  {
   "cell_type": "code",
   "execution_count": 13,
   "metadata": {},
   "outputs": [],
   "source": [
    "users_info_columns = ['TIPO EMPLEO', 'CIUDAD RESIDENCIA', 'TRABAJO',\n",
    "       'TIPO DE VIVIENDA', 'ESTRATO', 'AÑOS EN LA VIVIENDA',\n",
    "       'INGRESOS MENSUALES', 'GASTOS MENSUALES', 'INGRESOS ADICIONALES',\n",
    "       'TIPO DE CONTRATO', 'PERIODO DE PAGO', 'ESTADO CIVIL',\n",
    "       'NIVEL EDUCATIVO', 'PERSONAS A CARGO', 'NUMERO DE HIJOS',\n",
    "       'TIPO DE VEHICULO', 'TIEMPO TRABAJO']\n",
    "\n",
    "df_reduced = df_processed.drop(users_info_columns,axis=1)"
   ]
  },
  {
   "cell_type": "code",
   "execution_count": 49,
   "metadata": {},
   "outputs": [
    {
     "data": {
      "text/plain": [
       "(117654, 5)"
      ]
     },
     "execution_count": 49,
     "metadata": {},
     "output_type": "execute_result"
    }
   ],
   "source": [
    "df_reduced.shape"
   ]
  },
  {
   "cell_type": "markdown",
   "metadata": {},
   "source": [
    "## Analisis de correlacion entre variables\n"
   ]
  },
  {
   "cell_type": "code",
   "execution_count": 15,
   "metadata": {},
   "outputs": [
    {
     "data": {
      "text/html": [
       "<div>\n",
       "<style scoped>\n",
       "    .dataframe tbody tr th:only-of-type {\n",
       "        vertical-align: middle;\n",
       "    }\n",
       "\n",
       "    .dataframe tbody tr th {\n",
       "        vertical-align: top;\n",
       "    }\n",
       "\n",
       "    .dataframe thead th {\n",
       "        text-align: right;\n",
       "    }\n",
       "</style>\n",
       "<table border=\"1\" class=\"dataframe\">\n",
       "  <thead>\n",
       "    <tr style=\"text-align: right;\">\n",
       "      <th></th>\n",
       "      <th>PLAZO</th>\n",
       "      <th>CAPITAL</th>\n",
       "      <th>INT CORRIENTE</th>\n",
       "      <th>SEGURO</th>\n",
       "      <th>DÍAS MORA</th>\n",
       "      <th>INT MORA</th>\n",
       "      <th>Cuotas en mora</th>\n",
       "      <th>NUM.CREDITOS SOLICITADOS</th>\n",
       "    </tr>\n",
       "  </thead>\n",
       "  <tbody>\n",
       "    <tr>\n",
       "      <th>PLAZO</th>\n",
       "      <td>1.000000</td>\n",
       "      <td>0.132103</td>\n",
       "      <td>0.304032</td>\n",
       "      <td>0.132103</td>\n",
       "      <td>-0.025933</td>\n",
       "      <td>0.003159</td>\n",
       "      <td>0.031821</td>\n",
       "      <td>0.026476</td>\n",
       "    </tr>\n",
       "    <tr>\n",
       "      <th>CAPITAL</th>\n",
       "      <td>0.132103</td>\n",
       "      <td>1.000000</td>\n",
       "      <td>0.953679</td>\n",
       "      <td>1.000000</td>\n",
       "      <td>-0.235231</td>\n",
       "      <td>-0.098516</td>\n",
       "      <td>-0.131759</td>\n",
       "      <td>0.350948</td>\n",
       "    </tr>\n",
       "    <tr>\n",
       "      <th>INT CORRIENTE</th>\n",
       "      <td>0.304032</td>\n",
       "      <td>0.953679</td>\n",
       "      <td>1.000000</td>\n",
       "      <td>0.953679</td>\n",
       "      <td>-0.233943</td>\n",
       "      <td>-0.102127</td>\n",
       "      <td>-0.098750</td>\n",
       "      <td>0.314401</td>\n",
       "    </tr>\n",
       "    <tr>\n",
       "      <th>SEGURO</th>\n",
       "      <td>0.132103</td>\n",
       "      <td>1.000000</td>\n",
       "      <td>0.953679</td>\n",
       "      <td>1.000000</td>\n",
       "      <td>-0.235231</td>\n",
       "      <td>-0.098516</td>\n",
       "      <td>-0.131760</td>\n",
       "      <td>0.350948</td>\n",
       "    </tr>\n",
       "    <tr>\n",
       "      <th>DÍAS MORA</th>\n",
       "      <td>-0.025933</td>\n",
       "      <td>-0.235231</td>\n",
       "      <td>-0.233943</td>\n",
       "      <td>-0.235231</td>\n",
       "      <td>1.000000</td>\n",
       "      <td>0.811162</td>\n",
       "      <td>0.605124</td>\n",
       "      <td>-0.211287</td>\n",
       "    </tr>\n",
       "    <tr>\n",
       "      <th>INT MORA</th>\n",
       "      <td>0.003159</td>\n",
       "      <td>-0.098516</td>\n",
       "      <td>-0.102127</td>\n",
       "      <td>-0.098516</td>\n",
       "      <td>0.811162</td>\n",
       "      <td>1.000000</td>\n",
       "      <td>0.714194</td>\n",
       "      <td>-0.164490</td>\n",
       "    </tr>\n",
       "    <tr>\n",
       "      <th>Cuotas en mora</th>\n",
       "      <td>0.031821</td>\n",
       "      <td>-0.131759</td>\n",
       "      <td>-0.098750</td>\n",
       "      <td>-0.131760</td>\n",
       "      <td>0.605124</td>\n",
       "      <td>0.714194</td>\n",
       "      <td>1.000000</td>\n",
       "      <td>-0.228029</td>\n",
       "    </tr>\n",
       "    <tr>\n",
       "      <th>NUM.CREDITOS SOLICITADOS</th>\n",
       "      <td>0.026476</td>\n",
       "      <td>0.350948</td>\n",
       "      <td>0.314401</td>\n",
       "      <td>0.350948</td>\n",
       "      <td>-0.211287</td>\n",
       "      <td>-0.164490</td>\n",
       "      <td>-0.228029</td>\n",
       "      <td>1.000000</td>\n",
       "    </tr>\n",
       "  </tbody>\n",
       "</table>\n",
       "</div>"
      ],
      "text/plain": [
       "                             PLAZO   CAPITAL  INT CORRIENTE    SEGURO  \\\n",
       "PLAZO                     1.000000  0.132103       0.304032  0.132103   \n",
       "CAPITAL                   0.132103  1.000000       0.953679  1.000000   \n",
       "INT CORRIENTE             0.304032  0.953679       1.000000  0.953679   \n",
       "SEGURO                    0.132103  1.000000       0.953679  1.000000   \n",
       "DÍAS MORA                -0.025933 -0.235231      -0.233943 -0.235231   \n",
       "INT MORA                  0.003159 -0.098516      -0.102127 -0.098516   \n",
       "Cuotas en mora            0.031821 -0.131759      -0.098750 -0.131760   \n",
       "NUM.CREDITOS SOLICITADOS  0.026476  0.350948       0.314401  0.350948   \n",
       "\n",
       "                          DÍAS MORA  INT MORA  Cuotas en mora  \\\n",
       "PLAZO                     -0.025933  0.003159        0.031821   \n",
       "CAPITAL                   -0.235231 -0.098516       -0.131759   \n",
       "INT CORRIENTE             -0.233943 -0.102127       -0.098750   \n",
       "SEGURO                    -0.235231 -0.098516       -0.131760   \n",
       "DÍAS MORA                  1.000000  0.811162        0.605124   \n",
       "INT MORA                   0.811162  1.000000        0.714194   \n",
       "Cuotas en mora             0.605124  0.714194        1.000000   \n",
       "NUM.CREDITOS SOLICITADOS  -0.211287 -0.164490       -0.228029   \n",
       "\n",
       "                          NUM.CREDITOS SOLICITADOS  \n",
       "PLAZO                                     0.026476  \n",
       "CAPITAL                                   0.350948  \n",
       "INT CORRIENTE                             0.314401  \n",
       "SEGURO                                    0.350948  \n",
       "DÍAS MORA                                -0.211287  \n",
       "INT MORA                                 -0.164490  \n",
       "Cuotas en mora                           -0.228029  \n",
       "NUM.CREDITOS SOLICITADOS                  1.000000  "
      ]
     },
     "execution_count": 15,
     "metadata": {},
     "output_type": "execute_result"
    }
   ],
   "source": [
    "df_reduced.corr()"
   ]
  },
  {
   "cell_type": "code",
   "execution_count": 16,
   "metadata": {},
   "outputs": [
    {
     "data": {
      "text/plain": [
       "<Axes: >"
      ]
     },
     "execution_count": 16,
     "metadata": {},
     "output_type": "execute_result"
    },
    {
     "data": {
      "image/png": "[encoded data removed]",
      "text/plain": [
       "<Figure size 640x480 with 2 Axes>"
      ]
     },
     "metadata": {},
     "output_type": "display_data"
    }
   ],
   "source": [
    "sns.heatmap(df_reduced.corr(), cmap='viridis', annot=True, fmt='.2f')"
   ]
  },
  {
   "cell_type": "markdown",
   "metadata": {},
   "source": [
    "## Eliminacion de columnas con corelaciones altas\n"
   ]
  },
  {
   "cell_type": "code",
   "execution_count": 17,
   "metadata": {},
   "outputs": [],
   "source": [
    "columns_highly_related = ['INT CORRIENTE','SEGURO','INT MORA']\n",
    "df_reduced = df_reduced.drop(columns_highly_related,axis=1)\n",
    "df_users_info = df_users_info.drop(columns_highly_related,axis=1)"
   ]
  },
  {
   "cell_type": "code",
   "execution_count": 18,
   "metadata": {},
   "outputs": [
    {
     "data": {
      "text/plain": [
       "<Axes: >"
      ]
     },
     "execution_count": 18,
     "metadata": {},
     "output_type": "execute_result"
    },
    {
     "data": {
      "image/png": "[encoded data removed]",
      "text/plain": [
       "<Figure size 640x480 with 2 Axes>"
      ]
     },
     "metadata": {},
     "output_type": "display_data"
    }
   ],
   "source": [
    "sns.heatmap(df_reduced.corr(), cmap='viridis', annot=True, fmt='.2f')"
   ]
  },
  {
   "cell_type": "markdown",
   "metadata": {},
   "source": [
    "## Eliminacion de outliers multivariable\n"
   ]
  },
  {
   "cell_type": "markdown",
   "metadata": {},
   "source": [
    "### Dadaframe reducido\n"
   ]
  },
  {
   "cell_type": "code",
   "execution_count": 19,
   "metadata": {},
   "outputs": [],
   "source": [
    "df = df_reduced.copy()"
   ]
  },
  {
   "cell_type": "code",
   "execution_count": 20,
   "metadata": {},
   "outputs": [],
   "source": [
    "#### Detectando datos outliers con la distandia de Mahalanobis\n",
    "\n",
    "mu = df.mean().values ### Calculando la media de los datos\n",
    "Sigma_inv = np.linalg.inv(df.cov().values) #### Calculando la inversa de la mtriz de covarianzas\n",
    "\n",
    "centered = df - mu  ### Centrando los datos\n",
    "centered = centered.to_numpy() ## par hacer multiplicacion de matrices es mejor llevar los dataframes a arrays\n",
    "\n",
    "MD2 = np.matmul(np.matmul(centered, Sigma_inv),centered.transpose()) ### Usando la formula de la distancia de mahalanobis\n",
    "\n",
    "MD2 = np.diag(MD2) ## Extrayendo la diagonal que mide la distancia al centroide de los puntos\n"
   ]
  },
  {
   "cell_type": "code",
   "execution_count": 22,
   "metadata": {},
   "outputs": [
    {
     "name": "stdout",
     "output_type": "stream",
     "text": [
      "Porcentaje de recorte: 7.89%\n"
     ]
    }
   ],
   "source": [
    "alpha = 0.01\n",
    "cut_off = chi2.ppf(1-alpha, len(df.columns)) ### Chi cuadrado con 1-alpha % y p grados de libertad\n",
    "##### los grados de libertad p son la cantidad de variables es decir el largo de el vector de nombres de las columans\n",
    "\n",
    "\n",
    "### Calculando el porcentaje de recorte con la metodologia de Mahal con significancia de alpha\n",
    "print(f\"Porcentaje de recorte: {round(100 * len(MD2[MD2 > cut_off])/len(df), 2)}%\")"
   ]
  },
  {
   "cell_type": "code",
   "execution_count": 28,
   "metadata": {},
   "outputs": [],
   "source": [
    "df_clean = df_reduced.copy()\n",
    "df_clean[\"out\"] = \"0\"\n",
    "df_clean.loc[MD2 > cut_off, \"out\"] = \"1\"\n",
    "df_clean = df_clean[df_clean['out']==\"0\"]"
   ]
  },
  {
   "cell_type": "code",
   "execution_count": 30,
   "metadata": {},
   "outputs": [
    {
     "data": {
      "text/plain": [
       "(108375, 6)"
      ]
     },
     "execution_count": 30,
     "metadata": {},
     "output_type": "execute_result"
    }
   ],
   "source": [
    "df_clean.shape"
   ]
  },
  {
   "cell_type": "markdown",
   "metadata": {},
   "source": [
    "### Dataframe info usuarios\n"
   ]
  },
  {
   "cell_type": "code",
   "execution_count": 54,
   "metadata": {},
   "outputs": [],
   "source": [
    "df = df_users_info.select_dtypes(include=['int64', 'float64'])"
   ]
  },
  {
   "cell_type": "code",
   "execution_count": 80,
   "metadata": {},
   "outputs": [],
   "source": [
    "df_catergoticos = df_users_info.select_dtypes(include=['object'])"
   ]
  },
  {
   "cell_type": "code",
   "execution_count": 56,
   "metadata": {},
   "outputs": [
    {
     "data": {
      "text/plain": [
       "Index(['PLAZO', 'CAPITAL', 'DÍAS MORA', 'Cuotas en mora', 'ESTRATO',\n",
       "       'INGRESOS MENSUALES', 'GASTOS MENSUALES', 'INGRESOS ADICIONALES',\n",
       "       'PERSONAS A CARGO', 'NUMERO DE HIJOS', 'NUM.CREDITOS SOLICITADOS'],\n",
       "      dtype='object')"
      ]
     },
     "execution_count": 56,
     "metadata": {},
     "output_type": "execute_result"
    }
   ],
   "source": [
    "df.columns"
   ]
  },
  {
   "cell_type": "code",
   "execution_count": 86,
   "metadata": {},
   "outputs": [],
   "source": [
    "#### Detectando datos outliers con la distandia de Mahalanobis\n",
    "\n",
    "mu = df.mean().values ### Calculando la media de los datos\n",
    "Sigma_inv = np.linalg.inv(df.cov().values) #### Calculando la inversa de la mtriz de covarianzas\n",
    "\n",
    "centered = df - mu  ### Centrando los datos\n",
    "centered = centered.to_numpy() ## par hacer multiplicacion de matrices es mejor llevar los dataframes a arrays\n",
    "\n",
    "MD2 = np.matmul(np.matmul(centered, Sigma_inv),centered.transpose()) ### Usando la formula de la distancia de mahalanobis\n",
    "\n",
    "MD2 = np.diag(MD2) ## Extrayendo la diagonal que mide la distancia al centroide de los puntos"
   ]
  },
  {
   "cell_type": "code",
   "execution_count": 93,
   "metadata": {},
   "outputs": [
    {
     "name": "stdout",
     "output_type": "stream",
     "text": [
      "Porcentaje de recorte: 0.87%\n"
     ]
    }
   ],
   "source": [
    "alpha = 0.01\n",
    "cut_off = chi2.ppf(1-alpha, len(df.columns)) ### Chi cuadrado con 1-alpha % y p grados de libertad\n",
    "##### los grados de libertad p son la cantidad de variables es decir el largo de el vector de nombres de las columans\n",
    "\n",
    "\n",
    "### Calculando el porcentaje de recorte con la metodologia de Mahal con significancia de alpha\n",
    "print(f\"Porcentaje de recorte: {round(100 * len(MD2[MD2 > cut_off])/len(df), 2)}%\")"
   ]
  },
  {
   "cell_type": "code",
   "execution_count": 88,
   "metadata": {},
   "outputs": [],
   "source": [
    "df_clean2 = df.copy()\n",
    "df_clean2[\"out\"] = \"0\"\n",
    "df_clean2.loc[MD2 > cut_off, \"out\"] = \"1\"\n",
    "df_clean2 = df_clean2[df_clean2['out']==\"0\"]"
   ]
  },
  {
   "cell_type": "code",
   "execution_count": 89,
   "metadata": {},
   "outputs": [],
   "source": [
    "df_users_clean = df_clean2.join(df_catergoticos, how='inner')"
   ]
  },
  {
   "cell_type": "code",
   "execution_count": 90,
   "metadata": {},
   "outputs": [
    {
     "data": {
      "text/plain": [
       "(4103, 23)"
      ]
     },
     "execution_count": 90,
     "metadata": {},
     "output_type": "execute_result"
    }
   ],
   "source": [
    "df_users_clean.shape"
   ]
  },
  {
   "cell_type": "markdown",
   "metadata": {},
   "source": [
    "### Guardar los datos en stage\n"
   ]
  },
  {
   "cell_type": "code",
   "execution_count": 97,
   "metadata": {},
   "outputs": [],
   "source": [
    "ruta1 = 'users.csv'\n",
    "df_users_clean.to_csv(ruta1, index=False) "
   ]
  },
  {
   "cell_type": "code",
   "execution_count": 96,
   "metadata": {},
   "outputs": [],
   "source": [
    "ruta2 = 'reducido.csv'\n",
    "df_clean.to_csv(ruta2, index=False) "
   ]
  },
  {
   "cell_type": "code",
   "execution_count": null,
   "metadata": {},
   "outputs": [],
   "source": []
  }
 ],
 "metadata": {
  "kernelspec": {
   "display_name": "DataScience",
   "language": "python",
   "name": "python3"
  },
  "language_info": {
   "codemirror_mode": {
    "name": "ipython",
    "version": 3
   },
   "file_extension": ".py",
   "mimetype": "text/x-python",
   "name": "python",
   "nbconvert_exporter": "python",
   "pygments_lexer": "ipython3",
   "version": "3.12.2"
  }
 },
 "nbformat": 4,
 "nbformat_minor": 2
}
