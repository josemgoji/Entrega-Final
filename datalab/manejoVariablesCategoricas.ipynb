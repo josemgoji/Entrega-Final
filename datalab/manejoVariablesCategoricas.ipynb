{
 "cells": [
  {
   "cell_type": "code",
   "execution_count": 3,
   "metadata": {},
   "outputs": [],
   "source": [
    "import pandas as pd\n",
    "import basicdescriptives_mod as bd\n",
    "import re\n",
    "import string\n",
    "from unidecode import unidecode\n",
    "from fuzzywuzzy import fuzz\n",
    "import numpy as np\n",
    "import locale"
   ]
  },
  {
   "cell_type": "code",
   "execution_count": 4,
   "metadata": {},
   "outputs": [],
   "source": [
    "df = pd.read_csv('../data/stage/db_stage_infousers.csv')"
   ]
  },
  {
   "cell_type": "code",
   "execution_count": 5,
   "metadata": {},
   "outputs": [
    {
     "data": {
      "text/plain": [
       "Index(['PLAZO', 'CAPITAL', 'INT CORRIENTE', 'DÍAS MORA', 'Cuotas en mora',\n",
       "       'ESTRATO', 'INGRESOS MENSUALES', 'GASTOS MENSUALES',\n",
       "       'INGRESOS ADICIONALES', 'PERSONAS A CARGO', 'NUMERO DE HIJOS',\n",
       "       'NUM.CREDITOS SOLICITADOS', 'FECHA DESEMBOLSO', 'PRÓXIMA FECHA PAGO',\n",
       "       'TIPO EMPLEO', 'CIUDAD RESIDENCIA', 'TRABAJO', 'TIPO DE VIVIENDA',\n",
       "       'AÑOS EN LA VIVIENDA', 'TIPO DE CONTRATO', 'PERIODO DE PAGO',\n",
       "       'ESTADO CIVIL', 'NIVEL EDUCATIVO', 'TIPO DE VEHICULO',\n",
       "       'TIEMPO TRABAJO'],\n",
       "      dtype='object')"
      ]
     },
     "execution_count": 5,
     "metadata": {},
     "output_type": "execute_result"
    }
   ],
   "source": [
    "df.columns"
   ]
  },
  {
   "cell_type": "markdown",
   "metadata": {},
   "source": [
    "## Manejo datos de fecha\n"
   ]
  },
  {
   "cell_type": "code",
   "execution_count": 6,
   "metadata": {},
   "outputs": [],
   "source": [
    "df['FECHA DESEMBOLSO'] = df['FECHA DESEMBOLSO'].str.replace('/', '-')\n",
    "\n",
    "# Convertir las fechas al formato \"%Y-%m-%d\"\n",
    "df['FECHA DESEMBOLSO'] = pd.to_datetime(df['FECHA DESEMBOLSO'], errors='coerce', format='%m-%d-%Y')"
   ]
  },
  {
   "cell_type": "code",
   "execution_count": 7,
   "metadata": {},
   "outputs": [],
   "source": [
    "df['PRÓXIMA FECHA PAGO'] = df['PRÓXIMA FECHA PAGO'].str.replace('/', '-')\n",
    "\n",
    "# Convertir las fechas al formato \"%Y-%m-%d\"\n",
    "df['PRÓXIMA FECHA PAGO'] = pd.to_datetime(df['PRÓXIMA FECHA PAGO'], errors='coerce', format='%m-%d-%Y')"
   ]
  },
  {
   "cell_type": "markdown",
   "metadata": {},
   "source": [
    "## Procesamiento de texto variables categricas\n"
   ]
  },
  {
   "cell_type": "code",
   "execution_count": 8,
   "metadata": {},
   "outputs": [],
   "source": [
    "def processing_text(texto):\n",
    "    if texto is None:\n",
    "        return None\n",
    "    texto = str(texto)\n",
    "    ### Limpieza\n",
    "    texto = texto.lower() # Estandarizar todo a minúscula\n",
    "    texto = unidecode(texto)  # Eliminar tildes\n",
    "    texto = re.sub(r'[^a-zA-Z0-9\\s/-]', '', texto)\n",
    "    texto = re.sub(r'\\s+', ' ', texto) # Eliminar espacios en blanco adicionales\n",
    "    texto = texto.strip() # Eliminar espacios al inicio y al final\n",
    "    \n",
    "    \n",
    "    return texto  "
   ]
  },
  {
   "cell_type": "code",
   "execution_count": 9,
   "metadata": {},
   "outputs": [
    {
     "data": {
      "text/plain": [
       "'Julio2-2015'"
      ]
     },
     "execution_count": 9,
     "metadata": {},
     "output_type": "execute_result"
    }
   ],
   "source": [
    "df['TIEMPO TRABAJO'][3719]"
   ]
  },
  {
   "cell_type": "code",
   "execution_count": 10,
   "metadata": {},
   "outputs": [],
   "source": [
    "categorical_columns = df.select_dtypes(include=['object']).columns\n",
    "df[categorical_columns] = df[categorical_columns].map(processing_text)"
   ]
  },
  {
   "cell_type": "code",
   "execution_count": 11,
   "metadata": {},
   "outputs": [
    {
     "data": {
      "text/plain": [
       "'julio2-2015'"
      ]
     },
     "execution_count": 11,
     "metadata": {},
     "output_type": "execute_result"
    }
   ],
   "source": [
    "df['TIEMPO TRABAJO'][3719]"
   ]
  },
  {
   "cell_type": "markdown",
   "metadata": {},
   "source": [
    "## agrupacion de ciudades\n"
   ]
  },
  {
   "cell_type": "code",
   "execution_count": 12,
   "metadata": {},
   "outputs": [],
   "source": [
    "mapeo = {}\n",
    "\n",
    "for ciudad in df['CIUDAD RESIDENCIA']:\n",
    "    if isinstance(ciudad, str):  # Verificar si es un string\n",
    "        ciudad_estandar = None\n",
    "        # Buscar si la ciudad ya está en el diccionario\n",
    "        for ciudad_mapeada in mapeo:\n",
    "            if fuzz.ratio(ciudad.lower(), ciudad_mapeada.lower()) > 70:  # Umbral de similitud del 80%\n",
    "                ciudad_estandar = ciudad_mapeada\n",
    "                break\n",
    "        if ciudad_estandar:\n",
    "            mapeo[ciudad_estandar].append(ciudad)\n",
    "        else:\n",
    "            mapeo[ciudad] = [ciudad]\n",
    "\n",
    "# Crear una nueva columna en el DataFrame con la ciudad estandarizada\n",
    "def obtener_ciudad_estandar(ciudad):\n",
    "    for ciudad_estandar, variantes in mapeo.items():\n",
    "        if ciudad in variantes:\n",
    "            return ciudad_estandar\n",
    "    return ciudad\n",
    "\n",
    "df['ciudad_estandarizada'] = df['CIUDAD RESIDENCIA'].apply(obtener_ciudad_estandar)"
   ]
  },
  {
   "cell_type": "markdown",
   "metadata": {},
   "source": [
    "## Procesamiento tiempo en trabajo\n"
   ]
  },
  {
   "cell_type": "code",
   "execution_count": 13,
   "metadata": {},
   "outputs": [],
   "source": [
    "# Separar datos con letras y números\n",
    "letras_numeros = df['TIEMPO TRABAJO'].str.contains(r'[a-zA-Z]', regex=True)\n",
    "#letras_numeros = letras_numeros.fillna(False)  # Rellenar NaN con False\n",
    "df['letras_numeros'] = df['TIEMPO TRABAJO'][letras_numeros]\n",
    "df['letras_numeros'] = df['letras_numeros'].replace('nan', np.nan)\n",
    "df['TIEMPO TRABAJO'] = df['TIEMPO TRABAJO'][~letras_numeros]"
   ]
  },
  {
   "cell_type": "markdown",
   "metadata": {},
   "source": [
    "## poner que si solo tiene numero agregarle la palabra año y es menor a 20\n"
   ]
  },
  {
   "cell_type": "code",
   "execution_count": 17,
   "metadata": {},
   "outputs": [
    {
     "data": {
      "text/plain": [
       "nan"
      ]
     },
     "execution_count": 17,
     "metadata": {},
     "output_type": "execute_result"
    }
   ],
   "source": [
    "df['letras_numeros'][38]"
   ]
  },
  {
   "cell_type": "code",
   "execution_count": 401,
   "metadata": {},
   "outputs": [
    {
     "data": {
      "text/plain": [
       "262       marzo 1 de 2019\n",
       "315          mayo 15 2018\n",
       "2895       agosto 20 2000\n",
       "3198    noviembre 19 2018\n",
       "3719         julio 2 2015\n",
       "3985       febrero 6 2020\n",
       "Name: fechas, dtype: object"
      ]
     },
     "execution_count": 401,
     "metadata": {},
     "output_type": "execute_result"
    }
   ],
   "source": [
    "def es_fecha(texto):\n",
    "    if pd.isna(texto):\n",
    "        return None\n",
    "    texto = re.sub(r'(\\D)(\\d)', r'\\1 \\2', texto)\n",
    "    texto = re.sub(r'[^a-zA-Z0-9\\s]', ' ', texto)\n",
    "    texto = re.sub(r'\\s+', ' ', texto)\n",
    "    \n",
    "    \n",
    "    meses = r'(enero|febrero|marzo|abril|mayo|junio|julio|agosto|septiembre|octubre|noviembre|diciembre)'\n",
    "    patron = rf'({meses} \\d{{1,2}} de \\d{{4}}|{meses} \\d{{1,2}} \\d{{4}}|{meses} – \\d{{1,2}} – \\d{{4}}|{meses}\\d{{1,2}}-\\d{{4}})'\n",
    "    #patron = rf'({meses} \\d{{1,2}} de \\d{{4}}|{meses} \\d{{1,2}} \\d{{4}}|{meses} – \\d{{1,2}} – \\d{{4}}|{meses}\\d{{1,2}}-\\d{{4}})'\n",
    "    match = re.search(patron, texto)\n",
    "    if match:\n",
    "        return match.group()\n",
    "\n",
    "df['fechas'] = df['letras_numeros'].apply(es_fecha)\n",
    "\n",
    "df['fechas'].dropna().head(30)"
   ]
  },
  {
   "cell_type": "code",
   "execution_count": 377,
   "metadata": {},
   "outputs": [],
   "source": [
    "def obtener_valor_numerico(texto):\n",
    "    if texto is not np.nan:\n",
    "        texto = str(texto)\n",
    "        texto = texto.lower()\n",
    "        meses = 0\n",
    "        anios = 0\n",
    "        if 'mes' in texto:\n",
    "            meses = re.findall(r'(\\d+)\\s*(?:mes?|meses?)', texto)\n",
    "            if len(meses)==0:\n",
    "                meses = 1\n",
    "            else:    \n",
    "                meses = int(meses[0])\n",
    "                \n",
    "        if any(word in texto.lower() for word in ['años', 'anos', 'año', 'años', 'ano']):\n",
    "            anios = re.findall(r'(\\d+)\\s*(?:años?|anos?|año)', texto)\n",
    "            if len(anios)==0:\n",
    "                anios = 12\n",
    "            else:    \n",
    "                anios = 12*int(anios[0])\n",
    "        if 'medio' in texto:\n",
    "            meses = meses + 6\n",
    "        return meses + anios\n",
    "    return np.nan"
   ]
  },
  {
   "cell_type": "code",
   "execution_count": 378,
   "metadata": {},
   "outputs": [
    {
     "data": {
      "text/plain": [
       "0    24.0\n",
       "1    12.0\n",
       "2    12.0\n",
       "3     NaN\n",
       "4     0.0\n",
       "Name: letras_numeros, dtype: float64"
      ]
     },
     "execution_count": 378,
     "metadata": {},
     "output_type": "execute_result"
    }
   ],
   "source": [
    "df['letras_numeros'] = df['letras_numeros'].apply(obtener_valor_numerico)\n",
    "df['letras_numeros'].head()"
   ]
  },
  {
   "cell_type": "code",
   "execution_count": 411,
   "metadata": {},
   "outputs": [
    {
     "data": {
      "text/plain": [
       "262     03-01-2019\n",
       "315     05-15-2018\n",
       "2895    08-20-2000\n",
       "3198    11-19-2018\n",
       "3719    07-02-2015\n",
       "3985    02-06-2020\n",
       "Name: fechas2, dtype: object"
      ]
     },
     "execution_count": 411,
     "metadata": {},
     "output_type": "execute_result"
    }
   ],
   "source": [
    "locale.setlocale(locale.LC_TIME, 'es_ES.UTF-8')\n",
    "\n",
    "df['fechas'] = df['fechas'].str.replace(' de ', ' ').str.capitalize()\n",
    "df['fechas2'] = pd.to_datetime(df['fechas'], format='%B %d %Y') \n",
    "df['fechas2'] = df['fechas2'].dt.strftime('%m-%d-%Y')\n",
    "\n",
    "# Mostrar el DataFrame resultante\n",
    "df['fechas2'].dropna().head(30)"
   ]
  },
  {
   "cell_type": "code",
   "execution_count": null,
   "metadata": {},
   "outputs": [],
   "source": [
    "# sumar dias desde fecha trabajo hasta fecha desembolso"
   ]
  },
  {
   "cell_type": "code",
   "execution_count": null,
   "metadata": {},
   "outputs": [],
   "source": [
    "# unir todo enuna sola columna"
   ]
  }
 ],
 "metadata": {
  "kernelspec": {
   "display_name": "DataScience",
   "language": "python",
   "name": "python3"
  },
  "language_info": {
   "codemirror_mode": {
    "name": "ipython",
    "version": 3
   },
   "file_extension": ".py",
   "mimetype": "text/x-python",
   "name": "python",
   "nbconvert_exporter": "python",
   "pygments_lexer": "ipython3",
   "version": "3.12.2"
  }
 },
 "nbformat": 4,
 "nbformat_minor": 2
}
