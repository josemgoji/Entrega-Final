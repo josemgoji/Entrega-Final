{
 "cells": [
  {
   "cell_type": "code",
   "execution_count": 1,
   "metadata": {},
   "outputs": [],
   "source": [
    "import pandas as pd\n",
    "import basicdescriptives_mod as bd\n",
    "import re\n",
    "import string\n",
    "from unidecode import unidecode\n",
    "from fuzzywuzzy import fuzz\n",
    "import numpy as np\n",
    "import locale"
   ]
  },
  {
   "cell_type": "code",
   "execution_count": 2,
   "metadata": {},
   "outputs": [],
   "source": [
    "df = pd.read_csv('../data/stage/db_stage_infousers.csv')"
   ]
  },
  {
   "cell_type": "markdown",
   "metadata": {},
   "source": [
    "## Manejo datos de fecha\n"
   ]
  },
  {
   "cell_type": "code",
   "execution_count": 3,
   "metadata": {},
   "outputs": [],
   "source": [
    "df['FECHA DESEMBOLSO'] = df['FECHA DESEMBOLSO'].str.replace('/', '-')\n",
    "df['FECHA DESEMBOLSO'] = pd.to_datetime(df['FECHA DESEMBOLSO'], errors='coerce', format='%m-%d-%Y')"
   ]
  },
  {
   "cell_type": "code",
   "execution_count": 4,
   "metadata": {},
   "outputs": [],
   "source": [
    "df['PRÓXIMA FECHA PAGO'] = df['PRÓXIMA FECHA PAGO'].str.replace('/', '-')\n",
    "df['PRÓXIMA FECHA PAGO'] = pd.to_datetime(df['PRÓXIMA FECHA PAGO'], errors='coerce', format='%m-%d-%Y')"
   ]
  },
  {
   "cell_type": "markdown",
   "metadata": {},
   "source": [
    "## Procesamiento de texto variables categricas\n"
   ]
  },
  {
   "cell_type": "code",
   "execution_count": 5,
   "metadata": {},
   "outputs": [],
   "source": [
    "def processing_text(texto):\n",
    "    if pd.isna(texto):\n",
    "        return np.nan\n",
    "    texto = str(texto)\n",
    "    ### Limpieza\n",
    "    texto = texto.lower() # Estandarizar todo a minúscula\n",
    "    texto = unidecode(texto)  # Eliminar tildes\n",
    "    texto = re.sub(r'[^a-zA-Z0-9\\s/-]', '', texto)\n",
    "    texto = re.sub(r'\\s+', ' ', texto) # Eliminar espacios en blanco adicionales\n",
    "    texto = texto.strip() # Eliminar espacios al inicio y al final\n",
    "    \n",
    "    return texto  "
   ]
  },
  {
   "cell_type": "code",
   "execution_count": 6,
   "metadata": {},
   "outputs": [
    {
     "data": {
      "text/plain": [
       "726"
      ]
     },
     "execution_count": 6,
     "metadata": {},
     "output_type": "execute_result"
    }
   ],
   "source": [
    "df['CIUDAD RESIDENCIA'].nunique()"
   ]
  },
  {
   "cell_type": "code",
   "execution_count": 7,
   "metadata": {},
   "outputs": [],
   "source": [
    "categorical_columns = df.select_dtypes(include=['object']).columns\n",
    "df[categorical_columns] = df[categorical_columns].map(processing_text)"
   ]
  },
  {
   "cell_type": "markdown",
   "metadata": {},
   "source": [
    "## agrupacion de ciudades\n"
   ]
  },
  {
   "cell_type": "code",
   "execution_count": 8,
   "metadata": {},
   "outputs": [],
   "source": [
    "departamentos_colombia = [\n",
    "    \"amazonas\",\n",
    "    \"antioquia\",\n",
    "    \"arauca\",\n",
    "    \"atlantico\",\n",
    "    \"bolivar\",\n",
    "    \"boyaca\",\n",
    "    \"caldas\",\n",
    "    \"caqueta\",\n",
    "    \"casanare\",\n",
    "    \"cauca\",\n",
    "    \"cesar\",\n",
    "    \"choco\",\n",
    "    \"cordoba\",\n",
    "    \"cundinamarca\",\n",
    "    \"guainia\",\n",
    "    \"guaviare\",\n",
    "    \"huila\",\n",
    "    \"la guajira\",\n",
    "    \"magdalena\",\n",
    "    \"meta\",\n",
    "    \"narino\",\n",
    "    \"norte de santander\",\n",
    "    \"putumayo\",\n",
    "    \"quindio\",\n",
    "    \"risaralda\",\n",
    "    \"san andres y providencia\",\n",
    "    \"santander\",\n",
    "    \"sucre\",\n",
    "    \"tolima\",\n",
    "    \"valle\", \"cauca\",\n",
    "    \"vaupes\",\n",
    "    \"vichada\"\n",
    "]\n"
   ]
  },
  {
   "cell_type": "code",
   "execution_count": 9,
   "metadata": {},
   "outputs": [],
   "source": [
    "## procesamiento de texto extra para las ciudades\n",
    "def processing_text_ciudades(texto):\n",
    "    if pd.isna(texto):\n",
    "        return np.nan\n",
    "    texto = str(texto)\n",
    "    ### Limpieza\n",
    "    texto = texto.lower() # Estandarizar todo a minúscula\n",
    "    texto = re.sub(r'\\s+', ' ', texto) # Eliminar espacios en blanco adicionales\n",
    "    texto = re.sub(r'[^a-zA-Z0-9\\s]', '', texto) # Eliminar caracteres especiales\n",
    "    texto = texto.strip() # Eliminar espacios al inicio y al final\n",
    "    \n",
    "    # Tokenizar el texto\n",
    "    palabras = texto.split()\n",
    "    \n",
    "    # Filtrar las palabras que no son nombres de departamentos\n",
    "    palabras_filtradas = [palabra for palabra in palabras if not any(fuzz.ratio(palabra, depto) >= 80 for depto in departamentos_colombia)]\n",
    "    \n",
    "    # Reconstruir el texto\n",
    "    texto_filtrado = ' '.join(palabras_filtradas)\n",
    "    if not texto_filtrado:  # Si el texto filtrado está vacío\n",
    "        return np.nan\n",
    "    \n",
    "    return texto_filtrado\n"
   ]
  },
  {
   "cell_type": "code",
   "execution_count": 10,
   "metadata": {},
   "outputs": [],
   "source": [
    "df['CIUDAD RESIDENCIA'] = df['CIUDAD RESIDENCIA'].apply(processing_text_ciudades)"
   ]
  },
  {
   "cell_type": "code",
   "execution_count": 11,
   "metadata": {},
   "outputs": [],
   "source": [
    "def mapear_ciudades(df):\n",
    "    mapeo = {}\n",
    "\n",
    "    for ciudad in df['CIUDAD RESIDENCIA']:\n",
    "        if isinstance(ciudad, str):  # Verificar si es un string\n",
    "            ciudad_estandar = None\n",
    "            # Buscar si la ciudad ya está en el diccionario\n",
    "            for ciudad_mapeada in mapeo:\n",
    "                if fuzz.ratio(ciudad.lower(), ciudad_mapeada.lower()) > 70:  # Umbral de similitud del 80%\n",
    "                    ciudad_estandar = ciudad_mapeada\n",
    "                    break\n",
    "            if ciudad_estandar:\n",
    "                mapeo[ciudad_estandar].append(ciudad)\n",
    "            else:\n",
    "                mapeo[ciudad] = [ciudad]\n",
    "\n",
    "    return mapeo\n",
    "\n",
    "def obtener_ciudad_estandar(ciudad, mapeo):\n",
    "    if pd.isna(ciudad):\n",
    "        return np.nan\n",
    "    if isinstance(ciudad, str):  # Verificar si es un string\n",
    "        for ciudad_estandar, variantes in mapeo.items():\n",
    "            if ciudad in variantes:\n",
    "                return ciudad_estandar\n",
    "    return ciudad\n",
    "\n",
    "# Crear el mapeo\n",
    "mapeo = mapear_ciudades(df)\n",
    "\n",
    "# Crear una nueva columna en el DataFrame con la ciudad estandarizada\n",
    "df['ciudad_estandarizada'] = df['CIUDAD RESIDENCIA'].apply(lambda x: obtener_ciudad_estandar(x, mapeo))\n"
   ]
  },
  {
   "cell_type": "code",
   "execution_count": 12,
   "metadata": {},
   "outputs": [
    {
     "data": {
      "text/plain": [
       "255"
      ]
     },
     "execution_count": 12,
     "metadata": {},
     "output_type": "execute_result"
    }
   ],
   "source": [
    "df['ciudad_estandarizada'].nunique()"
   ]
  },
  {
   "cell_type": "code",
   "execution_count": 13,
   "metadata": {},
   "outputs": [],
   "source": [
    "df_ciudades = pd.read_csv('../data/raw/ciudades.csv')"
   ]
  },
  {
   "cell_type": "code",
   "execution_count": 14,
   "metadata": {},
   "outputs": [],
   "source": [
    "def check_similarity(x, cities_list):\n",
    "    if not isinstance(x, str) or pd.isnull(x):\n",
    "        return False\n",
    "    return any(fuzz.ratio(x, city) >= 70 for city in cities_list)"
   ]
  },
  {
   "cell_type": "code",
   "execution_count": 15,
   "metadata": {},
   "outputs": [],
   "source": [
    "df['En_lista'] = df['ciudad_estandarizada'].apply(check_similarity, cities_list=df_ciudades['name'].values)"
   ]
  },
  {
   "cell_type": "code",
   "execution_count": 16,
   "metadata": {},
   "outputs": [
    {
     "data": {
      "text/plain": [
       "En_lista\n",
       "True     4035\n",
       "False      70\n",
       "Name: count, dtype: int64"
      ]
     },
     "execution_count": 16,
     "metadata": {},
     "output_type": "execute_result"
    }
   ],
   "source": [
    "df['En_lista'].dropna().value_counts()"
   ]
  },
  {
   "cell_type": "code",
   "execution_count": 17,
   "metadata": {},
   "outputs": [
    {
     "name": "stdout",
     "output_type": "stream",
     "text": [
      "<class 'pandas.core.frame.DataFrame'>\n",
      "Index: 70 entries, 12 to 4084\n",
      "Data columns (total 2 columns):\n",
      " #   Column                Non-Null Count  Dtype \n",
      "---  ------                --------------  ----- \n",
      " 0   ciudad_estandarizada  26 non-null     object\n",
      " 1   En_lista              70 non-null     bool  \n",
      "dtypes: bool(1), object(1)\n",
      "memory usage: 1.2+ KB\n"
     ]
    }
   ],
   "source": [
    "df[['ciudad_estandarizada','En_lista']][df['En_lista']==False].info()"
   ]
  },
  {
   "cell_type": "code",
   "execution_count": 18,
   "metadata": {},
   "outputs": [
    {
     "data": {
      "text/html": [
       "<div>\n",
       "<style scoped>\n",
       "    .dataframe tbody tr th:only-of-type {\n",
       "        vertical-align: middle;\n",
       "    }\n",
       "\n",
       "    .dataframe tbody tr th {\n",
       "        vertical-align: top;\n",
       "    }\n",
       "\n",
       "    .dataframe thead th {\n",
       "        text-align: right;\n",
       "    }\n",
       "</style>\n",
       "<table border=\"1\" class=\"dataframe\">\n",
       "  <thead>\n",
       "    <tr style=\"text-align: right;\">\n",
       "      <th></th>\n",
       "      <th>ciudad_estandarizada</th>\n",
       "      <th>En_lista</th>\n",
       "    </tr>\n",
       "  </thead>\n",
       "  <tbody>\n",
       "    <tr>\n",
       "      <th>23</th>\n",
       "      <td>san pedro de los milagros</td>\n",
       "      <td>False</td>\n",
       "    </tr>\n",
       "    <tr>\n",
       "      <th>204</th>\n",
       "      <td>cundaytolima</td>\n",
       "      <td>False</td>\n",
       "    </tr>\n",
       "    <tr>\n",
       "      <th>220</th>\n",
       "      <td>fundacionmagdalena</td>\n",
       "      <td>False</td>\n",
       "    </tr>\n",
       "    <tr>\n",
       "      <th>388</th>\n",
       "      <td>cundaytolima</td>\n",
       "      <td>False</td>\n",
       "    </tr>\n",
       "    <tr>\n",
       "      <th>1231</th>\n",
       "      <td>bogota distrito capital</td>\n",
       "      <td>False</td>\n",
       "    </tr>\n",
       "    <tr>\n",
       "      <th>1247</th>\n",
       "      <td>3015554054</td>\n",
       "      <td>False</td>\n",
       "    </tr>\n",
       "    <tr>\n",
       "      <th>1516</th>\n",
       "      <td>11001</td>\n",
       "      <td>False</td>\n",
       "    </tr>\n",
       "    <tr>\n",
       "      <th>1616</th>\n",
       "      <td>san andres de cuerquia</td>\n",
       "      <td>False</td>\n",
       "    </tr>\n",
       "    <tr>\n",
       "      <th>1622</th>\n",
       "      <td>calivalle</td>\n",
       "      <td>False</td>\n",
       "    </tr>\n",
       "    <tr>\n",
       "      <th>1925</th>\n",
       "      <td>manatiatlantico</td>\n",
       "      <td>False</td>\n",
       "    </tr>\n",
       "    <tr>\n",
       "      <th>2151</th>\n",
       "      <td>codazzi</td>\n",
       "      <td>False</td>\n",
       "    </tr>\n",
       "    <tr>\n",
       "      <th>2311</th>\n",
       "      <td>zona bananera</td>\n",
       "      <td>False</td>\n",
       "    </tr>\n",
       "    <tr>\n",
       "      <th>2318</th>\n",
       "      <td>soledadatlantico</td>\n",
       "      <td>False</td>\n",
       "    </tr>\n",
       "    <tr>\n",
       "      <th>2460</th>\n",
       "      <td>zona bananera</td>\n",
       "      <td>False</td>\n",
       "    </tr>\n",
       "    <tr>\n",
       "      <th>2617</th>\n",
       "      <td>bosconia</td>\n",
       "      <td>False</td>\n",
       "    </tr>\n",
       "    <tr>\n",
       "      <th>2650</th>\n",
       "      <td>viracocha</td>\n",
       "      <td>False</td>\n",
       "    </tr>\n",
       "    <tr>\n",
       "      <th>2736</th>\n",
       "      <td>chile</td>\n",
       "      <td>False</td>\n",
       "    </tr>\n",
       "    <tr>\n",
       "      <th>2931</th>\n",
       "      <td>santa fe de</td>\n",
       "      <td>False</td>\n",
       "    </tr>\n",
       "    <tr>\n",
       "      <th>3035</th>\n",
       "      <td>tuluavalle</td>\n",
       "      <td>False</td>\n",
       "    </tr>\n",
       "    <tr>\n",
       "      <th>3216</th>\n",
       "      <td>el zulia norte de colombia</td>\n",
       "      <td>False</td>\n",
       "    </tr>\n",
       "    <tr>\n",
       "      <th>3279</th>\n",
       "      <td>medellinantioquia</td>\n",
       "      <td>False</td>\n",
       "    </tr>\n",
       "    <tr>\n",
       "      <th>3647</th>\n",
       "      <td>san pedro de los milagros</td>\n",
       "      <td>False</td>\n",
       "    </tr>\n",
       "    <tr>\n",
       "      <th>3811</th>\n",
       "      <td>3176472460</td>\n",
       "      <td>False</td>\n",
       "    </tr>\n",
       "    <tr>\n",
       "      <th>3916</th>\n",
       "      <td>san andres de cuerquia</td>\n",
       "      <td>False</td>\n",
       "    </tr>\n",
       "    <tr>\n",
       "      <th>4080</th>\n",
       "      <td>santiago de cali del</td>\n",
       "      <td>False</td>\n",
       "    </tr>\n",
       "    <tr>\n",
       "      <th>4084</th>\n",
       "      <td>santiago de cali del</td>\n",
       "      <td>False</td>\n",
       "    </tr>\n",
       "  </tbody>\n",
       "</table>\n",
       "</div>"
      ],
      "text/plain": [
       "            ciudad_estandarizada  En_lista\n",
       "23     san pedro de los milagros     False\n",
       "204                 cundaytolima     False\n",
       "220           fundacionmagdalena     False\n",
       "388                 cundaytolima     False\n",
       "1231     bogota distrito capital     False\n",
       "1247                  3015554054     False\n",
       "1516                       11001     False\n",
       "1616      san andres de cuerquia     False\n",
       "1622                   calivalle     False\n",
       "1925             manatiatlantico     False\n",
       "2151                     codazzi     False\n",
       "2311               zona bananera     False\n",
       "2318            soledadatlantico     False\n",
       "2460               zona bananera     False\n",
       "2617                    bosconia     False\n",
       "2650                   viracocha     False\n",
       "2736                       chile     False\n",
       "2931                 santa fe de     False\n",
       "3035                  tuluavalle     False\n",
       "3216  el zulia norte de colombia     False\n",
       "3279           medellinantioquia     False\n",
       "3647   san pedro de los milagros     False\n",
       "3811                  3176472460     False\n",
       "3916      san andres de cuerquia     False\n",
       "4080        santiago de cali del     False\n",
       "4084        santiago de cali del     False"
      ]
     },
     "execution_count": 18,
     "metadata": {},
     "output_type": "execute_result"
    }
   ],
   "source": [
    "df[['ciudad_estandarizada','En_lista']][df['En_lista']==False].dropna().head(30)"
   ]
  },
  {
   "cell_type": "code",
   "execution_count": 19,
   "metadata": {},
   "outputs": [],
   "source": [
    "def obtener_ubicacion_ciudad(ciudad, ciudades_df, umbral_similitud):\n",
    "    if pd.isna(ciudad):  # Si la ciudad es NaN, devolver None\n",
    "        return None\n",
    "    \n",
    "    for index, row in ciudades_df.iterrows():\n",
    "        if fuzz.ratio(ciudad, row['name']) >= umbral_similitud:\n",
    "            return row['location']\n",
    "    return np.nan"
   ]
  },
  {
   "cell_type": "code",
   "execution_count": 20,
   "metadata": {},
   "outputs": [],
   "source": [
    "df['Ubicacion'] = df['ciudad_estandarizada'].apply(lambda x: obtener_ubicacion_ciudad(x, df_ciudades, 80))"
   ]
  },
  {
   "cell_type": "code",
   "execution_count": 21,
   "metadata": {},
   "outputs": [],
   "source": [
    "regex = r'\"latitude\":(-?\\d+\\.\\d+),\"longitude\":(-?\\d+\\.\\d+)'\n",
    "def extraer_latitud(ubicacion):\n",
    "    if pd.isna(ubicacion):\n",
    "        return None\n",
    "    match = re.search(regex, ubicacion)\n",
    "    if match:\n",
    "        return float(match.group(1))\n",
    "    else:\n",
    "        return None\n",
    "\n",
    "# Función para extraer longitud\n",
    "def extraer_longitud(ubicacion):\n",
    "    if pd.isna(ubicacion):\n",
    "        return None\n",
    "    match = re.search(regex, ubicacion)\n",
    "    if match:\n",
    "        return float(match.group(2))\n",
    "    else:\n",
    "        return None\n",
    "\n",
    "# Crear columnas de latitud y longitud\n",
    "df['latitud'] = df['Ubicacion'].apply(extraer_latitud)\n",
    "df['longitud'] = df['Ubicacion'].apply(extraer_longitud)"
   ]
  },
  {
   "cell_type": "code",
   "execution_count": 22,
   "metadata": {},
   "outputs": [
    {
     "data": {
      "text/html": [
       "<div>\n",
       "<style scoped>\n",
       "    .dataframe tbody tr th:only-of-type {\n",
       "        vertical-align: middle;\n",
       "    }\n",
       "\n",
       "    .dataframe tbody tr th {\n",
       "        vertical-align: top;\n",
       "    }\n",
       "\n",
       "    .dataframe thead th {\n",
       "        text-align: right;\n",
       "    }\n",
       "</style>\n",
       "<table border=\"1\" class=\"dataframe\">\n",
       "  <thead>\n",
       "    <tr style=\"text-align: right;\">\n",
       "      <th></th>\n",
       "      <th>ciudad_estandarizada</th>\n",
       "      <th>latitud</th>\n",
       "      <th>longitud</th>\n",
       "    </tr>\n",
       "  </thead>\n",
       "  <tbody>\n",
       "    <tr>\n",
       "      <th>0</th>\n",
       "      <td>pasto</td>\n",
       "      <td>1.21361</td>\n",
       "      <td>-77.28111</td>\n",
       "    </tr>\n",
       "    <tr>\n",
       "      <th>1</th>\n",
       "      <td>buga</td>\n",
       "      <td>3.90089</td>\n",
       "      <td>-76.29783</td>\n",
       "    </tr>\n",
       "    <tr>\n",
       "      <th>2</th>\n",
       "      <td>cucuta</td>\n",
       "      <td>7.53941</td>\n",
       "      <td>-72.77238</td>\n",
       "    </tr>\n",
       "    <tr>\n",
       "      <th>3</th>\n",
       "      <td>bogota</td>\n",
       "      <td>4.60971</td>\n",
       "      <td>-74.08175</td>\n",
       "    </tr>\n",
       "    <tr>\n",
       "      <th>4</th>\n",
       "      <td>la ceja</td>\n",
       "      <td>5.04333</td>\n",
       "      <td>-76.01667</td>\n",
       "    </tr>\n",
       "    <tr>\n",
       "      <th>5</th>\n",
       "      <td>cucuta</td>\n",
       "      <td>7.53941</td>\n",
       "      <td>-72.77238</td>\n",
       "    </tr>\n",
       "    <tr>\n",
       "      <th>6</th>\n",
       "      <td>campoalegre</td>\n",
       "      <td>2.68489</td>\n",
       "      <td>-75.32311</td>\n",
       "    </tr>\n",
       "    <tr>\n",
       "      <th>7</th>\n",
       "      <td>medellin</td>\n",
       "      <td>6.25184</td>\n",
       "      <td>-75.56359</td>\n",
       "    </tr>\n",
       "    <tr>\n",
       "      <th>8</th>\n",
       "      <td>pereira</td>\n",
       "      <td>4.81333</td>\n",
       "      <td>-75.69611</td>\n",
       "    </tr>\n",
       "    <tr>\n",
       "      <th>9</th>\n",
       "      <td>bogota</td>\n",
       "      <td>4.60971</td>\n",
       "      <td>-74.08175</td>\n",
       "    </tr>\n",
       "    <tr>\n",
       "      <th>10</th>\n",
       "      <td>cartagena</td>\n",
       "      <td>10.39972</td>\n",
       "      <td>-75.51444</td>\n",
       "    </tr>\n",
       "    <tr>\n",
       "      <th>11</th>\n",
       "      <td>garzon</td>\n",
       "      <td>2.19593</td>\n",
       "      <td>-75.62777</td>\n",
       "    </tr>\n",
       "    <tr>\n",
       "      <th>12</th>\n",
       "      <td>NaN</td>\n",
       "      <td>NaN</td>\n",
       "      <td>NaN</td>\n",
       "    </tr>\n",
       "    <tr>\n",
       "      <th>13</th>\n",
       "      <td>villanueva la</td>\n",
       "      <td>10.60528</td>\n",
       "      <td>-72.98000</td>\n",
       "    </tr>\n",
       "    <tr>\n",
       "      <th>14</th>\n",
       "      <td>bello</td>\n",
       "      <td>6.33732</td>\n",
       "      <td>-75.55795</td>\n",
       "    </tr>\n",
       "    <tr>\n",
       "      <th>15</th>\n",
       "      <td>bello</td>\n",
       "      <td>6.33732</td>\n",
       "      <td>-75.55795</td>\n",
       "    </tr>\n",
       "    <tr>\n",
       "      <th>16</th>\n",
       "      <td>bogota</td>\n",
       "      <td>4.60971</td>\n",
       "      <td>-74.08175</td>\n",
       "    </tr>\n",
       "    <tr>\n",
       "      <th>17</th>\n",
       "      <td>envigado</td>\n",
       "      <td>6.17591</td>\n",
       "      <td>-75.59174</td>\n",
       "    </tr>\n",
       "    <tr>\n",
       "      <th>18</th>\n",
       "      <td>bogota</td>\n",
       "      <td>4.60971</td>\n",
       "      <td>-74.08175</td>\n",
       "    </tr>\n",
       "    <tr>\n",
       "      <th>19</th>\n",
       "      <td>bogota</td>\n",
       "      <td>4.60971</td>\n",
       "      <td>-74.08175</td>\n",
       "    </tr>\n",
       "  </tbody>\n",
       "</table>\n",
       "</div>"
      ],
      "text/plain": [
       "   ciudad_estandarizada   latitud  longitud\n",
       "0                 pasto   1.21361 -77.28111\n",
       "1                  buga   3.90089 -76.29783\n",
       "2                cucuta   7.53941 -72.77238\n",
       "3                bogota   4.60971 -74.08175\n",
       "4               la ceja   5.04333 -76.01667\n",
       "5                cucuta   7.53941 -72.77238\n",
       "6           campoalegre   2.68489 -75.32311\n",
       "7              medellin   6.25184 -75.56359\n",
       "8               pereira   4.81333 -75.69611\n",
       "9                bogota   4.60971 -74.08175\n",
       "10            cartagena  10.39972 -75.51444\n",
       "11               garzon   2.19593 -75.62777\n",
       "12                  NaN       NaN       NaN\n",
       "13        villanueva la  10.60528 -72.98000\n",
       "14                bello   6.33732 -75.55795\n",
       "15                bello   6.33732 -75.55795\n",
       "16               bogota   4.60971 -74.08175\n",
       "17             envigado   6.17591 -75.59174\n",
       "18               bogota   4.60971 -74.08175\n",
       "19               bogota   4.60971 -74.08175"
      ]
     },
     "execution_count": 22,
     "metadata": {},
     "output_type": "execute_result"
    }
   ],
   "source": [
    "df[['ciudad_estandarizada', 'latitud','longitud']].head(20)"
   ]
  },
  {
   "cell_type": "code",
   "execution_count": 23,
   "metadata": {},
   "outputs": [
    {
     "data": {
      "text/plain": [
       "138"
      ]
     },
     "execution_count": 23,
     "metadata": {},
     "output_type": "execute_result"
    }
   ],
   "source": [
    "df['latitud'].isnull().sum()"
   ]
  },
  {
   "cell_type": "markdown",
   "metadata": {},
   "source": [
    "## Procesamiento tiempo en trabajo\n"
   ]
  },
  {
   "cell_type": "code",
   "execution_count": 24,
   "metadata": {},
   "outputs": [],
   "source": [
    "def agregar_anios(valor):\n",
    "    if str(valor).isnumeric():\n",
    "        return str(valor) + ' anos'\n",
    "    return valor\n",
    "\n",
    "# Aplicar la función a la columna 'EDAD'\n",
    "df['TIEMPO TRABAJO'] = df['TIEMPO TRABAJO'].apply(agregar_anios)"
   ]
  },
  {
   "cell_type": "code",
   "execution_count": 25,
   "metadata": {},
   "outputs": [],
   "source": [
    "# Separar datos con letras y números\n",
    "df['TIEMPO TRABAJO'] = df['TIEMPO TRABAJO'].fillna('nan')\n",
    "letras_numeros = df['TIEMPO TRABAJO'].str.contains(r'[a-zA-Z]', regex=True)\n",
    "#letras_numeros = letras_numeros.fillna('nan')  # Rellenar NaN con False\n",
    "df['letras_numeros'] = df['TIEMPO TRABAJO'][letras_numeros]\n",
    "df['letras_numeros'] = df['letras_numeros'].replace('nan', np.nan)\n",
    "df['fechas_trab'] = df['TIEMPO TRABAJO'][~letras_numeros]"
   ]
  },
  {
   "cell_type": "code",
   "execution_count": 26,
   "metadata": {},
   "outputs": [],
   "source": [
    "def es_fecha(texto):\n",
    "    if pd.isna(texto):\n",
    "        return np.nan\n",
    "    texto = re.sub(r'(\\D)(\\d)', r'\\1 \\2', texto)\n",
    "    texto = re.sub(r'[^a-zA-Z0-9\\s]', ' ', texto)\n",
    "    texto = re.sub(r'\\s+', ' ', texto)\n",
    "    \n",
    "    \n",
    "    meses = r'(enero|febrero|marzo|abril|mayo|junio|julio|agosto|septiembre|octubre|noviembre|diciembre)'\n",
    "    patron = rf'({meses} \\d{{1,2}} de \\d{{4}}|{meses} \\d{{1,2}} \\d{{4}}|{meses} – \\d{{1,2}} – \\d{{4}}|{meses}\\d{{1,2}}-\\d{{4}})'\n",
    "    match = re.search(patron, texto)\n",
    "    if match:\n",
    "        return match.group()\n",
    "\n",
    "df['fechas'] = df['letras_numeros'].apply(es_fecha)"
   ]
  },
  {
   "cell_type": "code",
   "execution_count": 27,
   "metadata": {},
   "outputs": [
    {
     "data": {
      "text/plain": [
       "262       marzo 1 de 2019\n",
       "315          mayo 15 2018\n",
       "2895       agosto 20 2000\n",
       "3198    noviembre 19 2018\n",
       "3719         julio 2 2015\n",
       "Name: fechas, dtype: object"
      ]
     },
     "execution_count": 27,
     "metadata": {},
     "output_type": "execute_result"
    }
   ],
   "source": [
    "df['fechas'].dropna().head()"
   ]
  },
  {
   "cell_type": "code",
   "execution_count": 28,
   "metadata": {},
   "outputs": [],
   "source": [
    "def obtener_valor_numerico(texto):\n",
    "    if texto is not np.nan:\n",
    "        texto = str(texto)\n",
    "        texto = texto.lower()\n",
    "        meses = 0\n",
    "        anios = 0\n",
    "        if 'mes' in texto:\n",
    "            meses = re.findall(r'(\\d+)\\s*(?:mes?|meses?)', texto)\n",
    "            if len(meses)==0:\n",
    "                meses = 1\n",
    "            else:    \n",
    "                meses = int(meses[0])\n",
    "                \n",
    "        if any(word in texto.lower() for word in ['años', 'anos', 'año', 'años', 'ano']):\n",
    "            anios = re.findall(r'(\\d+)\\s*(?:años?|anos?|año)', texto)\n",
    "            if len(anios)==0:\n",
    "                anios = 12\n",
    "            else:    \n",
    "                anios = 12*int(anios[0])\n",
    "        if 'medio' in texto:\n",
    "            meses = meses + 6\n",
    "        return meses + anios\n",
    "    return np.nan"
   ]
  },
  {
   "cell_type": "code",
   "execution_count": 29,
   "metadata": {},
   "outputs": [],
   "source": [
    "df['letras_numeros'] = df['letras_numeros'].apply(obtener_valor_numerico)"
   ]
  },
  {
   "cell_type": "code",
   "execution_count": 30,
   "metadata": {},
   "outputs": [
    {
     "data": {
      "text/html": [
       "<div>\n",
       "<style scoped>\n",
       "    .dataframe tbody tr th:only-of-type {\n",
       "        vertical-align: middle;\n",
       "    }\n",
       "\n",
       "    .dataframe tbody tr th {\n",
       "        vertical-align: top;\n",
       "    }\n",
       "\n",
       "    .dataframe thead th {\n",
       "        text-align: right;\n",
       "    }\n",
       "</style>\n",
       "<table border=\"1\" class=\"dataframe\">\n",
       "  <thead>\n",
       "    <tr style=\"text-align: right;\">\n",
       "      <th></th>\n",
       "      <th>TIEMPO TRABAJO</th>\n",
       "      <th>letras_numeros</th>\n",
       "    </tr>\n",
       "  </thead>\n",
       "  <tbody>\n",
       "    <tr>\n",
       "      <th>0</th>\n",
       "      <td>24 meses</td>\n",
       "      <td>24.0</td>\n",
       "    </tr>\n",
       "    <tr>\n",
       "      <th>1</th>\n",
       "      <td>12 meses</td>\n",
       "      <td>12.0</td>\n",
       "    </tr>\n",
       "    <tr>\n",
       "      <th>2</th>\n",
       "      <td>1 ano</td>\n",
       "      <td>12.0</td>\n",
       "    </tr>\n",
       "    <tr>\n",
       "      <th>3</th>\n",
       "      <td>nan</td>\n",
       "      <td>NaN</td>\n",
       "    </tr>\n",
       "    <tr>\n",
       "      <th>4</th>\n",
       "      <td>9 horas</td>\n",
       "      <td>0.0</td>\n",
       "    </tr>\n",
       "  </tbody>\n",
       "</table>\n",
       "</div>"
      ],
      "text/plain": [
       "  TIEMPO TRABAJO  letras_numeros\n",
       "0       24 meses            24.0\n",
       "1       12 meses            12.0\n",
       "2          1 ano            12.0\n",
       "3            nan             NaN\n",
       "4        9 horas             0.0"
      ]
     },
     "execution_count": 30,
     "metadata": {},
     "output_type": "execute_result"
    }
   ],
   "source": [
    "df[['TIEMPO TRABAJO','letras_numeros']].head(5)"
   ]
  },
  {
   "cell_type": "code",
   "execution_count": 31,
   "metadata": {},
   "outputs": [
    {
     "data": {
      "text/html": [
       "<div>\n",
       "<style scoped>\n",
       "    .dataframe tbody tr th:only-of-type {\n",
       "        vertical-align: middle;\n",
       "    }\n",
       "\n",
       "    .dataframe tbody tr th {\n",
       "        vertical-align: top;\n",
       "    }\n",
       "\n",
       "    .dataframe thead th {\n",
       "        text-align: right;\n",
       "    }\n",
       "</style>\n",
       "<table border=\"1\" class=\"dataframe\">\n",
       "  <thead>\n",
       "    <tr style=\"text-align: right;\">\n",
       "      <th></th>\n",
       "      <th>TIEMPO TRABAJO</th>\n",
       "      <th>fechas_trab</th>\n",
       "    </tr>\n",
       "  </thead>\n",
       "  <tbody>\n",
       "    <tr>\n",
       "      <th>19</th>\n",
       "      <td>2018-01-15</td>\n",
       "      <td>2018-01-15</td>\n",
       "    </tr>\n",
       "    <tr>\n",
       "      <th>51</th>\n",
       "      <td>2021-03-01</td>\n",
       "      <td>2021-03-01</td>\n",
       "    </tr>\n",
       "    <tr>\n",
       "      <th>53</th>\n",
       "      <td>2020-02-04</td>\n",
       "      <td>2020-02-04</td>\n",
       "    </tr>\n",
       "    <tr>\n",
       "      <th>76</th>\n",
       "      <td>2019-05-27</td>\n",
       "      <td>2019-05-27</td>\n",
       "    </tr>\n",
       "    <tr>\n",
       "      <th>77</th>\n",
       "      <td>2019-07-23</td>\n",
       "      <td>2019-07-23</td>\n",
       "    </tr>\n",
       "  </tbody>\n",
       "</table>\n",
       "</div>"
      ],
      "text/plain": [
       "   TIEMPO TRABAJO fechas_trab\n",
       "19     2018-01-15  2018-01-15\n",
       "51     2021-03-01  2021-03-01\n",
       "53     2020-02-04  2020-02-04\n",
       "76     2019-05-27  2019-05-27\n",
       "77     2019-07-23  2019-07-23"
      ]
     },
     "execution_count": 31,
     "metadata": {},
     "output_type": "execute_result"
    }
   ],
   "source": [
    "df[['TIEMPO TRABAJO','fechas_trab']].dropna().head(5)"
   ]
  },
  {
   "cell_type": "code",
   "execution_count": 32,
   "metadata": {},
   "outputs": [
    {
     "name": "stdout",
     "output_type": "stream",
     "text": [
      "<class 'pandas.core.series.Series'>\n",
      "RangeIndex: 4105 entries, 0 to 4104\n",
      "Series name: fechas_trab\n",
      "Non-Null Count  Dtype \n",
      "--------------  ----- \n",
      "2529 non-null   object\n",
      "dtypes: object(1)\n",
      "memory usage: 32.2+ KB\n"
     ]
    }
   ],
   "source": [
    "df['fechas_trab'].info()"
   ]
  },
  {
   "cell_type": "code",
   "execution_count": 33,
   "metadata": {},
   "outputs": [],
   "source": [
    "locale.setlocale(locale.LC_TIME, 'es_ES.UTF-8')\n",
    "\n",
    "df['fechas'] = df['fechas'].str.replace(' de ', ' ').str.capitalize()\n",
    "df['fechas'] = pd.to_datetime(df['fechas'], format='%B %d %Y') "
   ]
  },
  {
   "cell_type": "code",
   "execution_count": 34,
   "metadata": {},
   "outputs": [],
   "source": [
    "df['fechas_trab'] = df['fechas_trab'].str.replace('/', '-')\n",
    "df['TIEMPO TRABAJO FORMATO 1'] = pd.to_datetime(df['fechas_trab'], format='%Y-%m-%d', errors='coerce')\n",
    "df['TIEMPO TRABAJO FORMATO 2'] = pd.to_datetime(df['fechas_trab'], format='%d-%m-%Y', errors='coerce')"
   ]
  },
  {
   "cell_type": "code",
   "execution_count": 35,
   "metadata": {},
   "outputs": [],
   "source": [
    "df['TIEMPO TRABAJO FORMATO 2'] = df['TIEMPO TRABAJO FORMATO 2'].dt.strftime('%Y-%m-%d')"
   ]
  },
  {
   "cell_type": "code",
   "execution_count": 36,
   "metadata": {},
   "outputs": [],
   "source": [
    "df['fechas_trab'] = df['TIEMPO TRABAJO FORMATO 1'].fillna(df['TIEMPO TRABAJO FORMATO 2'])"
   ]
  },
  {
   "cell_type": "code",
   "execution_count": 37,
   "metadata": {},
   "outputs": [],
   "source": [
    "df['fechas_trab'] = df['fechas_trab'].fillna(df['fechas'])"
   ]
  },
  {
   "cell_type": "code",
   "execution_count": 38,
   "metadata": {},
   "outputs": [
    {
     "name": "stdout",
     "output_type": "stream",
     "text": [
      "<class 'pandas.core.series.Series'>\n",
      "RangeIndex: 4105 entries, 0 to 4104\n",
      "Series name: meses_transcurridos\n",
      "Non-Null Count  Dtype  \n",
      "--------------  -----  \n",
      "2482 non-null   float64\n",
      "dtypes: float64(1)\n",
      "memory usage: 32.2 KB\n"
     ]
    }
   ],
   "source": [
    "df['meses_transcurridos'] = ((df['FECHA DESEMBOLSO'] - df['fechas_trab']) / pd.Timedelta(days=30.44))\n",
    "df['meses_transcurridos'].info()"
   ]
  },
  {
   "cell_type": "code",
   "execution_count": 39,
   "metadata": {},
   "outputs": [],
   "source": [
    "def convertir_a_nan(valor):\n",
    "    if pd.isnull(valor) or valor < 0:\n",
    "        return np.nan\n",
    "    return valor"
   ]
  },
  {
   "cell_type": "code",
   "execution_count": 40,
   "metadata": {},
   "outputs": [
    {
     "name": "stdout",
     "output_type": "stream",
     "text": [
      "<class 'pandas.core.series.Series'>\n",
      "RangeIndex: 4105 entries, 0 to 4104\n",
      "Series name: meses_transcurridos\n",
      "Non-Null Count  Dtype  \n",
      "--------------  -----  \n",
      "2234 non-null   float64\n",
      "dtypes: float64(1)\n",
      "memory usage: 32.2 KB\n"
     ]
    }
   ],
   "source": [
    "df['meses_transcurridos'] = df['meses_transcurridos'].apply(convertir_a_nan)\n",
    "df['meses_transcurridos'].info()"
   ]
  },
  {
   "cell_type": "code",
   "execution_count": 41,
   "metadata": {},
   "outputs": [],
   "source": [
    "df['meses_transcurridos'] = df['meses_transcurridos'].fillna(df['letras_numeros'])"
   ]
  },
  {
   "cell_type": "code",
   "execution_count": 42,
   "metadata": {},
   "outputs": [
    {
     "data": {
      "text/html": [
       "<div>\n",
       "<style scoped>\n",
       "    .dataframe tbody tr th:only-of-type {\n",
       "        vertical-align: middle;\n",
       "    }\n",
       "\n",
       "    .dataframe tbody tr th {\n",
       "        vertical-align: top;\n",
       "    }\n",
       "\n",
       "    .dataframe thead th {\n",
       "        text-align: right;\n",
       "    }\n",
       "</style>\n",
       "<table border=\"1\" class=\"dataframe\">\n",
       "  <thead>\n",
       "    <tr style=\"text-align: right;\">\n",
       "      <th></th>\n",
       "      <th>FECHA DESEMBOLSO</th>\n",
       "      <th>TIEMPO TRABAJO</th>\n",
       "      <th>meses_transcurridos</th>\n",
       "    </tr>\n",
       "  </thead>\n",
       "  <tbody>\n",
       "    <tr>\n",
       "      <th>0</th>\n",
       "      <td>2015-06-18</td>\n",
       "      <td>24 meses</td>\n",
       "      <td>24.0</td>\n",
       "    </tr>\n",
       "    <tr>\n",
       "      <th>1</th>\n",
       "      <td>2015-06-18</td>\n",
       "      <td>12 meses</td>\n",
       "      <td>12.0</td>\n",
       "    </tr>\n",
       "    <tr>\n",
       "      <th>2</th>\n",
       "      <td>2015-06-10</td>\n",
       "      <td>1 ano</td>\n",
       "      <td>12.0</td>\n",
       "    </tr>\n",
       "    <tr>\n",
       "      <th>3</th>\n",
       "      <td>2015-06-16</td>\n",
       "      <td>nan</td>\n",
       "      <td>NaN</td>\n",
       "    </tr>\n",
       "    <tr>\n",
       "      <th>4</th>\n",
       "      <td>2015-06-17</td>\n",
       "      <td>9 horas</td>\n",
       "      <td>0.0</td>\n",
       "    </tr>\n",
       "    <tr>\n",
       "      <th>5</th>\n",
       "      <td>2015-06-16</td>\n",
       "      <td>3 anos</td>\n",
       "      <td>36.0</td>\n",
       "    </tr>\n",
       "    <tr>\n",
       "      <th>6</th>\n",
       "      <td>2015-06-16</td>\n",
       "      <td>nan</td>\n",
       "      <td>NaN</td>\n",
       "    </tr>\n",
       "    <tr>\n",
       "      <th>7</th>\n",
       "      <td>2015-06-26</td>\n",
       "      <td>3 meses</td>\n",
       "      <td>3.0</td>\n",
       "    </tr>\n",
       "    <tr>\n",
       "      <th>8</th>\n",
       "      <td>2015-06-23</td>\n",
       "      <td>1 ano</td>\n",
       "      <td>12.0</td>\n",
       "    </tr>\n",
       "    <tr>\n",
       "      <th>9</th>\n",
       "      <td>2015-06-23</td>\n",
       "      <td>nan</td>\n",
       "      <td>NaN</td>\n",
       "    </tr>\n",
       "    <tr>\n",
       "      <th>10</th>\n",
       "      <td>2015-06-24</td>\n",
       "      <td>2 anos</td>\n",
       "      <td>24.0</td>\n",
       "    </tr>\n",
       "    <tr>\n",
       "      <th>11</th>\n",
       "      <td>2015-06-24</td>\n",
       "      <td>nan</td>\n",
       "      <td>NaN</td>\n",
       "    </tr>\n",
       "    <tr>\n",
       "      <th>12</th>\n",
       "      <td>2015-06-25</td>\n",
       "      <td>1 mes y 10 dias</td>\n",
       "      <td>1.0</td>\n",
       "    </tr>\n",
       "    <tr>\n",
       "      <th>13</th>\n",
       "      <td>2015-06-26</td>\n",
       "      <td>4 anos</td>\n",
       "      <td>48.0</td>\n",
       "    </tr>\n",
       "    <tr>\n",
       "      <th>14</th>\n",
       "      <td>2015-06-27</td>\n",
       "      <td>3 anos</td>\n",
       "      <td>36.0</td>\n",
       "    </tr>\n",
       "    <tr>\n",
       "      <th>15</th>\n",
       "      <td>2015-07-01</td>\n",
       "      <td>2 anos</td>\n",
       "      <td>24.0</td>\n",
       "    </tr>\n",
       "    <tr>\n",
       "      <th>16</th>\n",
       "      <td>2015-07-02</td>\n",
       "      <td>nan</td>\n",
       "      <td>NaN</td>\n",
       "    </tr>\n",
       "    <tr>\n",
       "      <th>17</th>\n",
       "      <td>2015-07-03</td>\n",
       "      <td>nan</td>\n",
       "      <td>NaN</td>\n",
       "    </tr>\n",
       "    <tr>\n",
       "      <th>18</th>\n",
       "      <td>2015-07-03</td>\n",
       "      <td>6 meses</td>\n",
       "      <td>6.0</td>\n",
       "    </tr>\n",
       "    <tr>\n",
       "      <th>19</th>\n",
       "      <td>2015-07-03</td>\n",
       "      <td>2018-01-15</td>\n",
       "      <td>NaN</td>\n",
       "    </tr>\n",
       "  </tbody>\n",
       "</table>\n",
       "</div>"
      ],
      "text/plain": [
       "   FECHA DESEMBOLSO   TIEMPO TRABAJO  meses_transcurridos\n",
       "0        2015-06-18         24 meses                 24.0\n",
       "1        2015-06-18         12 meses                 12.0\n",
       "2        2015-06-10            1 ano                 12.0\n",
       "3        2015-06-16              nan                  NaN\n",
       "4        2015-06-17          9 horas                  0.0\n",
       "5        2015-06-16           3 anos                 36.0\n",
       "6        2015-06-16              nan                  NaN\n",
       "7        2015-06-26          3 meses                  3.0\n",
       "8        2015-06-23            1 ano                 12.0\n",
       "9        2015-06-23              nan                  NaN\n",
       "10       2015-06-24           2 anos                 24.0\n",
       "11       2015-06-24              nan                  NaN\n",
       "12       2015-06-25  1 mes y 10 dias                  1.0\n",
       "13       2015-06-26           4 anos                 48.0\n",
       "14       2015-06-27           3 anos                 36.0\n",
       "15       2015-07-01           2 anos                 24.0\n",
       "16       2015-07-02              nan                  NaN\n",
       "17       2015-07-03              nan                  NaN\n",
       "18       2015-07-03          6 meses                  6.0\n",
       "19       2015-07-03       2018-01-15                  NaN"
      ]
     },
     "execution_count": 42,
     "metadata": {},
     "output_type": "execute_result"
    }
   ],
   "source": [
    "df[['FECHA DESEMBOLSO','TIEMPO TRABAJO','meses_transcurridos']].head(20)\n",
    "\n"
   ]
  },
  {
   "cell_type": "code",
   "execution_count": 43,
   "metadata": {},
   "outputs": [
    {
     "data": {
      "text/plain": [
       "Index(['PLAZO', 'CAPITAL', 'INT CORRIENTE', 'DÍAS MORA', 'Cuotas en mora',\n",
       "       'ESTRATO', 'INGRESOS MENSUALES', 'GASTOS MENSUALES',\n",
       "       'INGRESOS ADICIONALES', 'PERSONAS A CARGO', 'NUMERO DE HIJOS',\n",
       "       'NUM.CREDITOS SOLICITADOS', 'FECHA DESEMBOLSO', 'PRÓXIMA FECHA PAGO',\n",
       "       'TIPO EMPLEO', 'CIUDAD RESIDENCIA', 'TRABAJO', 'TIPO DE VIVIENDA',\n",
       "       'AÑOS EN LA VIVIENDA', 'TIPO DE CONTRATO', 'PERIODO DE PAGO',\n",
       "       'ESTADO CIVIL', 'NIVEL EDUCATIVO', 'TIPO DE VEHICULO', 'TIEMPO TRABAJO',\n",
       "       'ciudad_estandarizada', 'En_lista', 'Ubicacion', 'latitud', 'longitud',\n",
       "       'letras_numeros', 'fechas_trab', 'fechas', 'TIEMPO TRABAJO FORMATO 1',\n",
       "       'TIEMPO TRABAJO FORMATO 2', 'meses_transcurridos'],\n",
       "      dtype='object')"
      ]
     },
     "execution_count": 43,
     "metadata": {},
     "output_type": "execute_result"
    }
   ],
   "source": [
    "df.columns"
   ]
  },
  {
   "cell_type": "code",
   "execution_count": 44,
   "metadata": {},
   "outputs": [],
   "source": [
    "## Columnas a eliminar\n",
    "columas_to_drop = ['TIEMPO TRABAJO','fechas','fechas_trab','TIEMPO TRABAJO FORMATO 1',\n",
    "                   'TIEMPO TRABAJO FORMATO 2','letras_numeros', 'FECHA DESEMBOLSO',\n",
    "                   'CIUDAD RESIDENCIA','Ubicacion','TRABAJO','ciudad_estandarizada', 'En_lista',]\n",
    "df.drop(columas_to_drop, axis=1, inplace=True)"
   ]
  },
  {
   "cell_type": "markdown",
   "metadata": {},
   "source": [
    "## one hot encoding\n"
   ]
  },
  {
   "cell_type": "code",
   "execution_count": 45,
   "metadata": {},
   "outputs": [],
   "source": [
    "columnas_to_encode = ['TIPO EMPLEO', 'TIPO DE VIVIENDA',\n",
    "       'TIPO DE CONTRATO', 'PERIODO DE PAGO', 'ESTADO CIVIL',\n",
    "       'NIVEL EDUCATIVO', 'TIPO DE VEHICULO']"
   ]
  },
  {
   "cell_type": "code",
   "execution_count": 46,
   "metadata": {},
   "outputs": [],
   "source": [
    "df_dummies = pd.get_dummies(df, columns=columnas_to_encode, drop_first=True,dummy_na=True,dtype=float)\n",
    "nan_df = df_dummies.loc[:, df_dummies.columns.str.endswith(\"_nan\")]\n",
    "\n",
    "pattern = \"^([^_]*)_\"\n",
    "regex = re.compile(pattern)\n",
    "\n",
    "for index in df_dummies.index:\n",
    "    for col_nan in nan_df.columns:\n",
    "        if df_dummies.loc[index,col_nan] == 1:\n",
    "            col_id = regex.search(col_nan).group(1)\n",
    "            targets = df_dummies.columns[df_dummies.columns.str.startswith(col_id+'_')]\n",
    "            df_dummies.loc[index, targets] = np.nan\n"
   ]
  },
  {
   "cell_type": "code",
   "execution_count": 47,
   "metadata": {},
   "outputs": [],
   "source": [
    "df_final = df_dummies.drop(df_dummies.columns[df_dummies.columns.str.endswith(\"_nan\")], axis=1)"
   ]
  },
  {
   "cell_type": "markdown",
   "metadata": {},
   "source": [
    "# Encode de columna años en la vivienda\n"
   ]
  },
  {
   "cell_type": "code",
   "execution_count": 48,
   "metadata": {},
   "outputs": [
    {
     "data": {
      "text/plain": [
       "array(['mas de 5 anos', 'entre uno y cinco anos', 'menos de un ano', nan],\n",
       "      dtype=object)"
      ]
     },
     "execution_count": 48,
     "metadata": {},
     "output_type": "execute_result"
    }
   ],
   "source": [
    "df['AÑOS EN LA VIVIENDA'].unique()"
   ]
  },
  {
   "cell_type": "code",
   "execution_count": 49,
   "metadata": {},
   "outputs": [],
   "source": [
    "mapeo = {'mas de 5 anos': 3, 'entre uno y cinco anos': 2, 'menos de un ano': 1}\n",
    "\n",
    "# Aplicar el mapeo\n",
    "df_final['AÑOS EN LA VIVIENDA'] = df['AÑOS EN LA VIVIENDA'].map(mapeo)"
   ]
  },
  {
   "cell_type": "markdown",
   "metadata": {},
   "source": [
    "## Codificacion fecha desembolso a meses"
   ]
  },
  {
   "cell_type": "code",
   "execution_count": 50,
   "metadata": {},
   "outputs": [],
   "source": [
    "df_final['mes_de_pago'] = df_final['PRÓXIMA FECHA PAGO'].dt.month"
   ]
  },
  {
   "cell_type": "code",
   "execution_count": 51,
   "metadata": {},
   "outputs": [
    {
     "data": {
      "text/html": [
       "<div>\n",
       "<style scoped>\n",
       "    .dataframe tbody tr th:only-of-type {\n",
       "        vertical-align: middle;\n",
       "    }\n",
       "\n",
       "    .dataframe tbody tr th {\n",
       "        vertical-align: top;\n",
       "    }\n",
       "\n",
       "    .dataframe thead th {\n",
       "        text-align: right;\n",
       "    }\n",
       "</style>\n",
       "<table border=\"1\" class=\"dataframe\">\n",
       "  <thead>\n",
       "    <tr style=\"text-align: right;\">\n",
       "      <th></th>\n",
       "      <th>PRÓXIMA FECHA PAGO</th>\n",
       "      <th>mes_de_pago</th>\n",
       "    </tr>\n",
       "  </thead>\n",
       "  <tbody>\n",
       "    <tr>\n",
       "      <th>0</th>\n",
       "      <td>2015-06-27</td>\n",
       "      <td>6</td>\n",
       "    </tr>\n",
       "    <tr>\n",
       "      <th>1</th>\n",
       "      <td>2015-07-02</td>\n",
       "      <td>7</td>\n",
       "    </tr>\n",
       "    <tr>\n",
       "      <th>2</th>\n",
       "      <td>2015-07-10</td>\n",
       "      <td>7</td>\n",
       "    </tr>\n",
       "    <tr>\n",
       "      <th>3</th>\n",
       "      <td>2015-07-15</td>\n",
       "      <td>7</td>\n",
       "    </tr>\n",
       "    <tr>\n",
       "      <th>4</th>\n",
       "      <td>2015-07-15</td>\n",
       "      <td>7</td>\n",
       "    </tr>\n",
       "    <tr>\n",
       "      <th>5</th>\n",
       "      <td>2015-07-16</td>\n",
       "      <td>7</td>\n",
       "    </tr>\n",
       "    <tr>\n",
       "      <th>6</th>\n",
       "      <td>2015-07-16</td>\n",
       "      <td>7</td>\n",
       "    </tr>\n",
       "    <tr>\n",
       "      <th>7</th>\n",
       "      <td>2015-07-17</td>\n",
       "      <td>7</td>\n",
       "    </tr>\n",
       "    <tr>\n",
       "      <th>8</th>\n",
       "      <td>2015-07-22</td>\n",
       "      <td>7</td>\n",
       "    </tr>\n",
       "    <tr>\n",
       "      <th>9</th>\n",
       "      <td>2015-07-23</td>\n",
       "      <td>7</td>\n",
       "    </tr>\n",
       "    <tr>\n",
       "      <th>10</th>\n",
       "      <td>2015-07-24</td>\n",
       "      <td>7</td>\n",
       "    </tr>\n",
       "    <tr>\n",
       "      <th>11</th>\n",
       "      <td>2015-07-24</td>\n",
       "      <td>7</td>\n",
       "    </tr>\n",
       "    <tr>\n",
       "      <th>12</th>\n",
       "      <td>2015-07-25</td>\n",
       "      <td>7</td>\n",
       "    </tr>\n",
       "    <tr>\n",
       "      <th>13</th>\n",
       "      <td>2015-07-26</td>\n",
       "      <td>7</td>\n",
       "    </tr>\n",
       "    <tr>\n",
       "      <th>14</th>\n",
       "      <td>2015-07-27</td>\n",
       "      <td>7</td>\n",
       "    </tr>\n",
       "    <tr>\n",
       "      <th>15</th>\n",
       "      <td>2015-07-31</td>\n",
       "      <td>7</td>\n",
       "    </tr>\n",
       "    <tr>\n",
       "      <th>16</th>\n",
       "      <td>2015-08-01</td>\n",
       "      <td>8</td>\n",
       "    </tr>\n",
       "    <tr>\n",
       "      <th>17</th>\n",
       "      <td>2015-08-02</td>\n",
       "      <td>8</td>\n",
       "    </tr>\n",
       "    <tr>\n",
       "      <th>18</th>\n",
       "      <td>2015-08-02</td>\n",
       "      <td>8</td>\n",
       "    </tr>\n",
       "    <tr>\n",
       "      <th>19</th>\n",
       "      <td>2015-08-02</td>\n",
       "      <td>8</td>\n",
       "    </tr>\n",
       "  </tbody>\n",
       "</table>\n",
       "</div>"
      ],
      "text/plain": [
       "   PRÓXIMA FECHA PAGO  mes_de_pago\n",
       "0          2015-06-27            6\n",
       "1          2015-07-02            7\n",
       "2          2015-07-10            7\n",
       "3          2015-07-15            7\n",
       "4          2015-07-15            7\n",
       "5          2015-07-16            7\n",
       "6          2015-07-16            7\n",
       "7          2015-07-17            7\n",
       "8          2015-07-22            7\n",
       "9          2015-07-23            7\n",
       "10         2015-07-24            7\n",
       "11         2015-07-24            7\n",
       "12         2015-07-25            7\n",
       "13         2015-07-26            7\n",
       "14         2015-07-27            7\n",
       "15         2015-07-31            7\n",
       "16         2015-08-01            8\n",
       "17         2015-08-02            8\n",
       "18         2015-08-02            8\n",
       "19         2015-08-02            8"
      ]
     },
     "execution_count": 51,
     "metadata": {},
     "output_type": "execute_result"
    }
   ],
   "source": [
    "df_final[['PRÓXIMA FECHA PAGO','mes_de_pago']].head(20)"
   ]
  },
  {
   "cell_type": "code",
   "execution_count": 52,
   "metadata": {},
   "outputs": [],
   "source": [
    "df_final = df_final.drop(columns=['PRÓXIMA FECHA PAGO'], axis=1)"
   ]
  },
  {
   "cell_type": "markdown",
   "metadata": {},
   "source": [
    "# Guardado del df resultante"
   ]
  },
  {
   "cell_type": "code",
   "execution_count": 53,
   "metadata": {},
   "outputs": [
    {
     "data": {
      "text/plain": [
       "Index(['PLAZO', 'CAPITAL', 'INT CORRIENTE', 'DÍAS MORA', 'Cuotas en mora',\n",
       "       'ESTRATO', 'INGRESOS MENSUALES', 'GASTOS MENSUALES',\n",
       "       'INGRESOS ADICIONALES', 'PERSONAS A CARGO', 'NUMERO DE HIJOS',\n",
       "       'NUM.CREDITOS SOLICITADOS', 'AÑOS EN LA VIVIENDA', 'latitud',\n",
       "       'longitud', 'meses_transcurridos', 'TIPO EMPLEO_empleado',\n",
       "       'TIPO EMPLEO_independiente', 'TIPO EMPLEO_pensionado',\n",
       "       'TIPO EMPLEO_prestador de servicios', 'TIPO DE VIVIENDA_familiar',\n",
       "       'TIPO DE VIVIENDA_propia', 'TIPO DE CONTRATO_prestacion de servicios',\n",
       "       'TIPO DE CONTRATO_termino fijo', 'PERIODO DE PAGO_quincenal',\n",
       "       'ESTADO CIVIL_comprometido/a', 'ESTADO CIVIL_divorciado/a',\n",
       "       'ESTADO CIVIL_soltero/a', 'ESTADO CIVIL_union libre',\n",
       "       'ESTADO CIVIL_viudo/a', 'NIVEL EDUCATIVO_postgrado',\n",
       "       'NIVEL EDUCATIVO_primaria', 'NIVEL EDUCATIVO_profesional',\n",
       "       'NIVEL EDUCATIVO_secundaria', 'NIVEL EDUCATIVO_tecnico',\n",
       "       'NIVEL EDUCATIVO_tecnologo', 'TIPO DE VEHICULO_moto',\n",
       "       'TIPO DE VEHICULO_ninguno', 'mes_de_pago'],\n",
       "      dtype='object')"
      ]
     },
     "execution_count": 53,
     "metadata": {},
     "output_type": "execute_result"
    }
   ],
   "source": [
    "df_final.columns"
   ]
  },
  {
   "cell_type": "code",
   "execution_count": 55,
   "metadata": {},
   "outputs": [],
   "source": [
    "ruta1 = '../data/stage/db_pross_info_users.csv'\n",
    "df_final.to_csv(ruta1, index=False) "
   ]
  },
  {
   "cell_type": "code",
   "execution_count": null,
   "metadata": {},
   "outputs": [],
   "source": []
  }
 ],
 "metadata": {
  "kernelspec": {
   "display_name": "DataScience",
   "language": "python",
   "name": "python3"
  },
  "language_info": {
   "codemirror_mode": {
    "name": "ipython",
    "version": 3
   },
   "file_extension": ".py",
   "mimetype": "text/x-python",
   "name": "python",
   "nbconvert_exporter": "python",
   "pygments_lexer": "ipython3",
   "version": "3.12.2"
  }
 },
 "nbformat": 4,
 "nbformat_minor": 2
}
