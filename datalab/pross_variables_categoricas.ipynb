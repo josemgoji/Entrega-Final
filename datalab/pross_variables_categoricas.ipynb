{
 "cells": [
  {
   "cell_type": "code",
   "execution_count": 2,
   "metadata": {},
   "outputs": [],
   "source": [
    "import pandas as pd\n",
    "import basicdescriptives_mod as bd\n",
    "import re\n",
    "import string\n",
    "from unidecode import unidecode\n",
    "from fuzzywuzzy import fuzz\n",
    "import numpy as np\n",
    "import locale\n",
    "import os\n",
    "import sys"
   ]
  },
  {
   "cell_type": "code",
   "execution_count": 104,
   "metadata": {},
   "outputs": [],
   "source": [
    "current_dir = os.getcwd() # Obtener la ruta del directorio actual del notebook\n",
    "ROOT_PATH = os.path.dirname(current_dir) # Obtener la ruta del directorio superior\n",
    "sys.path.insert(1, ROOT_PATH) # Insertar la ruta en sys.path\n",
    "\n",
    "import root # Importar el módulo root\n",
    "\n",
    "df_path = root.DIR_DATA_RAW + 'db_raw_infousers.csv'"
   ]
  },
  {
   "cell_type": "code",
   "execution_count": 105,
   "metadata": {},
   "outputs": [],
   "source": [
    "df = pd.read_csv(df_path)"
   ]
  },
  {
   "cell_type": "markdown",
   "metadata": {},
   "source": [
    "## Manejo datos de fecha\n"
   ]
  },
  {
   "cell_type": "code",
   "execution_count": 106,
   "metadata": {},
   "outputs": [],
   "source": [
    "df['FECHA DESEMBOLSO'] = df['FECHA DESEMBOLSO'].str.replace('/', '-')\n",
    "df['FECHA DESEMBOLSO'] = pd.to_datetime(df['FECHA DESEMBOLSO'], errors='coerce', format='%m-%d-%Y')"
   ]
  },
  {
   "cell_type": "code",
   "execution_count": 107,
   "metadata": {},
   "outputs": [],
   "source": [
    "df['PRÓXIMA FECHA PAGO'] = df['PRÓXIMA FECHA PAGO'].str.replace('/', '-')\n",
    "df['PRÓXIMA FECHA PAGO'] = pd.to_datetime(df['PRÓXIMA FECHA PAGO'], errors='coerce', format='%m-%d-%Y')"
   ]
  },
  {
   "cell_type": "markdown",
   "metadata": {},
   "source": [
    "## Procesamiento de texto variables categricas\n"
   ]
  },
  {
   "cell_type": "code",
   "execution_count": 108,
   "metadata": {},
   "outputs": [
    {
     "data": {
      "text/plain": [
       "730"
      ]
     },
     "execution_count": 108,
     "metadata": {},
     "output_type": "execute_result"
    }
   ],
   "source": [
    "df['CIUDAD RESIDENCIA'].nunique()"
   ]
  },
  {
   "cell_type": "code",
   "execution_count": 109,
   "metadata": {},
   "outputs": [],
   "source": [
    "def processing_text(texto):\n",
    "    if texto == np.nan:\n",
    "        return np.nan\n",
    "    texto = str(texto)\n",
    "    ### Limpieza\n",
    "    texto = texto.lower() # Estandarizar todo a minúscula\n",
    "    texto = unidecode(texto)  # Eliminar tildes\n",
    "    texto = re.sub(r'[^a-zA-Z0-9\\s/-]', '', texto)\n",
    "    texto = re.sub(r'\\s+', ' ', texto) # Eliminar espacios en blanco adicionales\n",
    "    texto = texto.strip() # Eliminar espacios al inicio y al final\n",
    "    \n",
    "    return texto  "
   ]
  },
  {
   "cell_type": "code",
   "execution_count": 110,
   "metadata": {},
   "outputs": [],
   "source": [
    "categorical_columns = df.select_dtypes(include=['object']).columns\n",
    "df[categorical_columns] = df[categorical_columns].map(processing_text)"
   ]
  },
  {
   "cell_type": "markdown",
   "metadata": {},
   "source": [
    "## agrupacion de ciudades\n"
   ]
  },
  {
   "cell_type": "code",
   "execution_count": 111,
   "metadata": {},
   "outputs": [
    {
     "data": {
      "text/plain": [
       "428"
      ]
     },
     "execution_count": 111,
     "metadata": {},
     "output_type": "execute_result"
    }
   ],
   "source": [
    "df['CIUDAD RESIDENCIA'].nunique()"
   ]
  },
  {
   "cell_type": "code",
   "execution_count": 112,
   "metadata": {},
   "outputs": [],
   "source": [
    "departamentos_colombia = [\n",
    "    \"amazonas\",\n",
    "    \"antioquia\",\n",
    "    \"arauca\",\n",
    "    \"atlantico\",\n",
    "    \"bolivar\",\n",
    "    \"boyaca\",\n",
    "    \"caldas\",\n",
    "    \"caqueta\",\n",
    "    \"casanare\",\n",
    "    \"cauca\",\n",
    "    \"cesar\",\n",
    "    \"choco\",\n",
    "    \"cordoba\",\n",
    "    \"cundinamarca\",\n",
    "    \"guainia\",\n",
    "    \"guaviare\",\n",
    "    \"huila\",\n",
    "    \"la guajira\",\n",
    "    \"magdalena\",\n",
    "    \"meta\",\n",
    "    \"narino\",\n",
    "    \"norte de santander\",\n",
    "    \"putumayo\",\n",
    "    \"quindio\",\n",
    "    \"risaralda\",\n",
    "    \"san andres y providencia\",\n",
    "    \"santander\",\n",
    "    \"sucre\",\n",
    "    \"tolima\",\n",
    "    \"valle\", \"cauca\",\n",
    "    \"vaupes\",\n",
    "    \"vichada\"\n",
    "]\n"
   ]
  },
  {
   "cell_type": "code",
   "execution_count": 113,
   "metadata": {},
   "outputs": [],
   "source": [
    "## procesamiento de texto extra para las ciudades\n",
    "def processing_text_ciudades(texto):\n",
    "    if pd.isna(texto):\n",
    "        return np.nan\n",
    "    texto = str(texto)\n",
    "    ### Limpieza\n",
    "    texto = texto.lower() # Estandarizar todo a minúscula\n",
    "    texto = re.sub(r'\\s+', ' ', texto) # Eliminar espacios en blanco adicionales\n",
    "    texto = re.sub(r'[^a-zA-Z0-9\\s]', '', texto) # Eliminar caracteres especiales\n",
    "    texto = texto.strip() # Eliminar espacios al inicio y al final\n",
    "    \n",
    "    # Tokenizar el texto\n",
    "    palabras = texto.split()\n",
    "    \n",
    "    # Filtrar las palabras que no son nombres de departamentos\n",
    "    palabras_filtradas = [palabra for palabra in palabras if not any(fuzz.ratio(palabra, depto) >= 80 for depto in departamentos_colombia)]\n",
    "    \n",
    "    # Reconstruir el texto\n",
    "    texto_filtrado = ' '.join(palabras_filtradas)\n",
    "    if not texto_filtrado:  # Si el texto filtrado está vacío\n",
    "        return np.nan\n",
    "    \n",
    "    return texto_filtrado"
   ]
  },
  {
   "cell_type": "code",
   "execution_count": 114,
   "metadata": {},
   "outputs": [],
   "source": [
    "df['CIUDAD RESIDENCIA'] = df['CIUDAD RESIDENCIA'].apply(processing_text_ciudades)"
   ]
  },
  {
   "cell_type": "code",
   "execution_count": 115,
   "metadata": {},
   "outputs": [],
   "source": [
    "def mapear_ciudades(df):\n",
    "    mapeo = {}\n",
    "\n",
    "    for ciudad in df['CIUDAD RESIDENCIA']:\n",
    "        if isinstance(ciudad, str):  # Verificar si es un string\n",
    "            ciudad_estandar = None\n",
    "            # Buscar si la ciudad ya está en el diccionario\n",
    "            for ciudad_mapeada in mapeo:\n",
    "                if fuzz.ratio(ciudad.lower(), ciudad_mapeada.lower()) > 70:  # Umbral de similitud del 80%\n",
    "                    ciudad_estandar = ciudad_mapeada\n",
    "                    break\n",
    "            if ciudad_estandar:\n",
    "                mapeo[ciudad_estandar].append(ciudad)\n",
    "            else:\n",
    "                mapeo[ciudad] = [ciudad]\n",
    "\n",
    "    return mapeo\n",
    "\n",
    "def obtener_ciudad_estandar(ciudad, mapeo):\n",
    "    if pd.isna(ciudad):\n",
    "        return np.nan\n",
    "    if isinstance(ciudad, str):  # Verificar si es un string\n",
    "        for ciudad_estandar, variantes in mapeo.items():\n",
    "            if ciudad in variantes:\n",
    "                return ciudad_estandar\n",
    "    return ciudad\n",
    "\n",
    "# Crear el mapeo\n",
    "mapeo = mapear_ciudades(df)\n",
    "\n",
    "# Crear una nueva columna en el DataFrame con la ciudad estandarizada\n",
    "df['ciudad_estandarizada'] = df['CIUDAD RESIDENCIA'].apply(lambda x: obtener_ciudad_estandar(x, mapeo))\n"
   ]
  },
  {
   "cell_type": "code",
   "execution_count": 116,
   "metadata": {},
   "outputs": [
    {
     "data": {
      "text/plain": [
       "258"
      ]
     },
     "execution_count": 116,
     "metadata": {},
     "output_type": "execute_result"
    }
   ],
   "source": [
    "df['ciudad_estandarizada'].nunique()"
   ]
  },
  {
   "cell_type": "code",
   "execution_count": 117,
   "metadata": {},
   "outputs": [],
   "source": [
    "cidades_path = root.DIR_DATA_RAW + 'ciudades.csv'\n",
    "df_ciudades = pd.read_csv(cidades_path)"
   ]
  },
  {
   "cell_type": "markdown",
   "metadata": {},
   "source": [
    "### Obtener longitud y latitud"
   ]
  },
  {
   "cell_type": "code",
   "execution_count": 118,
   "metadata": {},
   "outputs": [],
   "source": [
    "def check_similarity_and_estandarize(x, cities_list):\n",
    "    if not isinstance(x, str) or pd.isnull(x):\n",
    "        return np.nan\n",
    "    for city in cities_list:\n",
    "        similarity = fuzz.ratio(x, city)\n",
    "        if similarity >= 80:\n",
    "            return city\n",
    "    return np.nan"
   ]
  },
  {
   "cell_type": "code",
   "execution_count": 119,
   "metadata": {},
   "outputs": [],
   "source": [
    "def check_similarity(x, cities_list):\n",
    "    if not isinstance(x, str) or pd.isnull(x):\n",
    "        return False\n",
    "    return any(fuzz.ratio(x, city) >= 80 for city in cities_list)"
   ]
  },
  {
   "cell_type": "code",
   "execution_count": 120,
   "metadata": {},
   "outputs": [],
   "source": [
    "def transform_string(x):\n",
    "    cities = ['girardota','copacabana']\n",
    "    for city in cities:\n",
    "        if x == city:\n",
    "            return 'bello'\n",
    "    return x"
   ]
  },
  {
   "cell_type": "code",
   "execution_count": 121,
   "metadata": {},
   "outputs": [],
   "source": [
    "df['ciudad_estandarizada'] = df['ciudad_estandarizada'].apply(transform_string)"
   ]
  },
  {
   "cell_type": "code",
   "execution_count": 122,
   "metadata": {},
   "outputs": [],
   "source": [
    "df['En_lista'] = df['ciudad_estandarizada'].apply(check_similarity, cities_list=df_ciudades['name'].values)"
   ]
  },
  {
   "cell_type": "code",
   "execution_count": 123,
   "metadata": {},
   "outputs": [
    {
     "data": {
      "text/plain": [
       "En_lista\n",
       "True     4048\n",
       "False     125\n",
       "Name: count, dtype: int64"
      ]
     },
     "execution_count": 123,
     "metadata": {},
     "output_type": "execute_result"
    }
   ],
   "source": [
    "df['En_lista'].dropna().value_counts()"
   ]
  },
  {
   "cell_type": "code",
   "execution_count": 124,
   "metadata": {},
   "outputs": [],
   "source": [
    "df['ciudad_estandarizada'] = df['ciudad_estandarizada'].apply(check_similarity_and_estandarize, cities_list=df_ciudades['name'].values)"
   ]
  },
  {
   "cell_type": "code",
   "execution_count": 125,
   "metadata": {},
   "outputs": [
    {
     "data": {
      "text/plain": [
       "125"
      ]
     },
     "execution_count": 125,
     "metadata": {},
     "output_type": "execute_result"
    }
   ],
   "source": [
    "df['ciudad_estandarizada'].isnull().sum()"
   ]
  },
  {
   "cell_type": "markdown",
   "metadata": {},
   "source": [
    "Imputar los que no estan en la lista con la ciudad que mas se repite"
   ]
  },
  {
   "cell_type": "code",
   "execution_count": 126,
   "metadata": {},
   "outputs": [
    {
     "name": "stderr",
     "output_type": "stream",
     "text": [
      "C:\\Users\\jgome\\AppData\\Local\\Temp\\ipykernel_6636\\2354175572.py:1: FutureWarning: A value is trying to be set on a copy of a DataFrame or Series through chained assignment using an inplace method.\n",
      "The behavior will change in pandas 3.0. This inplace method will never work because the intermediate object on which we are setting values always behaves as a copy.\n",
      "\n",
      "For example, when doing 'df[col].method(value, inplace=True)', try using 'df.method({col: value}, inplace=True)' or df[col] = df[col].method(value) instead, to perform the operation inplace on the original object.\n",
      "\n",
      "\n",
      "  df['ciudad_estandarizada'].fillna(df['ciudad_estandarizada'].mode()[0], inplace=True)\n"
     ]
    }
   ],
   "source": [
    "df['ciudad_estandarizada'].fillna(df['ciudad_estandarizada'].mode()[0], inplace=True)"
   ]
  },
  {
   "cell_type": "code",
   "execution_count": 127,
   "metadata": {},
   "outputs": [],
   "source": [
    "city_coords = df_ciudades.set_index('name')['location'].T.to_dict()"
   ]
  },
  {
   "cell_type": "code",
   "execution_count": 128,
   "metadata": {},
   "outputs": [],
   "source": [
    "df['Ubicacion'] = df['ciudad_estandarizada'].map(city_coords)"
   ]
  },
  {
   "cell_type": "code",
   "execution_count": 129,
   "metadata": {},
   "outputs": [],
   "source": [
    "regex = r'\"latitude\":(-?\\d+\\.\\d+),\"longitude\":(-?\\d+\\.\\d+)'\n",
    "def extraer_latitud(ubicacion):\n",
    "    if pd.isna(ubicacion):\n",
    "        return None\n",
    "    match = re.search(regex, ubicacion)\n",
    "    if match:\n",
    "        return float(match.group(1))\n",
    "    else:\n",
    "        return None\n",
    "\n",
    "# Función para extraer longitud\n",
    "def extraer_longitud(ubicacion):\n",
    "    if pd.isna(ubicacion):\n",
    "        return None\n",
    "    match = re.search(regex, ubicacion)\n",
    "    if match:\n",
    "        return float(match.group(2))\n",
    "    else:\n",
    "        return None\n",
    "\n",
    "# Crear columnas de latitud y longitud\n",
    "df['latitud'] = df['Ubicacion'].apply(extraer_latitud)\n",
    "df['longitud'] = df['Ubicacion'].apply(extraer_longitud)"
   ]
  },
  {
   "cell_type": "code",
   "execution_count": 130,
   "metadata": {},
   "outputs": [
    {
     "data": {
      "text/html": [
       "<div>\n",
       "<style scoped>\n",
       "    .dataframe tbody tr th:only-of-type {\n",
       "        vertical-align: middle;\n",
       "    }\n",
       "\n",
       "    .dataframe tbody tr th {\n",
       "        vertical-align: top;\n",
       "    }\n",
       "\n",
       "    .dataframe thead th {\n",
       "        text-align: right;\n",
       "    }\n",
       "</style>\n",
       "<table border=\"1\" class=\"dataframe\">\n",
       "  <thead>\n",
       "    <tr style=\"text-align: right;\">\n",
       "      <th></th>\n",
       "      <th>ciudad_estandarizada</th>\n",
       "      <th>latitud</th>\n",
       "      <th>longitud</th>\n",
       "    </tr>\n",
       "  </thead>\n",
       "  <tbody>\n",
       "    <tr>\n",
       "      <th>0</th>\n",
       "      <td>pasto</td>\n",
       "      <td>1.21361</td>\n",
       "      <td>-77.28111</td>\n",
       "    </tr>\n",
       "    <tr>\n",
       "      <th>1</th>\n",
       "      <td>buga</td>\n",
       "      <td>3.90089</td>\n",
       "      <td>-76.29783</td>\n",
       "    </tr>\n",
       "    <tr>\n",
       "      <th>2</th>\n",
       "      <td>cucutilla</td>\n",
       "      <td>7.53941</td>\n",
       "      <td>-72.77238</td>\n",
       "    </tr>\n",
       "    <tr>\n",
       "      <th>3</th>\n",
       "      <td>bogota</td>\n",
       "      <td>4.60971</td>\n",
       "      <td>-74.08175</td>\n",
       "    </tr>\n",
       "    <tr>\n",
       "      <th>4</th>\n",
       "      <td>la celia</td>\n",
       "      <td>5.04333</td>\n",
       "      <td>-76.01667</td>\n",
       "    </tr>\n",
       "    <tr>\n",
       "      <th>5</th>\n",
       "      <td>cucutilla</td>\n",
       "      <td>7.53941</td>\n",
       "      <td>-72.77238</td>\n",
       "    </tr>\n",
       "    <tr>\n",
       "      <th>6</th>\n",
       "      <td>campoalegre</td>\n",
       "      <td>2.68489</td>\n",
       "      <td>-75.32311</td>\n",
       "    </tr>\n",
       "    <tr>\n",
       "      <th>7</th>\n",
       "      <td>medellin</td>\n",
       "      <td>6.25184</td>\n",
       "      <td>-75.56359</td>\n",
       "    </tr>\n",
       "    <tr>\n",
       "      <th>8</th>\n",
       "      <td>pereira</td>\n",
       "      <td>4.81333</td>\n",
       "      <td>-75.69611</td>\n",
       "    </tr>\n",
       "    <tr>\n",
       "      <th>9</th>\n",
       "      <td>bogota</td>\n",
       "      <td>4.60971</td>\n",
       "      <td>-74.08175</td>\n",
       "    </tr>\n",
       "    <tr>\n",
       "      <th>10</th>\n",
       "      <td>cartagena</td>\n",
       "      <td>10.39972</td>\n",
       "      <td>-75.51444</td>\n",
       "    </tr>\n",
       "    <tr>\n",
       "      <th>11</th>\n",
       "      <td>garzon</td>\n",
       "      <td>2.19593</td>\n",
       "      <td>-75.62777</td>\n",
       "    </tr>\n",
       "    <tr>\n",
       "      <th>12</th>\n",
       "      <td>bogota</td>\n",
       "      <td>4.60971</td>\n",
       "      <td>-74.08175</td>\n",
       "    </tr>\n",
       "    <tr>\n",
       "      <th>13</th>\n",
       "      <td>villanueva</td>\n",
       "      <td>6.67169</td>\n",
       "      <td>-73.17421</td>\n",
       "    </tr>\n",
       "    <tr>\n",
       "      <th>14</th>\n",
       "      <td>bello</td>\n",
       "      <td>6.33732</td>\n",
       "      <td>-75.55795</td>\n",
       "    </tr>\n",
       "    <tr>\n",
       "      <th>15</th>\n",
       "      <td>bello</td>\n",
       "      <td>6.33732</td>\n",
       "      <td>-75.55795</td>\n",
       "    </tr>\n",
       "    <tr>\n",
       "      <th>16</th>\n",
       "      <td>bogota</td>\n",
       "      <td>4.60971</td>\n",
       "      <td>-74.08175</td>\n",
       "    </tr>\n",
       "    <tr>\n",
       "      <th>17</th>\n",
       "      <td>envigado</td>\n",
       "      <td>6.17591</td>\n",
       "      <td>-75.59174</td>\n",
       "    </tr>\n",
       "    <tr>\n",
       "      <th>18</th>\n",
       "      <td>bogota</td>\n",
       "      <td>4.60971</td>\n",
       "      <td>-74.08175</td>\n",
       "    </tr>\n",
       "    <tr>\n",
       "      <th>19</th>\n",
       "      <td>bogota</td>\n",
       "      <td>4.60971</td>\n",
       "      <td>-74.08175</td>\n",
       "    </tr>\n",
       "  </tbody>\n",
       "</table>\n",
       "</div>"
      ],
      "text/plain": [
       "   ciudad_estandarizada   latitud  longitud\n",
       "0                 pasto   1.21361 -77.28111\n",
       "1                  buga   3.90089 -76.29783\n",
       "2             cucutilla   7.53941 -72.77238\n",
       "3                bogota   4.60971 -74.08175\n",
       "4              la celia   5.04333 -76.01667\n",
       "5             cucutilla   7.53941 -72.77238\n",
       "6           campoalegre   2.68489 -75.32311\n",
       "7              medellin   6.25184 -75.56359\n",
       "8               pereira   4.81333 -75.69611\n",
       "9                bogota   4.60971 -74.08175\n",
       "10            cartagena  10.39972 -75.51444\n",
       "11               garzon   2.19593 -75.62777\n",
       "12               bogota   4.60971 -74.08175\n",
       "13           villanueva   6.67169 -73.17421\n",
       "14                bello   6.33732 -75.55795\n",
       "15                bello   6.33732 -75.55795\n",
       "16               bogota   4.60971 -74.08175\n",
       "17             envigado   6.17591 -75.59174\n",
       "18               bogota   4.60971 -74.08175\n",
       "19               bogota   4.60971 -74.08175"
      ]
     },
     "execution_count": 130,
     "metadata": {},
     "output_type": "execute_result"
    }
   ],
   "source": [
    "df[['ciudad_estandarizada', 'latitud','longitud']].head(20)"
   ]
  },
  {
   "cell_type": "markdown",
   "metadata": {},
   "source": [
    "## Procesamiento tiempo en trabajo\n"
   ]
  },
  {
   "cell_type": "code",
   "execution_count": 131,
   "metadata": {},
   "outputs": [],
   "source": [
    "def eliminar_valores_numericos_grandes(valor):\n",
    "    if str(valor).isnumeric() and len(str(valor)) > 2:\n",
    "        return np.nan\n",
    "    return valor"
   ]
  },
  {
   "cell_type": "code",
   "execution_count": 132,
   "metadata": {},
   "outputs": [],
   "source": [
    "df['TIEMPO TRABAJO'] = df['TIEMPO TRABAJO'].apply(eliminar_valores_numericos_grandes)"
   ]
  },
  {
   "cell_type": "code",
   "execution_count": 133,
   "metadata": {},
   "outputs": [],
   "source": [
    "def agregar_anios(valor):\n",
    "    if str(valor).isnumeric():\n",
    "        return str(valor) + ' anos'\n",
    "    return valor\n",
    "\n",
    "df['TIEMPO TRABAJO'] = df['TIEMPO TRABAJO'].apply(agregar_anios)"
   ]
  },
  {
   "cell_type": "code",
   "execution_count": 134,
   "metadata": {},
   "outputs": [],
   "source": [
    "# Separar datos con letras y números\n",
    "df['TIEMPO TRABAJO'] = df['TIEMPO TRABAJO'].fillna('nan')\n",
    "letras_numeros = df['TIEMPO TRABAJO'].str.contains(r'[a-zA-Z]', regex=True)\n",
    "#letras_numeros = letras_numeros.fillna('nan')  # Rellenar NaN con False\n",
    "df['letras_numeros'] = df['TIEMPO TRABAJO'][letras_numeros]\n",
    "df['letras_numeros'] = df['letras_numeros'].replace('nan', np.nan)\n",
    "df['fechas_trab'] = df['TIEMPO TRABAJO'][~letras_numeros]"
   ]
  },
  {
   "cell_type": "code",
   "execution_count": 135,
   "metadata": {},
   "outputs": [],
   "source": [
    "def es_fecha(texto):\n",
    "    if pd.isna(texto):\n",
    "        return np.nan\n",
    "    texto = re.sub(r'(\\D)(\\d)', r'\\1 \\2', texto)\n",
    "    texto = re.sub(r'[^a-zA-Z0-9\\s]', ' ', texto)\n",
    "    texto = re.sub(r'\\s+', ' ', texto)\n",
    "    \n",
    "    \n",
    "    meses = r'(enero|febrero|marzo|abril|mayo|junio|julio|agosto|septiembre|octubre|noviembre|diciembre)'\n",
    "    patron = rf'({meses} \\d{{1,2}} de \\d{{4}}|{meses} \\d{{1,2}} \\d{{4}}|{meses} – \\d{{1,2}} – \\d{{4}}|{meses}\\d{{1,2}}-\\d{{4}})'\n",
    "    match = re.search(patron, texto)\n",
    "    if match:\n",
    "        return match.group()\n",
    "\n",
    "df['fechas'] = df['letras_numeros'].apply(es_fecha)"
   ]
  },
  {
   "cell_type": "code",
   "execution_count": 136,
   "metadata": {},
   "outputs": [
    {
     "data": {
      "text/plain": [
       "264       marzo 1 de 2019\n",
       "318          mayo 15 2018\n",
       "2927       agosto 20 2000\n",
       "3236    noviembre 19 2018\n",
       "3769         julio 2 2015\n",
       "Name: fechas, dtype: object"
      ]
     },
     "execution_count": 136,
     "metadata": {},
     "output_type": "execute_result"
    }
   ],
   "source": [
    "df['fechas'].dropna().head()"
   ]
  },
  {
   "cell_type": "code",
   "execution_count": 137,
   "metadata": {},
   "outputs": [],
   "source": [
    "def obtener_valor_numerico(texto):\n",
    "    if texto is not np.nan:\n",
    "        texto = str(texto)\n",
    "        texto = texto.lower()\n",
    "        meses = 0\n",
    "        anios = 0\n",
    "        if 'mes' in texto:\n",
    "            meses = re.findall(r'(\\d+)\\s*(?:mes?|meses?)', texto)\n",
    "            if len(meses)==0:\n",
    "                meses = 1\n",
    "            else:    \n",
    "                meses = int(meses[0])\n",
    "                \n",
    "        if any(word in texto.lower() for word in ['años', 'anos', 'año', 'años', 'ano']):\n",
    "            anios = re.findall(r'(\\d+)\\s*(?:años?|anos?|año)', texto)\n",
    "            if len(anios)==0:\n",
    "                anios = 12\n",
    "            else:    \n",
    "                anios = 12*int(anios[0])\n",
    "        if 'medio' in texto:\n",
    "            meses = meses + 6\n",
    "        return meses + anios\n",
    "    return np.nan"
   ]
  },
  {
   "cell_type": "code",
   "execution_count": 138,
   "metadata": {},
   "outputs": [],
   "source": [
    "df['letras_numeros'] = df['letras_numeros'].apply(obtener_valor_numerico)"
   ]
  },
  {
   "cell_type": "code",
   "execution_count": 139,
   "metadata": {},
   "outputs": [
    {
     "data": {
      "text/html": [
       "<div>\n",
       "<style scoped>\n",
       "    .dataframe tbody tr th:only-of-type {\n",
       "        vertical-align: middle;\n",
       "    }\n",
       "\n",
       "    .dataframe tbody tr th {\n",
       "        vertical-align: top;\n",
       "    }\n",
       "\n",
       "    .dataframe thead th {\n",
       "        text-align: right;\n",
       "    }\n",
       "</style>\n",
       "<table border=\"1\" class=\"dataframe\">\n",
       "  <thead>\n",
       "    <tr style=\"text-align: right;\">\n",
       "      <th></th>\n",
       "      <th>TIEMPO TRABAJO</th>\n",
       "      <th>letras_numeros</th>\n",
       "    </tr>\n",
       "  </thead>\n",
       "  <tbody>\n",
       "    <tr>\n",
       "      <th>0</th>\n",
       "      <td>24 meses</td>\n",
       "      <td>24.0</td>\n",
       "    </tr>\n",
       "    <tr>\n",
       "      <th>1</th>\n",
       "      <td>12 meses</td>\n",
       "      <td>12.0</td>\n",
       "    </tr>\n",
       "    <tr>\n",
       "      <th>2</th>\n",
       "      <td>1 ano</td>\n",
       "      <td>12.0</td>\n",
       "    </tr>\n",
       "    <tr>\n",
       "      <th>3</th>\n",
       "      <td>nan</td>\n",
       "      <td>NaN</td>\n",
       "    </tr>\n",
       "    <tr>\n",
       "      <th>4</th>\n",
       "      <td>9 horas</td>\n",
       "      <td>0.0</td>\n",
       "    </tr>\n",
       "  </tbody>\n",
       "</table>\n",
       "</div>"
      ],
      "text/plain": [
       "  TIEMPO TRABAJO  letras_numeros\n",
       "0       24 meses            24.0\n",
       "1       12 meses            12.0\n",
       "2          1 ano            12.0\n",
       "3            nan             NaN\n",
       "4        9 horas             0.0"
      ]
     },
     "execution_count": 139,
     "metadata": {},
     "output_type": "execute_result"
    }
   ],
   "source": [
    "df[['TIEMPO TRABAJO','letras_numeros']].head(5)"
   ]
  },
  {
   "cell_type": "code",
   "execution_count": 140,
   "metadata": {},
   "outputs": [
    {
     "data": {
      "text/html": [
       "<div>\n",
       "<style scoped>\n",
       "    .dataframe tbody tr th:only-of-type {\n",
       "        vertical-align: middle;\n",
       "    }\n",
       "\n",
       "    .dataframe tbody tr th {\n",
       "        vertical-align: top;\n",
       "    }\n",
       "\n",
       "    .dataframe thead th {\n",
       "        text-align: right;\n",
       "    }\n",
       "</style>\n",
       "<table border=\"1\" class=\"dataframe\">\n",
       "  <thead>\n",
       "    <tr style=\"text-align: right;\">\n",
       "      <th></th>\n",
       "      <th>TIEMPO TRABAJO</th>\n",
       "      <th>fechas_trab</th>\n",
       "    </tr>\n",
       "  </thead>\n",
       "  <tbody>\n",
       "    <tr>\n",
       "      <th>19</th>\n",
       "      <td>2018-01-15</td>\n",
       "      <td>2018-01-15</td>\n",
       "    </tr>\n",
       "    <tr>\n",
       "      <th>51</th>\n",
       "      <td>2021-03-01</td>\n",
       "      <td>2021-03-01</td>\n",
       "    </tr>\n",
       "    <tr>\n",
       "      <th>53</th>\n",
       "      <td>2020-02-04</td>\n",
       "      <td>2020-02-04</td>\n",
       "    </tr>\n",
       "    <tr>\n",
       "      <th>76</th>\n",
       "      <td>2019-05-27</td>\n",
       "      <td>2019-05-27</td>\n",
       "    </tr>\n",
       "    <tr>\n",
       "      <th>77</th>\n",
       "      <td>2019-07-23</td>\n",
       "      <td>2019-07-23</td>\n",
       "    </tr>\n",
       "  </tbody>\n",
       "</table>\n",
       "</div>"
      ],
      "text/plain": [
       "   TIEMPO TRABAJO fechas_trab\n",
       "19     2018-01-15  2018-01-15\n",
       "51     2021-03-01  2021-03-01\n",
       "53     2020-02-04  2020-02-04\n",
       "76     2019-05-27  2019-05-27\n",
       "77     2019-07-23  2019-07-23"
      ]
     },
     "execution_count": 140,
     "metadata": {},
     "output_type": "execute_result"
    }
   ],
   "source": [
    "df[['TIEMPO TRABAJO','fechas_trab']].dropna().head(5)"
   ]
  },
  {
   "cell_type": "code",
   "execution_count": 141,
   "metadata": {},
   "outputs": [
    {
     "name": "stdout",
     "output_type": "stream",
     "text": [
      "<class 'pandas.core.series.Series'>\n",
      "RangeIndex: 4173 entries, 0 to 4172\n",
      "Series name: fechas_trab\n",
      "Non-Null Count  Dtype \n",
      "--------------  ----- \n",
      "2544 non-null   object\n",
      "dtypes: object(1)\n",
      "memory usage: 32.7+ KB\n"
     ]
    }
   ],
   "source": [
    "df['fechas_trab'].info()"
   ]
  },
  {
   "cell_type": "code",
   "execution_count": 142,
   "metadata": {},
   "outputs": [],
   "source": [
    "locale.setlocale(locale.LC_TIME, 'es_ES.UTF-8')\n",
    "\n",
    "df['fechas'] = df['fechas'].str.replace(' de ', ' ').str.capitalize()\n",
    "df['fechas'] = pd.to_datetime(df['fechas'], format='%B %d %Y') "
   ]
  },
  {
   "cell_type": "code",
   "execution_count": 143,
   "metadata": {},
   "outputs": [],
   "source": [
    "df['fechas_trab'] = df['fechas_trab'].str.replace('/', '-')\n",
    "df['TIEMPO TRABAJO FORMATO 1'] = pd.to_datetime(df['fechas_trab'], format='%Y-%m-%d', errors='coerce')\n",
    "df['TIEMPO TRABAJO FORMATO 2'] = pd.to_datetime(df['fechas_trab'], format='%d-%m-%Y', errors='coerce')"
   ]
  },
  {
   "cell_type": "code",
   "execution_count": 144,
   "metadata": {},
   "outputs": [],
   "source": [
    "df['TIEMPO TRABAJO FORMATO 2'] = df['TIEMPO TRABAJO FORMATO 2'].dt.strftime('%Y-%m-%d')"
   ]
  },
  {
   "cell_type": "code",
   "execution_count": 145,
   "metadata": {},
   "outputs": [],
   "source": [
    "df['fechas_trab'] = df['TIEMPO TRABAJO FORMATO 1'].fillna(df['TIEMPO TRABAJO FORMATO 2'])"
   ]
  },
  {
   "cell_type": "code",
   "execution_count": 146,
   "metadata": {},
   "outputs": [],
   "source": [
    "df['fechas_trab'] = df['fechas_trab'].fillna(df['fechas'])"
   ]
  },
  {
   "cell_type": "code",
   "execution_count": 147,
   "metadata": {},
   "outputs": [
    {
     "name": "stdout",
     "output_type": "stream",
     "text": [
      "<class 'pandas.core.series.Series'>\n",
      "RangeIndex: 4173 entries, 0 to 4172\n",
      "Series name: meses_transcurridos\n",
      "Non-Null Count  Dtype  \n",
      "--------------  -----  \n",
      "2497 non-null   float64\n",
      "dtypes: float64(1)\n",
      "memory usage: 32.7 KB\n"
     ]
    }
   ],
   "source": [
    "df['meses_transcurridos'] = ((df['FECHA DESEMBOLSO'] - df['fechas_trab']) / pd.Timedelta(days=30.44))\n",
    "df['meses_transcurridos'].info()"
   ]
  },
  {
   "cell_type": "code",
   "execution_count": 148,
   "metadata": {},
   "outputs": [],
   "source": [
    "def convertir_a_nan(valor):\n",
    "    if pd.isnull(valor) or valor < 0:\n",
    "        return np.nan\n",
    "    return valor"
   ]
  },
  {
   "cell_type": "code",
   "execution_count": 149,
   "metadata": {},
   "outputs": [
    {
     "name": "stdout",
     "output_type": "stream",
     "text": [
      "<class 'pandas.core.series.Series'>\n",
      "RangeIndex: 4173 entries, 0 to 4172\n",
      "Series name: meses_transcurridos\n",
      "Non-Null Count  Dtype  \n",
      "--------------  -----  \n",
      "2241 non-null   float64\n",
      "dtypes: float64(1)\n",
      "memory usage: 32.7 KB\n"
     ]
    }
   ],
   "source": [
    "df['meses_transcurridos'] = df['meses_transcurridos'].apply(convertir_a_nan)\n",
    "df['meses_transcurridos'].info()"
   ]
  },
  {
   "cell_type": "code",
   "execution_count": 150,
   "metadata": {},
   "outputs": [],
   "source": [
    "df['meses_transcurridos'] = df['meses_transcurridos'].fillna(df['letras_numeros'])"
   ]
  },
  {
   "cell_type": "code",
   "execution_count": 151,
   "metadata": {},
   "outputs": [
    {
     "data": {
      "text/html": [
       "<div>\n",
       "<style scoped>\n",
       "    .dataframe tbody tr th:only-of-type {\n",
       "        vertical-align: middle;\n",
       "    }\n",
       "\n",
       "    .dataframe tbody tr th {\n",
       "        vertical-align: top;\n",
       "    }\n",
       "\n",
       "    .dataframe thead th {\n",
       "        text-align: right;\n",
       "    }\n",
       "</style>\n",
       "<table border=\"1\" class=\"dataframe\">\n",
       "  <thead>\n",
       "    <tr style=\"text-align: right;\">\n",
       "      <th></th>\n",
       "      <th>FECHA DESEMBOLSO</th>\n",
       "      <th>TIEMPO TRABAJO</th>\n",
       "      <th>meses_transcurridos</th>\n",
       "    </tr>\n",
       "  </thead>\n",
       "  <tbody>\n",
       "    <tr>\n",
       "      <th>0</th>\n",
       "      <td>2015-06-18</td>\n",
       "      <td>24 meses</td>\n",
       "      <td>24.0</td>\n",
       "    </tr>\n",
       "    <tr>\n",
       "      <th>1</th>\n",
       "      <td>2015-06-18</td>\n",
       "      <td>12 meses</td>\n",
       "      <td>12.0</td>\n",
       "    </tr>\n",
       "    <tr>\n",
       "      <th>2</th>\n",
       "      <td>2015-06-10</td>\n",
       "      <td>1 ano</td>\n",
       "      <td>12.0</td>\n",
       "    </tr>\n",
       "    <tr>\n",
       "      <th>3</th>\n",
       "      <td>2015-06-16</td>\n",
       "      <td>nan</td>\n",
       "      <td>NaN</td>\n",
       "    </tr>\n",
       "    <tr>\n",
       "      <th>4</th>\n",
       "      <td>2015-06-17</td>\n",
       "      <td>9 horas</td>\n",
       "      <td>0.0</td>\n",
       "    </tr>\n",
       "    <tr>\n",
       "      <th>5</th>\n",
       "      <td>2015-06-16</td>\n",
       "      <td>3 anos</td>\n",
       "      <td>36.0</td>\n",
       "    </tr>\n",
       "    <tr>\n",
       "      <th>6</th>\n",
       "      <td>2015-06-16</td>\n",
       "      <td>nan</td>\n",
       "      <td>NaN</td>\n",
       "    </tr>\n",
       "    <tr>\n",
       "      <th>7</th>\n",
       "      <td>2015-06-26</td>\n",
       "      <td>3 meses</td>\n",
       "      <td>3.0</td>\n",
       "    </tr>\n",
       "    <tr>\n",
       "      <th>8</th>\n",
       "      <td>2015-06-23</td>\n",
       "      <td>1 ano</td>\n",
       "      <td>12.0</td>\n",
       "    </tr>\n",
       "    <tr>\n",
       "      <th>9</th>\n",
       "      <td>2015-06-23</td>\n",
       "      <td>nan</td>\n",
       "      <td>NaN</td>\n",
       "    </tr>\n",
       "    <tr>\n",
       "      <th>10</th>\n",
       "      <td>2015-06-24</td>\n",
       "      <td>2 anos</td>\n",
       "      <td>24.0</td>\n",
       "    </tr>\n",
       "    <tr>\n",
       "      <th>11</th>\n",
       "      <td>2015-06-24</td>\n",
       "      <td>nan</td>\n",
       "      <td>NaN</td>\n",
       "    </tr>\n",
       "    <tr>\n",
       "      <th>12</th>\n",
       "      <td>2015-06-25</td>\n",
       "      <td>1 mes y 10 dias</td>\n",
       "      <td>1.0</td>\n",
       "    </tr>\n",
       "    <tr>\n",
       "      <th>13</th>\n",
       "      <td>2015-06-26</td>\n",
       "      <td>4 anos</td>\n",
       "      <td>48.0</td>\n",
       "    </tr>\n",
       "    <tr>\n",
       "      <th>14</th>\n",
       "      <td>2015-06-27</td>\n",
       "      <td>3 anos</td>\n",
       "      <td>36.0</td>\n",
       "    </tr>\n",
       "    <tr>\n",
       "      <th>15</th>\n",
       "      <td>2015-07-01</td>\n",
       "      <td>2 anos</td>\n",
       "      <td>24.0</td>\n",
       "    </tr>\n",
       "    <tr>\n",
       "      <th>16</th>\n",
       "      <td>2015-07-02</td>\n",
       "      <td>nan</td>\n",
       "      <td>NaN</td>\n",
       "    </tr>\n",
       "    <tr>\n",
       "      <th>17</th>\n",
       "      <td>2015-07-03</td>\n",
       "      <td>nan</td>\n",
       "      <td>NaN</td>\n",
       "    </tr>\n",
       "    <tr>\n",
       "      <th>18</th>\n",
       "      <td>2015-07-03</td>\n",
       "      <td>6 meses</td>\n",
       "      <td>6.0</td>\n",
       "    </tr>\n",
       "    <tr>\n",
       "      <th>19</th>\n",
       "      <td>2015-07-03</td>\n",
       "      <td>2018-01-15</td>\n",
       "      <td>NaN</td>\n",
       "    </tr>\n",
       "  </tbody>\n",
       "</table>\n",
       "</div>"
      ],
      "text/plain": [
       "   FECHA DESEMBOLSO   TIEMPO TRABAJO  meses_transcurridos\n",
       "0        2015-06-18         24 meses                 24.0\n",
       "1        2015-06-18         12 meses                 12.0\n",
       "2        2015-06-10            1 ano                 12.0\n",
       "3        2015-06-16              nan                  NaN\n",
       "4        2015-06-17          9 horas                  0.0\n",
       "5        2015-06-16           3 anos                 36.0\n",
       "6        2015-06-16              nan                  NaN\n",
       "7        2015-06-26          3 meses                  3.0\n",
       "8        2015-06-23            1 ano                 12.0\n",
       "9        2015-06-23              nan                  NaN\n",
       "10       2015-06-24           2 anos                 24.0\n",
       "11       2015-06-24              nan                  NaN\n",
       "12       2015-06-25  1 mes y 10 dias                  1.0\n",
       "13       2015-06-26           4 anos                 48.0\n",
       "14       2015-06-27           3 anos                 36.0\n",
       "15       2015-07-01           2 anos                 24.0\n",
       "16       2015-07-02              nan                  NaN\n",
       "17       2015-07-03              nan                  NaN\n",
       "18       2015-07-03          6 meses                  6.0\n",
       "19       2015-07-03       2018-01-15                  NaN"
      ]
     },
     "execution_count": 151,
     "metadata": {},
     "output_type": "execute_result"
    }
   ],
   "source": [
    "df[['FECHA DESEMBOLSO','TIEMPO TRABAJO','meses_transcurridos']].head(20)\n",
    "\n"
   ]
  },
  {
   "cell_type": "code",
   "execution_count": 152,
   "metadata": {},
   "outputs": [
    {
     "data": {
      "text/html": [
       "<div>\n",
       "<style scoped>\n",
       "    .dataframe tbody tr th:only-of-type {\n",
       "        vertical-align: middle;\n",
       "    }\n",
       "\n",
       "    .dataframe tbody tr th {\n",
       "        vertical-align: top;\n",
       "    }\n",
       "\n",
       "    .dataframe thead th {\n",
       "        text-align: right;\n",
       "    }\n",
       "</style>\n",
       "<table border=\"1\" class=\"dataframe\">\n",
       "  <thead>\n",
       "    <tr style=\"text-align: right;\">\n",
       "      <th></th>\n",
       "      <th>TIEMPO TRABAJO</th>\n",
       "      <th>meses_transcurridos</th>\n",
       "    </tr>\n",
       "  </thead>\n",
       "  <tbody>\n",
       "    <tr>\n",
       "      <th>1742</th>\n",
       "      <td>154 anos</td>\n",
       "      <td>1848.0</td>\n",
       "    </tr>\n",
       "    <tr>\n",
       "      <th>1858</th>\n",
       "      <td>84 anos</td>\n",
       "      <td>1008.0</td>\n",
       "    </tr>\n",
       "    <tr>\n",
       "      <th>3170</th>\n",
       "      <td>84 anos</td>\n",
       "      <td>1008.0</td>\n",
       "    </tr>\n",
       "  </tbody>\n",
       "</table>\n",
       "</div>"
      ],
      "text/plain": [
       "     TIEMPO TRABAJO  meses_transcurridos\n",
       "1742       154 anos               1848.0\n",
       "1858        84 anos               1008.0\n",
       "3170        84 anos               1008.0"
      ]
     },
     "execution_count": 152,
     "metadata": {},
     "output_type": "execute_result"
    }
   ],
   "source": [
    "df[['TIEMPO TRABAJO','meses_transcurridos']][df['meses_transcurridos']>1000]"
   ]
  },
  {
   "cell_type": "code",
   "execution_count": 155,
   "metadata": {},
   "outputs": [
    {
     "data": {
      "text/plain": [
       "Index(['PLAZO', 'CAPITAL', 'INT CORRIENTE', 'FECHA DESEMBOLSO',\n",
       "       'PRÓXIMA FECHA PAGO', 'DÍAS MORA', 'Cuotas en mora', 'TIPO EMPLEO',\n",
       "       'CIUDAD RESIDENCIA', 'TRABAJO', 'TIPO DE VIVIENDA', 'ESTRATO',\n",
       "       'AÑOS EN LA VIVIENDA', 'INGRESOS MENSUALES', 'GASTOS MENSUALES',\n",
       "       'INGRESOS ADICIONALES', 'TIPO DE CONTRATO', 'PERIODO DE PAGO',\n",
       "       'ESTADO CIVIL', 'NIVEL EDUCATIVO', 'PERSONAS A CARGO',\n",
       "       'NUMERO DE HIJOS', 'TIPO DE VEHICULO', 'TIEMPO TRABAJO',\n",
       "       'NUM.CREDITOS SOLICITADOS', 'USUARIO RECURRENTE',\n",
       "       'ciudad_estandarizada', 'En_lista', 'Ubicacion', 'latitud', 'longitud',\n",
       "       'letras_numeros', 'fechas_trab', 'fechas', 'TIEMPO TRABAJO FORMATO 1',\n",
       "       'TIEMPO TRABAJO FORMATO 2', 'meses_transcurridos'],\n",
       "      dtype='object')"
      ]
     },
     "execution_count": 155,
     "metadata": {},
     "output_type": "execute_result"
    }
   ],
   "source": [
    "df.columns"
   ]
  },
  {
   "cell_type": "code",
   "execution_count": 156,
   "metadata": {},
   "outputs": [],
   "source": [
    "## Columnas a eliminar\n",
    "columas_to_drop = ['TIEMPO TRABAJO','fechas','fechas_trab','TIEMPO TRABAJO FORMATO 1',\n",
    "                   'TIEMPO TRABAJO FORMATO 2','letras_numeros', 'FECHA DESEMBOLSO',\n",
    "                   'CIUDAD RESIDENCIA','Ubicacion','TRABAJO','ciudad_estandarizada', 'En_lista',]\n",
    "df.drop(columas_to_drop, axis=1, inplace=True)"
   ]
  },
  {
   "cell_type": "markdown",
   "metadata": {},
   "source": [
    "# Guardado del df resultante"
   ]
  },
  {
   "cell_type": "code",
   "execution_count": 157,
   "metadata": {},
   "outputs": [
    {
     "data": {
      "text/plain": [
       "Index(['PLAZO', 'CAPITAL', 'INT CORRIENTE', 'PRÓXIMA FECHA PAGO', 'DÍAS MORA',\n",
       "       'Cuotas en mora', 'TIPO EMPLEO', 'TIPO DE VIVIENDA', 'ESTRATO',\n",
       "       'AÑOS EN LA VIVIENDA', 'INGRESOS MENSUALES', 'GASTOS MENSUALES',\n",
       "       'INGRESOS ADICIONALES', 'TIPO DE CONTRATO', 'PERIODO DE PAGO',\n",
       "       'ESTADO CIVIL', 'NIVEL EDUCATIVO', 'PERSONAS A CARGO',\n",
       "       'NUMERO DE HIJOS', 'TIPO DE VEHICULO', 'NUM.CREDITOS SOLICITADOS',\n",
       "       'USUARIO RECURRENTE', 'latitud', 'longitud', 'meses_transcurridos'],\n",
       "      dtype='object')"
      ]
     },
     "execution_count": 157,
     "metadata": {},
     "output_type": "execute_result"
    }
   ],
   "source": [
    "df.columns"
   ]
  },
  {
   "cell_type": "code",
   "execution_count": 158,
   "metadata": {},
   "outputs": [],
   "source": [
    "ruta1 = '../data/stage/db_pross_info_users.csv'\n",
    "df.to_csv(ruta1, index=False) "
   ]
  }
 ],
 "metadata": {
  "kernelspec": {
   "display_name": "DataScience",
   "language": "python",
   "name": "python3"
  },
  "language_info": {
   "codemirror_mode": {
    "name": "ipython",
    "version": 3
   },
   "file_extension": ".py",
   "mimetype": "text/x-python",
   "name": "python",
   "nbconvert_exporter": "python",
   "pygments_lexer": "ipython3",
   "version": "3.12.2"
  }
 },
 "nbformat": 4,
 "nbformat_minor": 2
}
