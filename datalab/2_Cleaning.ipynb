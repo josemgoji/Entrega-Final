{
 "cells": [
  {
   "cell_type": "code",
   "execution_count": 1,
   "metadata": {},
   "outputs": [],
   "source": [
    "import pandas as pd\n",
    "import numpy as np\n",
    "import seaborn as sns\n",
    "from scipy.stats import chi2\n",
    "import os\n",
    "import sys"
   ]
  },
  {
   "cell_type": "code",
   "execution_count": 2,
   "metadata": {},
   "outputs": [],
   "source": [
    "current_dir = os.getcwd() # Obtener la ruta del directorio actual del notebook\n",
    "ROOT_PATH = os.path.dirname(current_dir) # Obtener la ruta del directorio superior\n",
    "sys.path.insert(1, ROOT_PATH) # Insertar la ruta en sys.path\n",
    "\n",
    "import root # Importar el módulo root\n",
    "\n",
    "df_path = root.DIR_DATA_RAW + 'db_v0.xlsx'"
   ]
  },
  {
   "cell_type": "code",
   "execution_count": 3,
   "metadata": {},
   "outputs": [],
   "source": [
    "df_raw = pd.read_excel(df_path)"
   ]
  },
  {
   "cell_type": "code",
   "execution_count": 4,
   "metadata": {},
   "outputs": [],
   "source": [
    "df_processed = df_raw.copy()"
   ]
  },
  {
   "cell_type": "markdown",
   "metadata": {},
   "source": [
    "## Eliminacion de registros sin informacion de mora o pago\n"
   ]
  },
  {
   "cell_type": "markdown",
   "metadata": {},
   "source": [
    "Se eliminaran los registros que a la fecha de corte de la base de datos , no llegaron a la fecha de pago, por lo tal no se tiene informacion de si pagaran o estaran en mora, por lo que no es de utilidad para el entrenamiento del mododelo\n"
   ]
  },
  {
   "cell_type": "code",
   "execution_count": 5,
   "metadata": {},
   "outputs": [],
   "source": [
    "df_processed = df_processed[df_processed['CAPITAL.1'] == 0]"
   ]
  },
  {
   "cell_type": "code",
   "execution_count": 6,
   "metadata": {},
   "outputs": [
    {
     "data": {
      "text/plain": [
       "(117654, 60)"
      ]
     },
     "execution_count": 6,
     "metadata": {},
     "output_type": "execute_result"
    }
   ],
   "source": [
    "df_processed.shape"
   ]
  },
  {
   "cell_type": "markdown",
   "metadata": {},
   "source": [
    "## Generacion de columna de numero de prestamos que ha realizado la misma persona\n"
   ]
  },
  {
   "cell_type": "markdown",
   "metadata": {},
   "source": [
    "Debido a que la columna 'ID_USUARIO' por si sola no es de utilidad para el modelo, antes de hacer la eliminacion de esta se utilizara para obtener informacion relevante, como el numero de veces que un mismo 'ID_USUARIO' ha solicitado un credito.\n"
   ]
  },
  {
   "cell_type": "code",
   "execution_count": 7,
   "metadata": {},
   "outputs": [],
   "source": [
    "df_processed['NUM.CREDITOS SOLICITADOS'] = df_processed.groupby('ID_USUARIO').cumcount() + 1 "
   ]
  },
  {
   "cell_type": "code",
   "execution_count": 8,
   "metadata": {},
   "outputs": [
    {
     "data": {
      "text/html": [
       "<div>\n",
       "<style scoped>\n",
       "    .dataframe tbody tr th:only-of-type {\n",
       "        vertical-align: middle;\n",
       "    }\n",
       "\n",
       "    .dataframe tbody tr th {\n",
       "        vertical-align: top;\n",
       "    }\n",
       "\n",
       "    .dataframe thead th {\n",
       "        text-align: right;\n",
       "    }\n",
       "</style>\n",
       "<table border=\"1\" class=\"dataframe\">\n",
       "  <thead>\n",
       "    <tr style=\"text-align: right;\">\n",
       "      <th></th>\n",
       "      <th>ID_USUARIO</th>\n",
       "      <th>NUM.CREDITOS SOLICITADOS</th>\n",
       "    </tr>\n",
       "  </thead>\n",
       "  <tbody>\n",
       "    <tr>\n",
       "      <th>155</th>\n",
       "      <td>156</td>\n",
       "      <td>1</td>\n",
       "    </tr>\n",
       "    <tr>\n",
       "      <th>73026</th>\n",
       "      <td>156</td>\n",
       "      <td>2</td>\n",
       "    </tr>\n",
       "    <tr>\n",
       "      <th>83182</th>\n",
       "      <td>156</td>\n",
       "      <td>3</td>\n",
       "    </tr>\n",
       "    <tr>\n",
       "      <th>93316</th>\n",
       "      <td>156</td>\n",
       "      <td>4</td>\n",
       "    </tr>\n",
       "  </tbody>\n",
       "</table>\n",
       "</div>"
      ],
      "text/plain": [
       "       ID_USUARIO  NUM.CREDITOS SOLICITADOS\n",
       "155           156                         1\n",
       "73026         156                         2\n",
       "83182         156                         3\n",
       "93316         156                         4"
      ]
     },
     "execution_count": 8,
     "metadata": {},
     "output_type": "execute_result"
    }
   ],
   "source": [
    "df_processed[['ID_USUARIO','NUM.CREDITOS SOLICITADOS']][df_processed['ID_USUARIO']==156]"
   ]
  },
  {
   "cell_type": "markdown",
   "metadata": {},
   "source": [
    "## Generacion columna de usuario recurrente"
   ]
  },
  {
   "cell_type": "code",
   "execution_count": 9,
   "metadata": {},
   "outputs": [
    {
     "data": {
      "text/html": [
       "<div>\n",
       "<style scoped>\n",
       "    .dataframe tbody tr th:only-of-type {\n",
       "        vertical-align: middle;\n",
       "    }\n",
       "\n",
       "    .dataframe tbody tr th {\n",
       "        vertical-align: top;\n",
       "    }\n",
       "\n",
       "    .dataframe thead th {\n",
       "        text-align: right;\n",
       "    }\n",
       "</style>\n",
       "<table border=\"1\" class=\"dataframe\">\n",
       "  <thead>\n",
       "    <tr style=\"text-align: right;\">\n",
       "      <th></th>\n",
       "      <th>USUARIO RECURRENTE</th>\n",
       "      <th>NUM.CREDITOS SOLICITADOS</th>\n",
       "    </tr>\n",
       "  </thead>\n",
       "  <tbody>\n",
       "    <tr>\n",
       "      <th>155</th>\n",
       "      <td>0</td>\n",
       "      <td>1</td>\n",
       "    </tr>\n",
       "    <tr>\n",
       "      <th>73026</th>\n",
       "      <td>1</td>\n",
       "      <td>2</td>\n",
       "    </tr>\n",
       "    <tr>\n",
       "      <th>83182</th>\n",
       "      <td>1</td>\n",
       "      <td>3</td>\n",
       "    </tr>\n",
       "    <tr>\n",
       "      <th>93316</th>\n",
       "      <td>1</td>\n",
       "      <td>4</td>\n",
       "    </tr>\n",
       "  </tbody>\n",
       "</table>\n",
       "</div>"
      ],
      "text/plain": [
       "       USUARIO RECURRENTE  NUM.CREDITOS SOLICITADOS\n",
       "155                     0                         1\n",
       "73026                   1                         2\n",
       "83182                   1                         3\n",
       "93316                   1                         4"
      ]
     },
     "execution_count": 9,
     "metadata": {},
     "output_type": "execute_result"
    }
   ],
   "source": [
    "def usuario_recurrente(df):\n",
    "    if df['NUM.CREDITOS SOLICITADOS'] > 1:\n",
    "        return 1\n",
    "    else:\n",
    "        return 0\n",
    "    \n",
    "df_processed['USUARIO RECURRENTE'] = df_processed.apply(usuario_recurrente, axis=1)\n",
    "df_processed[['USUARIO RECURRENTE', 'NUM.CREDITOS SOLICITADOS']][df_processed['ID_USUARIO']==156]"
   ]
  },
  {
   "cell_type": "markdown",
   "metadata": {},
   "source": [
    "## Eliminacion de columnas redundantes o innecesarias\n"
   ]
  },
  {
   "cell_type": "markdown",
   "metadata": {},
   "source": [
    "Para decidir cuales columnas deben eliminarse, se tomo encuenta el conocimiento del negocio por parte de la empresa LUMON y lo sanalisi srealizados en el EDA (columnas sin varianza o alto numero de valores nulos)\n"
   ]
  },
  {
   "cell_type": "code",
   "execution_count": 10,
   "metadata": {},
   "outputs": [],
   "source": [
    "columns_to_drop = ['ID_USUARIO', 'ID CREDITO', 'PRODUCTO', 'MONEDA', 'CUOTAS',\n",
    "       'PERIODICIDAD CUOTAS','TASA CORRIENTE', 'TASA SEGURO',\n",
    "       'TASA AVAL', 'IVA AVAL', 'DESC AVAL', 'DESC AVAL AL DESEMB','Cuotas pagadas',\n",
    "       'GESTIÓN DIGITAL', 'DESC. X INCLUSION', 'IVA GEST DIG',\n",
    "       'COD. PROMO DESC.', 'FACTURA VENTA','GESTIÓN DIGITAL.1', 'IVA',\n",
    "       'VALOR DESEMBOLSADO', 'VALOR FUTURO', 'CAPITAL.1',\n",
    "       'CAPITAL EN MORA', 'INT CORRIENTE.1', 'SEGURO.1', 'GESTIÓN DIGITAL.2',\n",
    "       'IVA.1','GAC','Cuotas Futuras', 'ESTADO 2',\n",
    "       'DEUDA A LA FECHA', 'DEUDA TOTAL CRÉDITO', 'SEGURO', 'INT MORA',\n",
    "]"
   ]
  },
  {
   "cell_type": "code",
   "execution_count": 11,
   "metadata": {},
   "outputs": [],
   "source": [
    "df_processed = df_processed.drop(columns_to_drop, axis=1)"
   ]
  },
  {
   "cell_type": "code",
   "execution_count": 12,
   "metadata": {},
   "outputs": [
    {
     "data": {
      "text/plain": [
       "Index(['PLAZO', 'CAPITAL', 'INT CORRIENTE', 'FECHA DESEMBOLSO',\n",
       "       'PRÓXIMA FECHA PAGO', 'DÍAS MORA', 'Cuotas en mora', 'ESTADO 1',\n",
       "       'TIPO EMPLEO', 'CIUDAD RESIDENCIA', 'TRABAJO', 'TIPO DE VIVIENDA',\n",
       "       'ESTRATO', 'AÑOS EN LA VIVIENDA', 'INGRESOS MENSUALES',\n",
       "       'GASTOS MENSUALES', 'INGRESOS ADICIONALES', 'TIPO DE CONTRATO',\n",
       "       'PERIODO DE PAGO', 'ESTADO CIVIL', 'NIVEL EDUCATIVO',\n",
       "       'PERSONAS A CARGO', 'NUMERO DE HIJOS', 'TIPO DE VEHICULO',\n",
       "       'TIEMPO TRABAJO', 'NUM.CREDITOS SOLICITADOS', 'USUARIO RECURRENTE'],\n",
       "      dtype='object')"
      ]
     },
     "execution_count": 12,
     "metadata": {},
     "output_type": "execute_result"
    }
   ],
   "source": [
    "df_processed.columns"
   ]
  },
  {
   "cell_type": "markdown",
   "metadata": {},
   "source": [
    "## Divsion del data set\n"
   ]
  },
  {
   "cell_type": "markdown",
   "metadata": {},
   "source": [
    "Como se observo en el EDA , los datos de la Informacion de los usuarios, tienen un 97% de datos nulos, por lo cual se decide dividir el data set, dejando uno que contenga todas las columnas pero solo con los registros que no tengan datos nulos en la Informacion de los usuarios, y otro dataset con todos los registros sin incluir las columnas de informacion de los usuarios.\n"
   ]
  },
  {
   "cell_type": "code",
   "execution_count": 13,
   "metadata": {},
   "outputs": [],
   "source": [
    "df_users_info = df_processed.copy()\n",
    "df_users_info = df_users_info.dropna(subset='AÑOS EN LA VIVIENDA')"
   ]
  },
  {
   "cell_type": "code",
   "execution_count": 14,
   "metadata": {},
   "outputs": [
    {
     "data": {
      "text/plain": [
       "Index(['PLAZO', 'CAPITAL', 'INT CORRIENTE', 'FECHA DESEMBOLSO',\n",
       "       'PRÓXIMA FECHA PAGO', 'DÍAS MORA', 'Cuotas en mora', 'ESTADO 1',\n",
       "       'TIPO EMPLEO', 'CIUDAD RESIDENCIA', 'TRABAJO', 'TIPO DE VIVIENDA',\n",
       "       'ESTRATO', 'AÑOS EN LA VIVIENDA', 'INGRESOS MENSUALES',\n",
       "       'GASTOS MENSUALES', 'INGRESOS ADICIONALES', 'TIPO DE CONTRATO',\n",
       "       'PERIODO DE PAGO', 'ESTADO CIVIL', 'NIVEL EDUCATIVO',\n",
       "       'PERSONAS A CARGO', 'NUMERO DE HIJOS', 'TIPO DE VEHICULO',\n",
       "       'TIEMPO TRABAJO', 'NUM.CREDITOS SOLICITADOS', 'USUARIO RECURRENTE'],\n",
       "      dtype='object')"
      ]
     },
     "execution_count": 14,
     "metadata": {},
     "output_type": "execute_result"
    }
   ],
   "source": [
    "df_users_info.columns"
   ]
  },
  {
   "cell_type": "code",
   "execution_count": 15,
   "metadata": {},
   "outputs": [
    {
     "data": {
      "text/plain": [
       "PLAZO                          0\n",
       "CAPITAL                        0\n",
       "INT CORRIENTE                  0\n",
       "FECHA DESEMBOLSO               0\n",
       "PRÓXIMA FECHA PAGO             0\n",
       "DÍAS MORA                      0\n",
       "Cuotas en mora                 0\n",
       "ESTADO 1                       0\n",
       "TIPO EMPLEO                   31\n",
       "CIUDAD RESIDENCIA             45\n",
       "TRABAJO                      133\n",
       "TIPO DE VIVIENDA             789\n",
       "ESTRATO                       14\n",
       "AÑOS EN LA VIVIENDA            0\n",
       "INGRESOS MENSUALES           708\n",
       "GASTOS MENSUALES             728\n",
       "INGRESOS ADICIONALES        1794\n",
       "TIPO DE CONTRATO             737\n",
       "PERIODO DE PAGO              742\n",
       "ESTADO CIVIL                 795\n",
       "NIVEL EDUCATIVO              803\n",
       "PERSONAS A CARGO            1382\n",
       "NUMERO DE HIJOS             1386\n",
       "TIPO DE VEHICULO              19\n",
       "TIEMPO TRABAJO               716\n",
       "NUM.CREDITOS SOLICITADOS       0\n",
       "USUARIO RECURRENTE             0\n",
       "dtype: int64"
      ]
     },
     "execution_count": 15,
     "metadata": {},
     "output_type": "execute_result"
    }
   ],
   "source": [
    "df_users_info.isnull().sum()"
   ]
  },
  {
   "cell_type": "code",
   "execution_count": 16,
   "metadata": {},
   "outputs": [
    {
     "data": {
      "text/plain": [
       "(4173, 27)"
      ]
     },
     "execution_count": 16,
     "metadata": {},
     "output_type": "execute_result"
    }
   ],
   "source": [
    "df_users_info.shape"
   ]
  },
  {
   "cell_type": "code",
   "execution_count": 17,
   "metadata": {},
   "outputs": [
    {
     "data": {
      "text/html": [
       "<div>\n",
       "<style scoped>\n",
       "    .dataframe tbody tr th:only-of-type {\n",
       "        vertical-align: middle;\n",
       "    }\n",
       "\n",
       "    .dataframe tbody tr th {\n",
       "        vertical-align: top;\n",
       "    }\n",
       "\n",
       "    .dataframe thead th {\n",
       "        text-align: right;\n",
       "    }\n",
       "</style>\n",
       "<table border=\"1\" class=\"dataframe\">\n",
       "  <thead>\n",
       "    <tr style=\"text-align: right;\">\n",
       "      <th></th>\n",
       "      <th>DÍAS MORA</th>\n",
       "      <th>Cuotas en mora</th>\n",
       "    </tr>\n",
       "  </thead>\n",
       "  <tbody>\n",
       "    <tr>\n",
       "      <th>73</th>\n",
       "      <td>2617</td>\n",
       "      <td>0</td>\n",
       "    </tr>\n",
       "    <tr>\n",
       "      <th>81</th>\n",
       "      <td>2589</td>\n",
       "      <td>0</td>\n",
       "    </tr>\n",
       "    <tr>\n",
       "      <th>82</th>\n",
       "      <td>2579</td>\n",
       "      <td>0</td>\n",
       "    </tr>\n",
       "    <tr>\n",
       "      <th>84</th>\n",
       "      <td>2572</td>\n",
       "      <td>0</td>\n",
       "    </tr>\n",
       "    <tr>\n",
       "      <th>93</th>\n",
       "      <td>2531</td>\n",
       "      <td>0</td>\n",
       "    </tr>\n",
       "  </tbody>\n",
       "</table>\n",
       "</div>"
      ],
      "text/plain": [
       "    DÍAS MORA  Cuotas en mora\n",
       "73       2617               0\n",
       "81       2589               0\n",
       "82       2579               0\n",
       "84       2572               0\n",
       "93       2531               0"
      ]
     },
     "execution_count": 17,
     "metadata": {},
     "output_type": "execute_result"
    }
   ],
   "source": [
    "df_users_info[['DÍAS MORA','Cuotas en mora']][(df_users_info['DÍAS MORA']>0) & (df_users_info['Cuotas en mora'] == 0)].head()"
   ]
  },
  {
   "cell_type": "code",
   "execution_count": 18,
   "metadata": {},
   "outputs": [
    {
     "data": {
      "text/plain": [
       "Cuotas en mora\n",
       "1                 2630\n",
       "0                 1543\n",
       "Name: count, dtype: int64"
      ]
     },
     "execution_count": 18,
     "metadata": {},
     "output_type": "execute_result"
    }
   ],
   "source": [
    "df_users_info[['Cuotas en mora']][df_users_info['DÍAS MORA']>3].value_counts()"
   ]
  },
  {
   "cell_type": "markdown",
   "metadata": {},
   "source": [
    "### Varibale target "
   ]
  },
  {
   "cell_type": "code",
   "execution_count": 19,
   "metadata": {},
   "outputs": [],
   "source": [
    "df_users_info.loc[:, 'mora'] = (df_users_info['DÍAS MORA'] > 3).astype(int)"
   ]
  },
  {
   "cell_type": "code",
   "execution_count": 20,
   "metadata": {},
   "outputs": [
    {
     "data": {
      "text/html": [
       "<div>\n",
       "<style scoped>\n",
       "    .dataframe tbody tr th:only-of-type {\n",
       "        vertical-align: middle;\n",
       "    }\n",
       "\n",
       "    .dataframe tbody tr th {\n",
       "        vertical-align: top;\n",
       "    }\n",
       "\n",
       "    .dataframe thead th {\n",
       "        text-align: right;\n",
       "    }\n",
       "</style>\n",
       "<table border=\"1\" class=\"dataframe\">\n",
       "  <thead>\n",
       "    <tr style=\"text-align: right;\">\n",
       "      <th></th>\n",
       "      <th>DÍAS MORA</th>\n",
       "      <th>Cuotas en mora</th>\n",
       "      <th>mora</th>\n",
       "      <th>ESTADO 1</th>\n",
       "    </tr>\n",
       "  </thead>\n",
       "  <tbody>\n",
       "    <tr>\n",
       "      <th>73</th>\n",
       "      <td>2617</td>\n",
       "      <td>0</td>\n",
       "      <td>1</td>\n",
       "      <td>PAGADO CON RETRASO</td>\n",
       "    </tr>\n",
       "    <tr>\n",
       "      <th>81</th>\n",
       "      <td>2589</td>\n",
       "      <td>0</td>\n",
       "      <td>1</td>\n",
       "      <td>PAGADO CON RETRASO</td>\n",
       "    </tr>\n",
       "    <tr>\n",
       "      <th>82</th>\n",
       "      <td>2579</td>\n",
       "      <td>0</td>\n",
       "      <td>1</td>\n",
       "      <td>PAGADO CON RETRASO</td>\n",
       "    </tr>\n",
       "    <tr>\n",
       "      <th>84</th>\n",
       "      <td>2572</td>\n",
       "      <td>0</td>\n",
       "      <td>1</td>\n",
       "      <td>PAGADO CON RETRASO</td>\n",
       "    </tr>\n",
       "    <tr>\n",
       "      <th>93</th>\n",
       "      <td>2531</td>\n",
       "      <td>0</td>\n",
       "      <td>1</td>\n",
       "      <td>PAGADO CON RETRASO</td>\n",
       "    </tr>\n",
       "  </tbody>\n",
       "</table>\n",
       "</div>"
      ],
      "text/plain": [
       "    DÍAS MORA  Cuotas en mora  mora            ESTADO 1\n",
       "73       2617               0     1  PAGADO CON RETRASO\n",
       "81       2589               0     1  PAGADO CON RETRASO\n",
       "82       2579               0     1  PAGADO CON RETRASO\n",
       "84       2572               0     1  PAGADO CON RETRASO\n",
       "93       2531               0     1  PAGADO CON RETRASO"
      ]
     },
     "execution_count": 20,
     "metadata": {},
     "output_type": "execute_result"
    }
   ],
   "source": [
    "df_users_info[['DÍAS MORA','Cuotas en mora','mora','ESTADO 1']][(df_users_info['DÍAS MORA']>0) & (df_users_info['Cuotas en mora'] == 0)].head()"
   ]
  },
  {
   "cell_type": "code",
   "execution_count": 21,
   "metadata": {},
   "outputs": [
    {
     "data": {
      "text/plain": [
       "mora\n",
       "1    4173\n",
       "Name: count, dtype: int64"
      ]
     },
     "execution_count": 21,
     "metadata": {},
     "output_type": "execute_result"
    }
   ],
   "source": [
    "df_users_info['mora'].value_counts()"
   ]
  },
  {
   "cell_type": "code",
   "execution_count": 22,
   "metadata": {},
   "outputs": [],
   "source": [
    "df_users_info.drop(['ESTADO 1','mora'], axis=1, inplace=True)"
   ]
  },
  {
   "cell_type": "markdown",
   "metadata": {},
   "source": [
    "## DF credit info"
   ]
  },
  {
   "cell_type": "code",
   "execution_count": 23,
   "metadata": {},
   "outputs": [],
   "source": [
    "users_info_columns = ['TIPO EMPLEO', 'CIUDAD RESIDENCIA', 'TRABAJO',\n",
    "       'TIPO DE VIVIENDA', 'ESTRATO', 'AÑOS EN LA VIVIENDA',\n",
    "       'INGRESOS MENSUALES', 'GASTOS MENSUALES', 'INGRESOS ADICIONALES',\n",
    "       'TIPO DE CONTRATO', 'PERIODO DE PAGO', 'ESTADO CIVIL',\n",
    "       'NIVEL EDUCATIVO', 'PERSONAS A CARGO', 'NUMERO DE HIJOS',\n",
    "       'TIPO DE VEHICULO', 'TIEMPO TRABAJO']\n",
    "\n",
    "df_reduced = df_processed.drop(users_info_columns,axis=1)"
   ]
  },
  {
   "cell_type": "code",
   "execution_count": 24,
   "metadata": {},
   "outputs": [
    {
     "data": {
      "text/plain": [
       "(117654, 10)"
      ]
     },
     "execution_count": 24,
     "metadata": {},
     "output_type": "execute_result"
    }
   ],
   "source": [
    "df_reduced.shape"
   ]
  },
  {
   "cell_type": "markdown",
   "metadata": {},
   "source": [
    "### Variable target?"
   ]
  },
  {
   "cell_type": "code",
   "execution_count": 25,
   "metadata": {},
   "outputs": [
    {
     "data": {
      "text/html": [
       "<div>\n",
       "<style scoped>\n",
       "    .dataframe tbody tr th:only-of-type {\n",
       "        vertical-align: middle;\n",
       "    }\n",
       "\n",
       "    .dataframe tbody tr th {\n",
       "        vertical-align: top;\n",
       "    }\n",
       "\n",
       "    .dataframe thead th {\n",
       "        text-align: right;\n",
       "    }\n",
       "</style>\n",
       "<table border=\"1\" class=\"dataframe\">\n",
       "  <thead>\n",
       "    <tr style=\"text-align: right;\">\n",
       "      <th></th>\n",
       "      <th>DÍAS MORA</th>\n",
       "      <th>Cuotas en mora</th>\n",
       "      <th>ESTADO 1</th>\n",
       "    </tr>\n",
       "  </thead>\n",
       "  <tbody>\n",
       "    <tr>\n",
       "      <th>73</th>\n",
       "      <td>2617</td>\n",
       "      <td>0</td>\n",
       "      <td>PAGADO CON RETRASO</td>\n",
       "    </tr>\n",
       "    <tr>\n",
       "      <th>81</th>\n",
       "      <td>2589</td>\n",
       "      <td>0</td>\n",
       "      <td>PAGADO CON RETRASO</td>\n",
       "    </tr>\n",
       "    <tr>\n",
       "      <th>82</th>\n",
       "      <td>2579</td>\n",
       "      <td>0</td>\n",
       "      <td>PAGADO CON RETRASO</td>\n",
       "    </tr>\n",
       "    <tr>\n",
       "      <th>84</th>\n",
       "      <td>2572</td>\n",
       "      <td>0</td>\n",
       "      <td>PAGADO CON RETRASO</td>\n",
       "    </tr>\n",
       "    <tr>\n",
       "      <th>93</th>\n",
       "      <td>2531</td>\n",
       "      <td>0</td>\n",
       "      <td>PAGADO CON RETRASO</td>\n",
       "    </tr>\n",
       "  </tbody>\n",
       "</table>\n",
       "</div>"
      ],
      "text/plain": [
       "    DÍAS MORA  Cuotas en mora            ESTADO 1\n",
       "73       2617               0  PAGADO CON RETRASO\n",
       "81       2589               0  PAGADO CON RETRASO\n",
       "82       2579               0  PAGADO CON RETRASO\n",
       "84       2572               0  PAGADO CON RETRASO\n",
       "93       2531               0  PAGADO CON RETRASO"
      ]
     },
     "execution_count": 25,
     "metadata": {},
     "output_type": "execute_result"
    }
   ],
   "source": [
    "df_reduced[['DÍAS MORA','Cuotas en mora','ESTADO 1']][(df_reduced['DÍAS MORA']>0) & (df_reduced['Cuotas en mora'] == 0)].head()"
   ]
  },
  {
   "cell_type": "code",
   "execution_count": 26,
   "metadata": {},
   "outputs": [
    {
     "data": {
      "text/plain": [
       "Cuotas en mora\n",
       "0                 32300\n",
       "1                 11738\n",
       "Name: count, dtype: int64"
      ]
     },
     "execution_count": 26,
     "metadata": {},
     "output_type": "execute_result"
    }
   ],
   "source": [
    "df_reduced[['Cuotas en mora']][df_reduced['DÍAS MORA']>3].value_counts()"
   ]
  },
  {
   "cell_type": "code",
   "execution_count": 27,
   "metadata": {},
   "outputs": [],
   "source": [
    "df_reduced.loc[:, 'mora'] = (df_reduced['DÍAS MORA'] > 3).astype(int)"
   ]
  },
  {
   "cell_type": "code",
   "execution_count": 28,
   "metadata": {},
   "outputs": [
    {
     "data": {
      "text/html": [
       "<div>\n",
       "<style scoped>\n",
       "    .dataframe tbody tr th:only-of-type {\n",
       "        vertical-align: middle;\n",
       "    }\n",
       "\n",
       "    .dataframe tbody tr th {\n",
       "        vertical-align: top;\n",
       "    }\n",
       "\n",
       "    .dataframe thead th {\n",
       "        text-align: right;\n",
       "    }\n",
       "</style>\n",
       "<table border=\"1\" class=\"dataframe\">\n",
       "  <thead>\n",
       "    <tr style=\"text-align: right;\">\n",
       "      <th></th>\n",
       "      <th>DÍAS MORA</th>\n",
       "      <th>Cuotas en mora</th>\n",
       "      <th>mora</th>\n",
       "      <th>ESTADO 1</th>\n",
       "    </tr>\n",
       "  </thead>\n",
       "  <tbody>\n",
       "    <tr>\n",
       "      <th>73</th>\n",
       "      <td>2617</td>\n",
       "      <td>0</td>\n",
       "      <td>1</td>\n",
       "      <td>PAGADO CON RETRASO</td>\n",
       "    </tr>\n",
       "    <tr>\n",
       "      <th>81</th>\n",
       "      <td>2589</td>\n",
       "      <td>0</td>\n",
       "      <td>1</td>\n",
       "      <td>PAGADO CON RETRASO</td>\n",
       "    </tr>\n",
       "    <tr>\n",
       "      <th>82</th>\n",
       "      <td>2579</td>\n",
       "      <td>0</td>\n",
       "      <td>1</td>\n",
       "      <td>PAGADO CON RETRASO</td>\n",
       "    </tr>\n",
       "    <tr>\n",
       "      <th>84</th>\n",
       "      <td>2572</td>\n",
       "      <td>0</td>\n",
       "      <td>1</td>\n",
       "      <td>PAGADO CON RETRASO</td>\n",
       "    </tr>\n",
       "    <tr>\n",
       "      <th>93</th>\n",
       "      <td>2531</td>\n",
       "      <td>0</td>\n",
       "      <td>1</td>\n",
       "      <td>PAGADO CON RETRASO</td>\n",
       "    </tr>\n",
       "  </tbody>\n",
       "</table>\n",
       "</div>"
      ],
      "text/plain": [
       "    DÍAS MORA  Cuotas en mora  mora            ESTADO 1\n",
       "73       2617               0     1  PAGADO CON RETRASO\n",
       "81       2589               0     1  PAGADO CON RETRASO\n",
       "82       2579               0     1  PAGADO CON RETRASO\n",
       "84       2572               0     1  PAGADO CON RETRASO\n",
       "93       2531               0     1  PAGADO CON RETRASO"
      ]
     },
     "execution_count": 28,
     "metadata": {},
     "output_type": "execute_result"
    }
   ],
   "source": [
    "df_reduced[['DÍAS MORA','Cuotas en mora','mora','ESTADO 1']][(df_reduced['DÍAS MORA']>0) & (df_reduced['Cuotas en mora'] == 0)].head()"
   ]
  },
  {
   "cell_type": "code",
   "execution_count": 29,
   "metadata": {},
   "outputs": [
    {
     "data": {
      "text/plain": [
       "mora\n",
       "0    73616\n",
       "1    44038\n",
       "Name: count, dtype: int64"
      ]
     },
     "execution_count": 29,
     "metadata": {},
     "output_type": "execute_result"
    }
   ],
   "source": [
    "df_reduced['mora'].value_counts()"
   ]
  },
  {
   "cell_type": "code",
   "execution_count": 30,
   "metadata": {},
   "outputs": [],
   "source": [
    "df_reduced.drop(['DÍAS MORA','Cuotas en mora','ESTADO 1','FECHA DESEMBOLSO'], axis=1, inplace=True)"
   ]
  },
  {
   "cell_type": "markdown",
   "metadata": {},
   "source": [
    "### Guardar los datos en stage\n"
   ]
  },
  {
   "cell_type": "code",
   "execution_count": 31,
   "metadata": {},
   "outputs": [],
   "source": [
    "ruta1 = root.DIR_DATA_RAW + 'db_raw_infousers.csv'\n",
    "df_users_info.to_csv(ruta1, index=False) "
   ]
  },
  {
   "cell_type": "code",
   "execution_count": 32,
   "metadata": {},
   "outputs": [],
   "source": [
    "ruta2 = root.DIR_DATA_RAW + 'db_raw_reducida.csv'\n",
    "df_reduced.to_csv(ruta2, index=False) "
   ]
  }
 ],
 "metadata": {
  "kernelspec": {
   "display_name": "DataScience",
   "language": "python",
   "name": "python3"
  },
  "language_info": {
   "codemirror_mode": {
    "name": "ipython",
    "version": 3
   },
   "file_extension": ".py",
   "mimetype": "text/x-python",
   "name": "python",
   "nbconvert_exporter": "python",
   "pygments_lexer": "ipython3",
   "version": "3.12.2"
  }
 },
 "nbformat": 4,
 "nbformat_minor": 2
}
